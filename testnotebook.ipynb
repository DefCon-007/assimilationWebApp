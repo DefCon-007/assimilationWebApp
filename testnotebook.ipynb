{
 "cells": [
  {
   "cell_type": "code",
   "execution_count": 1,
   "metadata": {},
   "outputs": [],
   "source": [
    "from django.contrib.auth.models import User"
   ]
  },
  {
   "cell_type": "code",
   "execution_count": 41,
   "metadata": {},
   "outputs": [],
   "source": [
    "from django.contrib.auth.models import Group\n",
    "from pprint import pprint\n",
    "from django.db.models import Q\n",
    "from api.models import event\n",
    "import datetime"
   ]
  },
  {
   "cell_type": "code",
   "execution_count": 18,
   "metadata": {},
   "outputs": [],
   "source": [
    "userlist=[{'fname': 'sabrine', 'lname': 'de zwart', 'dob': '1969-12-29', 'username': 'bigdog830', 'grp': ['hc_rk', 'dep_ag', 'admin']}, {'fname': 'latife', 'lname': 'abanuz', 'dob': '1959-12-10', 'username': 'browngorilla385', 'grp': ['hc_rk', 'dep_ag', 'admin']}, {'fname': 'ivana', 'lname': 'birner', 'dob': '1954-03-16', 'username': 'organicgorilla871', 'grp': ['hc_rk', 'dep_ag', 'admin']}, {'fname': 'ida', 'lname': 'møller', 'dob': '1960-05-01', 'username': 'greenmouse762', 'grp': ['hc_rk', 'dep_ag', 'admin']}, {'fname': 'jense', 'lname': 'de schepper', 'dob': '1982-03-02', 'username': 'ticklishmouse693', 'grp': ['hc_rk', 'dep_ag', 'admin']}, {'fname': 'ray', 'lname': 'wade', 'dob': '1982-03-02', 'username': 'yellowduck695'}, {'fname': 'hugh', 'lname': 'day', 'dob': '1962-08-08', 'username': 'crazysnake361', 'grp': ['hc_rk', 'dep_ar', 'admin']}, {'fname': 'مانی', 'lname': 'احمدی', 'dob': '1945-12-03', 'username': 'smallmouse365', 'grp': ['hc_rk', 'dep_ar', 'admin']}, {'fname': 'nikolaus', 'lname': 'lacroix', 'dob': '1973-10-21', 'username': 'purplezebra670', 'grp': ['hc_rk', 'dep_ar', 'admin']}, {'fname': 'alberte', 'lname': 'pedersen', 'dob': '1953-10-18', 'username': 'lazybird248', 'grp': ['hc_rk', 'dep_ar', 'admin']}, {'fname': 'rute', 'lname': 'sales', 'dob': '1948-06-30', 'username': 'crazyrabbit395'}, {'fname': 'encarnacion', 'lname': 'diez', 'dob': '1956-03-30', 'username': 'beautifulgorilla106', 'grp': ['hc_rp', 'dep_ag', 'admin']}, {'fname': 'judas', 'lname': 'da rocha', 'dob': '1986-06-05', 'username': 'redpanda232', 'grp': ['hc_rp', 'dep_ag', 'admin']}, {'fname': 'nicole', 'lname': 'steward', 'dob': '1947-03-12', 'username': 'purplesnake386', 'grp': ['hc_rp', 'dep_ag', 'admin']}, {'fname': 'محمدطاها', 'lname': 'موسوی', 'dob': '1991-10-21', 'username': 'ticklishduck180', 'grp': ['hc_rp', 'dep_ag', 'admin']}, {'fname': 'gül', 'lname': 'aykaç', 'dob': '1958-03-20', 'username': 'silverrabbit892', 'grp': ['hc_rp', 'dep_ag', 'admin']}, {'fname': 'ellen', 'lname': 'pietila', 'dob': '1964-03-27', 'username': 'blackbear270', 'grp': ['hc_rp', 'dep_ag', 'admin']}, {'fname': 'ryan', 'lname': 'roy', 'dob': '1979-11-09', 'username': 'blackswan280', 'grp': ['hc_rp', 'dep_ag', 'admin']}, {'fname': 'کیانا', 'lname': 'سالاری', 'dob': '1993-03-14', 'username': 'beautifulwolf735', 'grp': ['hc_rp', 'dep_ag', 'admin']}, {'fname': 'viljami', 'lname': 'arola', 'dob': '1961-05-01', 'username': 'bluemeercat601', 'grp': ['hc_rp', 'dep_ag', 'admin']}, {'fname': 'theresa', 'lname': 'cunningham', 'dob': '1985-11-28', 'username': 'purplegorilla819'}, {'fname': 'liepa', 'lname': 'kvalsund', 'dob': '1945-01-21', 'username': 'crazyostrich674', 'grp': ['hc_rp', 'dep_ar', 'admin']}, {'fname': 'arthur', 'lname': 'gray', 'dob': '1951-03-26', 'username': 'tinykoala136', 'grp': ['hc_rp', 'dep_ar', 'admin']}, {'fname': 'chris', 'lname': 'triebel', 'dob': '1958-08-21', 'username': 'blueladybug667', 'grp': ['hc_rp', 'dep_ar', 'admin']}, {'fname': 'william', 'lname': 'petersen', 'dob': '1950-12-03', 'username': 'heavybird888', 'grp': ['hc_rp', 'dep_ar', 'admin']}, {'fname': 'violet', 'lname': 'gomez', 'dob': '1961-06-09', 'username': 'silvermouse649'}, {'fname': 'nick', 'lname': 'montgomery', 'dob': '1977-06-14', 'username': 'redgorilla967', 'grp': ['hc_rp', 'dep_ar', 'student']}, {'fname': 'mestan', 'lname': 'dizdar', 'dob': '1947-02-23', 'username': 'blackladybug215', 'grp': ['hc_rp', 'dep_ar', 'student']}, {'fname': 'shane', 'lname': 'fowler', 'dob': '1992-02-11', 'username': 'ticklishelephant647', 'grp': ['hc_rp', 'dep_ar', 'student']}, {'fname': 'fabian', 'lname': 'leroy', 'dob': '1981-12-24', 'username': 'beautifulladybug305', 'grp': ['hc_rp', 'dep_ar', 'student']}, {'fname': 'jasper', 'lname': 'patel', 'dob': '1962-08-13', 'username': 'blueswan204', 'grp': ['hc_rp', 'dep_ar', 'student']}, {'fname': 'پرنیا', 'lname': 'موسوی', 'dob': '1975-03-25', 'username': 'organicostrich772', 'grp': ['hc_rp', 'dep_ar', 'student']}, {'fname': 'ella', 'lname': 'muller', 'dob': '1987-08-18', 'username': 'purplecat527', 'grp': ['hc_rp', 'dep_ar', 'student']}, {'fname': 'john', 'lname': 'evans', 'dob': '1963-08-20', 'username': 'yellowzebra677', 'grp': ['hc_rp', 'dep_ar', 'student']}, {'fname': 'gabriel', 'lname': 'gimenez', 'dob': '1962-02-26', 'username': 'purplebutterfly312', 'grp': ['hc_rp', 'dep_ar', 'student']}, {'fname': 'franca', 'lname': 'da mota', 'dob': '1989-11-12', 'username': 'goldenbear150'}, {'fname': 'timon', 'lname': 'aubert', 'dob': '1983-10-20', 'username': 'sadduck114', 'grp': ['hc_rp', 'dep_ag', 'student']}, {'fname': 'timothee', 'lname': 'perez', 'dob': '1984-10-07', 'username': 'happylion362', 'grp': ['hc_rp', 'dep_ag', 'student']}, {'fname': 'ariane', 'lname': 'taylor', 'dob': '1974-03-05', 'username': 'redkoala394', 'grp': ['hc_rp', 'dep_ag', 'student']}, {'fname': 'sofia', 'lname': 'johnson', 'dob': '1947-09-13', 'username': 'beautifulgoose926', 'grp': ['hc_rp', 'dep_ag', 'student']}, {'fname': 'ramon', 'lname': 'driesse', 'dob': '1949-08-04', 'username': 'yellowgorilla835', 'grp': ['hc_rk', 'dep_ag', 'student']}, {'fname': 'maria', 'lname': 'jørgensen', 'dob': '1962-07-02', 'username': 'whitelion276', 'grp': ['hc_rk', 'dep_ag', 'student']}, {'fname': 'antonie', 'lname': 'steffan', 'dob': '1954-11-02', 'username': 'happyelephant645', 'grp': ['hc_rk', 'dep_ag', 'student']}, {'fname': 'tirill', 'lname': 'eike', 'dob': '1995-06-10', 'username': 'heavyduck343', 'grp': ['hc_rk', 'dep_ag', 'student']}, {'fname': 'sara', 'lname': 'jørgensen', 'dob': '1944-09-24', 'username': 'silverelephant368', 'grp': ['hc_rk', 'dep_ag', 'student']}, {'fname': 'fatih', 'lname': 'doğan', 'dob': '1976-08-23', 'username': 'yellowelephant414'}, {'fname': 'théodore', 'lname': 'renaud', 'dob': '1978-03-27', 'username': 'blackpanda484', 'grp': ['hc_rk', 'dep_ar', 'student']}, {'fname': 'jacob', 'lname': 'patel', 'dob': '1974-10-27', 'username': 'sadzebra700', 'grp': ['hc_rk', 'dep_ar', 'student']}, {'fname': 'oliver', 'lname': 'latvala', 'dob': '1991-10-05', 'username': 'blackswan718', 'grp': ['hc_rk', 'dep_ar', 'student']}, {'fname': 'emil', 'lname': 'larsen', 'dob': '1983-10-24', 'username': 'organicladybug269', 'grp': ['hc_rk', 'dep_ar', 'student']}]"
   ]
  },
  {
   "cell_type": "code",
   "execution_count": 19,
   "metadata": {},
   "outputs": [
    {
     "name": "stdout",
     "output_type": "stream",
     "text": [
      "'grp'\n",
      "'grp'\n",
      "'grp'\n",
      "'grp'\n",
      "'grp'\n",
      "'grp'\n"
     ]
    }
   ],
   "source": [
    "for u in userlist : \n",
    "    user = User.objects.create_user(username=u[\"username\"], first_name=u[\"fname\"], last_name=u[\"lname\"], password=u['dob'])\n",
    "    try : \n",
    "        for grp in u[\"grp\"] :\n",
    "            my_group = Group.objects.get(name=grp)\n",
    "            my_group.user_set.add(user)\n",
    "    except Exception as e: \n",
    "        print(e)\n",
    "        pass\n",
    "    "
   ]
  },
  {
   "cell_type": "code",
   "execution_count": 5,
   "metadata": {},
   "outputs": [],
   "source": [
    "qu = ((User.objects.filter(groups__name=\"hc_rp\")))"
   ]
  },
  {
   "cell_type": "code",
   "execution_count": 51,
   "metadata": {},
   "outputs": [],
   "source": [
    "qu2 = qu.filter(groups__name=\"admin\")"
   ]
  },
  {
   "cell_type": "code",
   "execution_count": 38,
   "metadata": {},
   "outputs": [
    {
     "data": {
      "text/plain": [
       "<QuerySet []>"
      ]
     },
     "execution_count": 38,
     "metadata": {},
     "output_type": "execute_result"
    }
   ],
   "source": [
    "q1 = Q(groups__name=\"hc_rp\")\n",
    "q2 = Q(groups__name=\"student\")\n",
    "User.objects.filter(q2&q1)"
   ]
  },
  {
   "cell_type": "code",
   "execution_count": 13,
   "metadata": {},
   "outputs": [
    {
     "data": {
      "text/plain": [
       "''"
      ]
     },
     "execution_count": 13,
     "metadata": {},
     "output_type": "execute_result"
    }
   ],
   "source": [
    "qu[0].get_full_name()"
   ]
  },
  {
   "cell_type": "code",
   "execution_count": 44,
   "metadata": {},
   "outputs": [
    {
     "data": {
      "text/plain": [
       "['__and__',\n",
       " '__bool__',\n",
       " '__class__',\n",
       " '__deepcopy__',\n",
       " '__delattr__',\n",
       " '__dict__',\n",
       " '__dir__',\n",
       " '__doc__',\n",
       " '__eq__',\n",
       " '__format__',\n",
       " '__ge__',\n",
       " '__getattribute__',\n",
       " '__getitem__',\n",
       " '__getstate__',\n",
       " '__gt__',\n",
       " '__hash__',\n",
       " '__init__',\n",
       " '__init_subclass__',\n",
       " '__iter__',\n",
       " '__le__',\n",
       " '__len__',\n",
       " '__lt__',\n",
       " '__module__',\n",
       " '__ne__',\n",
       " '__new__',\n",
       " '__or__',\n",
       " '__reduce__',\n",
       " '__reduce_ex__',\n",
       " '__repr__',\n",
       " '__setattr__',\n",
       " '__setstate__',\n",
       " '__sizeof__',\n",
       " '__str__',\n",
       " '__subclasshook__',\n",
       " '__weakref__',\n",
       " '_add_hints',\n",
       " '_batched_insert',\n",
       " '_chain',\n",
       " '_clone',\n",
       " '_combinator_query',\n",
       " '_create_object_from_params',\n",
       " '_db',\n",
       " '_earliest_or_latest',\n",
       " '_extract_model_params',\n",
       " '_fetch_all',\n",
       " '_fields',\n",
       " '_filter_or_exclude',\n",
       " '_for_write',\n",
       " '_has_filters',\n",
       " '_hints',\n",
       " '_insert',\n",
       " '_iterable_class',\n",
       " '_iterator',\n",
       " '_known_related_objects',\n",
       " '_merge_known_related_objects',\n",
       " '_merge_sanity_check',\n",
       " '_next_is_sticky',\n",
       " '_populate_pk_values',\n",
       " '_prefetch_done',\n",
       " '_prefetch_related_lookups',\n",
       " '_prefetch_related_objects',\n",
       " '_raw_delete',\n",
       " '_result_cache',\n",
       " '_sticky_filter',\n",
       " '_update',\n",
       " '_validate_values_are_expressions',\n",
       " '_values',\n",
       " 'aggregate',\n",
       " 'all',\n",
       " 'annotate',\n",
       " 'as_manager',\n",
       " 'bulk_create',\n",
       " 'complex_filter',\n",
       " 'count',\n",
       " 'create',\n",
       " 'dates',\n",
       " 'datetimes',\n",
       " 'db',\n",
       " 'defer',\n",
       " 'delete',\n",
       " 'difference',\n",
       " 'distinct',\n",
       " 'earliest',\n",
       " 'exclude',\n",
       " 'exists',\n",
       " 'extra',\n",
       " 'filter',\n",
       " 'first',\n",
       " 'get',\n",
       " 'get_or_create',\n",
       " 'in_bulk',\n",
       " 'intersection',\n",
       " 'iterator',\n",
       " 'last',\n",
       " 'latest',\n",
       " 'model',\n",
       " 'none',\n",
       " 'only',\n",
       " 'order_by',\n",
       " 'ordered',\n",
       " 'prefetch_related',\n",
       " 'query',\n",
       " 'raw',\n",
       " 'resolve_expression',\n",
       " 'reverse',\n",
       " 'select_for_update',\n",
       " 'select_related',\n",
       " 'union',\n",
       " 'update',\n",
       " 'update_or_create',\n",
       " 'using',\n",
       " 'values',\n",
       " 'values_list']"
      ]
     },
     "execution_count": 44,
     "metadata": {},
     "output_type": "execute_result"
    }
   ],
   "source": [
    "dir(qu)"
   ]
  },
  {
   "cell_type": "code",
   "execution_count": 12,
   "metadata": {},
   "outputs": [
    {
     "data": {
      "text/plain": [
       "'encarnacion'"
      ]
     },
     "execution_count": 12,
     "metadata": {},
     "output_type": "execute_result"
    }
   ],
   "source": [
    "from api.src import databaseConnection as db\n",
    "db.getHelpersFromGroupName([\"hc_rp\"])[0].first_name"
   ]
  },
  {
   "cell_type": "code",
   "execution_count": 13,
   "metadata": {},
   "outputs": [
    {
     "ename": "AttributeError",
     "evalue": "'User' object has no attribute 'events'",
     "output_type": "error",
     "traceback": [
      "\u001b[0;31m---------------------------------------------------------------------------\u001b[0m",
      "\u001b[0;31mAttributeError\u001b[0m                            Traceback (most recent call last)",
      "\u001b[0;32m<ipython-input-13-77a81b43e83e>\u001b[0m in \u001b[0;36m<module>\u001b[0;34m()\u001b[0m\n\u001b[0;32m----> 1\u001b[0;31m \u001b[0mdir\u001b[0m\u001b[0;34m(\u001b[0m\u001b[0mdb\u001b[0m\u001b[0;34m.\u001b[0m\u001b[0mgetEventFromCreator\u001b[0m\u001b[0;34m(\u001b[0m\u001b[0;34m\"usertest\"\u001b[0m\u001b[0;34m)\u001b[0m\u001b[0;34m[\u001b[0m\u001b[0;36m6\u001b[0m\u001b[0;34m]\u001b[0m\u001b[0;34m.\u001b[0m\u001b[0mhelpers\u001b[0m\u001b[0;34m)\u001b[0m\u001b[0;34m\u001b[0m\u001b[0m\n\u001b[0m",
      "\u001b[0;32m/Volumes/Data/CODE/assimilation/assimilation/api/src/databaseConnection.py\u001b[0m in \u001b[0;36mgetEventFromCreator\u001b[0;34m(username)\u001b[0m\n\u001b[1;32m     54\u001b[0m     \u001b[0muser\u001b[0m \u001b[0;34m=\u001b[0m \u001b[0mgetUserFromUsername\u001b[0m\u001b[0;34m(\u001b[0m\u001b[0musername\u001b[0m\u001b[0;34m)\u001b[0m\u001b[0;34m\u001b[0m\u001b[0m\n\u001b[1;32m     55\u001b[0m     \u001b[0;32mif\u001b[0m \u001b[0muser\u001b[0m \u001b[0;34m:\u001b[0m\u001b[0;34m\u001b[0m\u001b[0m\n\u001b[0;32m---> 56\u001b[0;31m         \u001b[0meventList\u001b[0m \u001b[0;34m=\u001b[0m \u001b[0muser\u001b[0m\u001b[0;34m.\u001b[0m\u001b[0mevents\u001b[0m\u001b[0;34m.\u001b[0m\u001b[0mget_queryset\u001b[0m\u001b[0;34m(\u001b[0m\u001b[0;34m)\u001b[0m\u001b[0;34m\u001b[0m\u001b[0m\n\u001b[0m\u001b[1;32m     57\u001b[0m         \u001b[0;32mreturn\u001b[0m \u001b[0meventList\u001b[0m\u001b[0;34m\u001b[0m\u001b[0m\n\u001b[1;32m     58\u001b[0m     \u001b[0;32melse\u001b[0m \u001b[0;34m:\u001b[0m\u001b[0;34m\u001b[0m\u001b[0m\n",
      "\u001b[0;31mAttributeError\u001b[0m: 'User' object has no attribute 'events'"
     ]
    }
   ],
   "source": [
    "dir(db.getEventFromCreator(\"usertest\")[6].helpers)"
   ]
  },
  {
   "cell_type": "code",
   "execution_count": 26,
   "metadata": {},
   "outputs": [],
   "source": [
    "x= db.getEventFromCreator(\"usertest\")[6].helpers.get_queryset()"
   ]
  },
  {
   "cell_type": "code",
   "execution_count": 35,
   "metadata": {},
   "outputs": [
    {
     "data": {
      "text/plain": [
       "<QuerySet [<event: event object (1)>, <event: event object (2)>, <event: event object (3)>, <event: event object (4)>, <event: event object (5)>, <event: event object (6)>, <event: event object (7)>]>"
      ]
     },
     "execution_count": 35,
     "metadata": {},
     "output_type": "execute_result"
    }
   ],
   "source": [
    "event.objects.filter()"
   ]
  },
  {
   "cell_type": "code",
   "execution_count": 59,
   "metadata": {},
   "outputs": [],
   "source": [
    "eve = event.objects.get()"
   ]
  },
  {
   "cell_type": "code",
   "execution_count": 52,
   "metadata": {},
   "outputs": [
    {
     "name": "stderr",
     "output_type": "stream",
     "text": [
      "/Volumes/Data/CODE/assimilation/assimilationVENV/lib/python3.6/site-packages/django/db/models/fields/__init__.py:1423: RuntimeWarning: DateTimeField event.datetime received a naive datetime (2018-06-27 08:10:31.680245) while time zone support is active.\n",
      "  RuntimeWarning)\n"
     ]
    }
   ],
   "source": [
    "evenew = event()\n",
    "evenew.datetime= datetime.datetime.now()\n",
    "evenew.createdBy = u\n",
    "evenew.title = \"test2\"\n",
    "evenew.save()\n",
    "evenew.helpers.add(u)"
   ]
  },
  {
   "cell_type": "code",
   "execution_count": 74,
   "metadata": {},
   "outputs": [
    {
     "data": {
      "text/plain": [
       "'TestUser Test'"
      ]
     },
     "execution_count": 74,
     "metadata": {},
     "output_type": "execute_result"
    }
   ],
   "source": [
    "eve.createdBy.get_full_name()"
   ]
  },
  {
   "cell_type": "code",
   "execution_count": 71,
   "metadata": {},
   "outputs": [
    {
     "data": {
      "text/plain": [
       "'13:58'"
      ]
     },
     "execution_count": 71,
     "metadata": {},
     "output_type": "execute_result"
    }
   ],
   "source": [
    "x.strftime('%d/%m/%Y')\n",
    "x.strftime('%H:%M')"
   ]
  },
  {
   "cell_type": "code",
   "execution_count": 44,
   "metadata": {},
   "outputs": [],
   "source": [
    "u = User.objects.get(username=\"ayushgoyal.iitkgp@gmail.com\")"
   ]
  },
  {
   "cell_type": "code",
   "execution_count": 24,
   "metadata": {},
   "outputs": [
    {
     "data": {
      "text/plain": [
       "['__call__',\n",
       " '__class__',\n",
       " '__delattr__',\n",
       " '__dict__',\n",
       " '__dir__',\n",
       " '__doc__',\n",
       " '__eq__',\n",
       " '__format__',\n",
       " '__ge__',\n",
       " '__getattribute__',\n",
       " '__gt__',\n",
       " '__hash__',\n",
       " '__init__',\n",
       " '__init_subclass__',\n",
       " '__le__',\n",
       " '__lt__',\n",
       " '__module__',\n",
       " '__ne__',\n",
       " '__new__',\n",
       " '__reduce__',\n",
       " '__reduce_ex__',\n",
       " '__repr__',\n",
       " '__setattr__',\n",
       " '__sizeof__',\n",
       " '__slotnames__',\n",
       " '__str__',\n",
       " '__subclasshook__',\n",
       " '__weakref__',\n",
       " '_add_items',\n",
       " '_apply_rel_filters',\n",
       " '_build_remove_filters',\n",
       " '_constructor_args',\n",
       " '_create_user',\n",
       " '_db',\n",
       " '_get_queryset_methods',\n",
       " '_hints',\n",
       " '_insert',\n",
       " '_queryset_class',\n",
       " '_remove_items',\n",
       " '_remove_prefetched_objects',\n",
       " '_set_creation_counter',\n",
       " '_update',\n",
       " 'add',\n",
       " 'aggregate',\n",
       " 'all',\n",
       " 'annotate',\n",
       " 'auto_created',\n",
       " 'bulk_create',\n",
       " 'check',\n",
       " 'clear',\n",
       " 'complex_filter',\n",
       " 'contribute_to_class',\n",
       " 'core_filters',\n",
       " 'count',\n",
       " 'create',\n",
       " 'create_superuser',\n",
       " 'create_user',\n",
       " 'creation_counter',\n",
       " 'dates',\n",
       " 'datetimes',\n",
       " 'db',\n",
       " 'db_manager',\n",
       " 'deconstruct',\n",
       " 'defer',\n",
       " 'difference',\n",
       " 'distinct',\n",
       " 'do_not_call_in_templates',\n",
       " 'earliest',\n",
       " 'exclude',\n",
       " 'exists',\n",
       " 'extra',\n",
       " 'filter',\n",
       " 'first',\n",
       " 'from_queryset',\n",
       " 'get',\n",
       " 'get_by_natural_key',\n",
       " 'get_or_create',\n",
       " 'get_prefetch_queryset',\n",
       " 'get_queryset',\n",
       " 'in_bulk',\n",
       " 'instance',\n",
       " 'intersection',\n",
       " 'iterator',\n",
       " 'last',\n",
       " 'latest',\n",
       " 'make_random_password',\n",
       " 'model',\n",
       " 'name',\n",
       " 'none',\n",
       " 'normalize_email',\n",
       " 'only',\n",
       " 'order_by',\n",
       " 'pk_field_names',\n",
       " 'prefetch_cache_name',\n",
       " 'prefetch_related',\n",
       " 'query_field_name',\n",
       " 'raw',\n",
       " 'related_val',\n",
       " 'remove',\n",
       " 'reverse',\n",
       " 'select_for_update',\n",
       " 'select_related',\n",
       " 'set',\n",
       " 'source_field',\n",
       " 'source_field_name',\n",
       " 'symmetrical',\n",
       " 'target_field',\n",
       " 'target_field_name',\n",
       " 'through',\n",
       " 'union',\n",
       " 'update',\n",
       " 'update_or_create',\n",
       " 'use_in_migrations',\n",
       " 'using',\n",
       " 'values',\n",
       " 'values_list']"
      ]
     },
     "execution_count": 24,
     "metadata": {},
     "output_type": "execute_result"
    }
   ],
   "source": [
    "dir(eve.helpers\n",
    ")"
   ]
  },
  {
   "cell_type": "code",
   "execution_count": 3,
   "metadata": {},
   "outputs": [
    {
     "ename": "AttributeError",
     "evalue": "'User' object has no attribute 'event_set'",
     "output_type": "error",
     "traceback": [
      "\u001b[0;31m---------------------------------------------------------------------------\u001b[0m",
      "\u001b[0;31mAttributeError\u001b[0m                            Traceback (most recent call last)",
      "\u001b[0;32m<ipython-input-3-b3f61f4983dd>\u001b[0m in \u001b[0;36m<module>\u001b[0;34m()\u001b[0m\n\u001b[0;32m----> 1\u001b[0;31m \u001b[0mu\u001b[0m\u001b[0;34m.\u001b[0m\u001b[0mevent_set\u001b[0m\u001b[0;34m.\u001b[0m\u001b[0mall\u001b[0m\u001b[0;34m(\u001b[0m\u001b[0;34m)\u001b[0m\u001b[0;34m\u001b[0m\u001b[0m\n\u001b[0m",
      "\u001b[0;31mAttributeError\u001b[0m: 'User' object has no attribute 'event_set'"
     ]
    }
   ],
   "source": [
    "u.event_set.all()"
   ]
  },
  {
   "cell_type": "code",
   "execution_count": 4,
   "metadata": {},
   "outputs": [
    {
     "data": {
      "text/plain": [
       "['DoesNotExist',\n",
       " 'EMAIL_FIELD',\n",
       " 'Meta',\n",
       " 'MultipleObjectsReturned',\n",
       " 'REQUIRED_FIELDS',\n",
       " 'USERNAME_FIELD',\n",
       " '__class__',\n",
       " '__delattr__',\n",
       " '__dict__',\n",
       " '__dir__',\n",
       " '__doc__',\n",
       " '__eq__',\n",
       " '__format__',\n",
       " '__ge__',\n",
       " '__getattribute__',\n",
       " '__getstate__',\n",
       " '__gt__',\n",
       " '__hash__',\n",
       " '__init__',\n",
       " '__init_subclass__',\n",
       " '__le__',\n",
       " '__lt__',\n",
       " '__module__',\n",
       " '__ne__',\n",
       " '__new__',\n",
       " '__reduce__',\n",
       " '__reduce_ex__',\n",
       " '__repr__',\n",
       " '__setattr__',\n",
       " '__setstate__',\n",
       " '__sizeof__',\n",
       " '__str__',\n",
       " '__subclasshook__',\n",
       " '__weakref__',\n",
       " '_check_column_name_clashes',\n",
       " '_check_field_name_clashes',\n",
       " '_check_fields',\n",
       " '_check_id_field',\n",
       " '_check_index_together',\n",
       " '_check_local_fields',\n",
       " '_check_long_column_names',\n",
       " '_check_m2m_through_same_relationship',\n",
       " '_check_managers',\n",
       " '_check_model',\n",
       " '_check_model_name_db_lookup_clashes',\n",
       " '_check_ordering',\n",
       " '_check_swappable',\n",
       " '_check_unique_together',\n",
       " '_do_insert',\n",
       " '_do_update',\n",
       " '_get_FIELD_display',\n",
       " '_get_next_or_previous_by_FIELD',\n",
       " '_get_next_or_previous_in_order',\n",
       " '_get_pk_val',\n",
       " '_get_unique_checks',\n",
       " '_meta',\n",
       " '_password',\n",
       " '_perform_date_checks',\n",
       " '_perform_unique_checks',\n",
       " '_save_parents',\n",
       " '_save_table',\n",
       " '_set_pk_val',\n",
       " '_state',\n",
       " 'check',\n",
       " 'check_password',\n",
       " 'clean',\n",
       " 'clean_fields',\n",
       " 'date_error_message',\n",
       " 'date_joined',\n",
       " 'delete',\n",
       " 'email',\n",
       " 'email_user',\n",
       " 'first_name',\n",
       " 'from_db',\n",
       " 'full_clean',\n",
       " 'get_all_permissions',\n",
       " 'get_deferred_fields',\n",
       " 'get_email_field_name',\n",
       " 'get_full_name',\n",
       " 'get_group_permissions',\n",
       " 'get_next_by_date_joined',\n",
       " 'get_previous_by_date_joined',\n",
       " 'get_session_auth_hash',\n",
       " 'get_short_name',\n",
       " 'get_username',\n",
       " 'groups',\n",
       " 'has_module_perms',\n",
       " 'has_perm',\n",
       " 'has_perms',\n",
       " 'has_usable_password',\n",
       " 'id',\n",
       " 'is_active',\n",
       " 'is_anonymous',\n",
       " 'is_authenticated',\n",
       " 'is_staff',\n",
       " 'is_superuser',\n",
       " 'last_login',\n",
       " 'last_name',\n",
       " 'logentry_set',\n",
       " 'manytomanyevents',\n",
       " 'natural_key',\n",
       " 'normalize_username',\n",
       " 'objects',\n",
       " 'owned_events',\n",
       " 'password',\n",
       " 'pk',\n",
       " 'prepare_database_save',\n",
       " 'refresh_from_db',\n",
       " 'save',\n",
       " 'save_base',\n",
       " 'serializable_value',\n",
       " 'set_password',\n",
       " 'set_unusable_password',\n",
       " 'unique_error_message',\n",
       " 'user_permissions',\n",
       " 'username',\n",
       " 'username_validator',\n",
       " 'validate_unique']"
      ]
     },
     "execution_count": 4,
     "metadata": {},
     "output_type": "execute_result"
    }
   ],
   "source": [
    "dir(u)"
   ]
  },
  {
   "cell_type": "code",
   "execution_count": 4,
   "metadata": {},
   "outputs": [],
   "source": [
    "grp = Group.objects.get(name=\"student\")"
   ]
  },
  {
   "cell_type": "code",
   "execution_count": 12,
   "metadata": {},
   "outputs": [
    {
     "data": {
      "text/plain": [
       "<QuerySet [<User: sadduck114>, <User: happylion362>, <User: redkoala394>, <User: beautifulgoose926>, <User: yellowgorilla835>, <User: whitelion276>, <User: happyelephant645>, <User: heavyduck343>, <User: silverelephant368>]>"
      ]
     },
     "execution_count": 12,
     "metadata": {},
     "output_type": "execute_result"
    }
   ],
   "source": [
    "User.objects.filter(groups__name='student').filter(groups__name='dep_ag')"
   ]
  },
  {
   "cell_type": "code",
   "execution_count": 10,
   "metadata": {},
   "outputs": [
    {
     "ename": "AttributeError",
     "evalue": "'Group' object has no attribute 'Users'",
     "output_type": "error",
     "traceback": [
      "\u001b[0;31m---------------------------------------------------------------------------\u001b[0m",
      "\u001b[0;31mAttributeError\u001b[0m                            Traceback (most recent call last)",
      "\u001b[0;32m<ipython-input-10-e3b82ef6e707>\u001b[0m in \u001b[0;36m<module>\u001b[0;34m()\u001b[0m\n\u001b[0;32m----> 1\u001b[0;31m \u001b[0mgrp\u001b[0m\u001b[0;34m.\u001b[0m\u001b[0mUsers\u001b[0m\u001b[0;34m\u001b[0m\u001b[0m\n\u001b[0m",
      "\u001b[0;31mAttributeError\u001b[0m: 'Group' object has no attribute 'Users'"
     ]
    }
   ],
   "source": [
    "grp.Users"
   ]
  },
  {
   "cell_type": "code",
   "execution_count": 17,
   "metadata": {},
   "outputs": [
    {
     "ename": "TypeError",
     "evalue": "must be str, not int",
     "output_type": "error",
     "traceback": [
      "\u001b[0;31m---------------------------------------------------------------------------\u001b[0m",
      "\u001b[0;31mTypeError\u001b[0m                                 Traceback (most recent call last)",
      "\u001b[0;32m<ipython-input-17-c02aba561684>\u001b[0m in \u001b[0;36m<module>\u001b[0;34m()\u001b[0m\n\u001b[1;32m      1\u001b[0m \u001b[0;32mimport\u001b[0m \u001b[0mdjango\u001b[0m\u001b[0;34m\u001b[0m\u001b[0m\n\u001b[1;32m      2\u001b[0m \u001b[0;32mtry\u001b[0m \u001b[0;34m:\u001b[0m\u001b[0;34m\u001b[0m\u001b[0m\n\u001b[0;32m----> 3\u001b[0;31m     \u001b[0ma\u001b[0m\u001b[0;34m=\u001b[0m\u001b[0;34m\"as\"\u001b[0m \u001b[0;34m+\u001b[0m\u001b[0;36m1\u001b[0m\u001b[0;34m\u001b[0m\u001b[0m\n\u001b[0m\u001b[1;32m      4\u001b[0m \u001b[0;32mexcept\u001b[0m \u001b[0mdjango\u001b[0m\u001b[0;34m.\u001b[0m\u001b[0mcore\u001b[0m\u001b[0;34m.\u001b[0m\u001b[0mexceptions\u001b[0m\u001b[0;34m.\u001b[0m\u001b[0mValidationError\u001b[0m \u001b[0;34m:\u001b[0m\u001b[0;34m\u001b[0m\u001b[0m\n\u001b[1;32m      5\u001b[0m     \u001b[0ma\u001b[0m\u001b[0;34m=\u001b[0m\u001b[0;36m1\u001b[0m\u001b[0;34m\u001b[0m\u001b[0m\n",
      "\u001b[0;31mTypeError\u001b[0m: must be str, not int"
     ]
    }
   ],
   "source": [
    "import django\n",
    "try : \n",
    "    a=\"as\" +1\n",
    "except django.core.exceptions.ValidationError :\n",
    "    a=1"
   ]
  },
  {
   "cell_type": "code",
   "execution_count": null,
   "metadata": {},
   "outputs": [],
   "source": []
  }
 ],
 "metadata": {
  "kernelspec": {
   "display_name": "Django Shell-Plus",
   "language": "python",
   "name": "django_extensions"
  },
  "language_info": {
   "codemirror_mode": {
    "name": "ipython",
    "version": 3
   },
   "file_extension": ".py",
   "mimetype": "text/x-python",
   "name": "python",
   "nbconvert_exporter": "python",
   "pygments_lexer": "ipython3",
   "version": "3.6.5"
  }
 },
 "nbformat": 4,
 "nbformat_minor": 2
}
