{
 "cells": [
  {
   "cell_type": "code",
   "execution_count": 1,
   "metadata": {},
   "outputs": [],
   "source": [
    "from django.contrib.auth.models import User\n",
    "from django.contrib.auth.models import Group\n",
    "from api.src import databaseConnection as db\n",
    "from django.db import IntegrityError,DataError"
   ]
  },
  {
   "cell_type": "code",
   "execution_count": 2,
   "metadata": {},
   "outputs": [],
   "source": [
    "\n",
    "from pprint import pprint\n",
    "from django.db.models import Q\n",
    "from api.models import event\n",
    "import datetime\n",
    "from api.src import databaseConnection as db"
   ]
  },
  {
   "cell_type": "code",
   "execution_count": 18,
   "metadata": {},
   "outputs": [],
   "source": [
    "userlist=[{'fname': 'sabrine', 'lname': 'de zwart', 'dob': '1969-12-29', 'username': 'bigdog830', 'grp': ['hc_rk', 'dep_ag', 'admin']}, {'fname': 'latife', 'lname': 'abanuz', 'dob': '1959-12-10', 'username': 'browngorilla385', 'grp': ['hc_rk', 'dep_ag', 'admin']}, {'fname': 'ivana', 'lname': 'birner', 'dob': '1954-03-16', 'username': 'organicgorilla871', 'grp': ['hc_rk', 'dep_ag', 'admin']}, {'fname': 'ida', 'lname': 'møller', 'dob': '1960-05-01', 'username': 'greenmouse762', 'grp': ['hc_rk', 'dep_ag', 'admin']}, {'fname': 'jense', 'lname': 'de schepper', 'dob': '1982-03-02', 'username': 'ticklishmouse693', 'grp': ['hc_rk', 'dep_ag', 'admin']}, {'fname': 'ray', 'lname': 'wade', 'dob': '1982-03-02', 'username': 'yellowduck695'}, {'fname': 'hugh', 'lname': 'day', 'dob': '1962-08-08', 'username': 'crazysnake361', 'grp': ['hc_rk', 'dep_ar', 'admin']}, {'fname': 'مانی', 'lname': 'احمدی', 'dob': '1945-12-03', 'username': 'smallmouse365', 'grp': ['hc_rk', 'dep_ar', 'admin']}, {'fname': 'nikolaus', 'lname': 'lacroix', 'dob': '1973-10-21', 'username': 'purplezebra670', 'grp': ['hc_rk', 'dep_ar', 'admin']}, {'fname': 'alberte', 'lname': 'pedersen', 'dob': '1953-10-18', 'username': 'lazybird248', 'grp': ['hc_rk', 'dep_ar', 'admin']}, {'fname': 'rute', 'lname': 'sales', 'dob': '1948-06-30', 'username': 'crazyrabbit395'}, {'fname': 'encarnacion', 'lname': 'diez', 'dob': '1956-03-30', 'username': 'beautifulgorilla106', 'grp': ['hc_rp', 'dep_ag', 'admin']}, {'fname': 'judas', 'lname': 'da rocha', 'dob': '1986-06-05', 'username': 'redpanda232', 'grp': ['hc_rp', 'dep_ag', 'admin']}, {'fname': 'nicole', 'lname': 'steward', 'dob': '1947-03-12', 'username': 'purplesnake386', 'grp': ['hc_rp', 'dep_ag', 'admin']}, {'fname': 'محمدطاها', 'lname': 'موسوی', 'dob': '1991-10-21', 'username': 'ticklishduck180', 'grp': ['hc_rp', 'dep_ag', 'admin']}, {'fname': 'gül', 'lname': 'aykaç', 'dob': '1958-03-20', 'username': 'silverrabbit892', 'grp': ['hc_rp', 'dep_ag', 'admin']}, {'fname': 'ellen', 'lname': 'pietila', 'dob': '1964-03-27', 'username': 'blackbear270', 'grp': ['hc_rp', 'dep_ag', 'admin']}, {'fname': 'ryan', 'lname': 'roy', 'dob': '1979-11-09', 'username': 'blackswan280', 'grp': ['hc_rp', 'dep_ag', 'admin']}, {'fname': 'کیانا', 'lname': 'سالاری', 'dob': '1993-03-14', 'username': 'beautifulwolf735', 'grp': ['hc_rp', 'dep_ag', 'admin']}, {'fname': 'viljami', 'lname': 'arola', 'dob': '1961-05-01', 'username': 'bluemeercat601', 'grp': ['hc_rp', 'dep_ag', 'admin']}, {'fname': 'theresa', 'lname': 'cunningham', 'dob': '1985-11-28', 'username': 'purplegorilla819'}, {'fname': 'liepa', 'lname': 'kvalsund', 'dob': '1945-01-21', 'username': 'crazyostrich674', 'grp': ['hc_rp', 'dep_ar', 'admin']}, {'fname': 'arthur', 'lname': 'gray', 'dob': '1951-03-26', 'username': 'tinykoala136', 'grp': ['hc_rp', 'dep_ar', 'admin']}, {'fname': 'chris', 'lname': 'triebel', 'dob': '1958-08-21', 'username': 'blueladybug667', 'grp': ['hc_rp', 'dep_ar', 'admin']}, {'fname': 'william', 'lname': 'petersen', 'dob': '1950-12-03', 'username': 'heavybird888', 'grp': ['hc_rp', 'dep_ar', 'admin']}, {'fname': 'violet', 'lname': 'gomez', 'dob': '1961-06-09', 'username': 'silvermouse649'}, {'fname': 'nick', 'lname': 'montgomery', 'dob': '1977-06-14', 'username': 'redgorilla967', 'grp': ['hc_rp', 'dep_ar', 'student']}, {'fname': 'mestan', 'lname': 'dizdar', 'dob': '1947-02-23', 'username': 'blackladybug215', 'grp': ['hc_rp', 'dep_ar', 'student']}, {'fname': 'shane', 'lname': 'fowler', 'dob': '1992-02-11', 'username': 'ticklishelephant647', 'grp': ['hc_rp', 'dep_ar', 'student']}, {'fname': 'fabian', 'lname': 'leroy', 'dob': '1981-12-24', 'username': 'beautifulladybug305', 'grp': ['hc_rp', 'dep_ar', 'student']}, {'fname': 'jasper', 'lname': 'patel', 'dob': '1962-08-13', 'username': 'blueswan204', 'grp': ['hc_rp', 'dep_ar', 'student']}, {'fname': 'پرنیا', 'lname': 'موسوی', 'dob': '1975-03-25', 'username': 'organicostrich772', 'grp': ['hc_rp', 'dep_ar', 'student']}, {'fname': 'ella', 'lname': 'muller', 'dob': '1987-08-18', 'username': 'purplecat527', 'grp': ['hc_rp', 'dep_ar', 'student']}, {'fname': 'john', 'lname': 'evans', 'dob': '1963-08-20', 'username': 'yellowzebra677', 'grp': ['hc_rp', 'dep_ar', 'student']}, {'fname': 'gabriel', 'lname': 'gimenez', 'dob': '1962-02-26', 'username': 'purplebutterfly312', 'grp': ['hc_rp', 'dep_ar', 'student']}, {'fname': 'franca', 'lname': 'da mota', 'dob': '1989-11-12', 'username': 'goldenbear150'}, {'fname': 'timon', 'lname': 'aubert', 'dob': '1983-10-20', 'username': 'sadduck114', 'grp': ['hc_rp', 'dep_ag', 'student']}, {'fname': 'timothee', 'lname': 'perez', 'dob': '1984-10-07', 'username': 'happylion362', 'grp': ['hc_rp', 'dep_ag', 'student']}, {'fname': 'ariane', 'lname': 'taylor', 'dob': '1974-03-05', 'username': 'redkoala394', 'grp': ['hc_rp', 'dep_ag', 'student']}, {'fname': 'sofia', 'lname': 'johnson', 'dob': '1947-09-13', 'username': 'beautifulgoose926', 'grp': ['hc_rp', 'dep_ag', 'student']}, {'fname': 'ramon', 'lname': 'driesse', 'dob': '1949-08-04', 'username': 'yellowgorilla835', 'grp': ['hc_rk', 'dep_ag', 'student']}, {'fname': 'maria', 'lname': 'jørgensen', 'dob': '1962-07-02', 'username': 'whitelion276', 'grp': ['hc_rk', 'dep_ag', 'student']}, {'fname': 'antonie', 'lname': 'steffan', 'dob': '1954-11-02', 'username': 'happyelephant645', 'grp': ['hc_rk', 'dep_ag', 'student']}, {'fname': 'tirill', 'lname': 'eike', 'dob': '1995-06-10', 'username': 'heavyduck343', 'grp': ['hc_rk', 'dep_ag', 'student']}, {'fname': 'sara', 'lname': 'jørgensen', 'dob': '1944-09-24', 'username': 'silverelephant368', 'grp': ['hc_rk', 'dep_ag', 'student']}, {'fname': 'fatih', 'lname': 'doğan', 'dob': '1976-08-23', 'username': 'yellowelephant414'}, {'fname': 'théodore', 'lname': 'renaud', 'dob': '1978-03-27', 'username': 'blackpanda484', 'grp': ['hc_rk', 'dep_ar', 'student']}, {'fname': 'jacob', 'lname': 'patel', 'dob': '1974-10-27', 'username': 'sadzebra700', 'grp': ['hc_rk', 'dep_ar', 'student']}, {'fname': 'oliver', 'lname': 'latvala', 'dob': '1991-10-05', 'username': 'blackswan718', 'grp': ['hc_rk', 'dep_ar', 'student']}, {'fname': 'emil', 'lname': 'larsen', 'dob': '1983-10-24', 'username': 'organicladybug269', 'grp': ['hc_rk', 'dep_ar', 'student']}]"
   ]
  },
  {
   "cell_type": "code",
   "execution_count": 19,
   "metadata": {},
   "outputs": [
    {
     "name": "stdout",
     "output_type": "stream",
     "text": [
      "'grp'\n",
      "'grp'\n",
      "'grp'\n",
      "'grp'\n",
      "'grp'\n",
      "'grp'\n"
     ]
    }
   ],
   "source": [
    "for u in userlist : \n",
    "    user = User.objects.create_user(username=u[\"username\"], first_name=u[\"fname\"], last_name=u[\"lname\"], password=u['dob'])\n",
    "    try : \n",
    "        for grp in u[\"grp\"] :\n",
    "            my_group = Group.objects.get(name=grp)\n",
    "            my_group.user_set.add(user)\n",
    "    except Exception as e: \n",
    "        print(e)\n",
    "        pass\n",
    "    "
   ]
  },
  {
   "cell_type": "code",
   "execution_count": 5,
   "metadata": {},
   "outputs": [],
   "source": [
    "qu = ((User.objects.filter(groups__name=\"hc_rp\")))"
   ]
  },
  {
   "cell_type": "code",
   "execution_count": 51,
   "metadata": {},
   "outputs": [],
   "source": [
    "qu2 = qu.filter(groups__name=\"admin\")"
   ]
  },
  {
   "cell_type": "code",
   "execution_count": 38,
   "metadata": {},
   "outputs": [
    {
     "data": {
      "text/plain": [
       "<QuerySet []>"
      ]
     },
     "execution_count": 38,
     "metadata": {},
     "output_type": "execute_result"
    }
   ],
   "source": [
    "q1 = Q(groups__name=\"hc_rp\")\n",
    "q2 = Q(groups__name=\"student\")\n",
    "User.objects.filter(q2&q1)"
   ]
  },
  {
   "cell_type": "code",
   "execution_count": 13,
   "metadata": {},
   "outputs": [
    {
     "data": {
      "text/plain": [
       "''"
      ]
     },
     "execution_count": 13,
     "metadata": {},
     "output_type": "execute_result"
    }
   ],
   "source": [
    "qu[0].get_full_name()"
   ]
  },
  {
   "cell_type": "code",
   "execution_count": 44,
   "metadata": {},
   "outputs": [
    {
     "data": {
      "text/plain": [
       "['__and__',\n",
       " '__bool__',\n",
       " '__class__',\n",
       " '__deepcopy__',\n",
       " '__delattr__',\n",
       " '__dict__',\n",
       " '__dir__',\n",
       " '__doc__',\n",
       " '__eq__',\n",
       " '__format__',\n",
       " '__ge__',\n",
       " '__getattribute__',\n",
       " '__getitem__',\n",
       " '__getstate__',\n",
       " '__gt__',\n",
       " '__hash__',\n",
       " '__init__',\n",
       " '__init_subclass__',\n",
       " '__iter__',\n",
       " '__le__',\n",
       " '__len__',\n",
       " '__lt__',\n",
       " '__module__',\n",
       " '__ne__',\n",
       " '__new__',\n",
       " '__or__',\n",
       " '__reduce__',\n",
       " '__reduce_ex__',\n",
       " '__repr__',\n",
       " '__setattr__',\n",
       " '__setstate__',\n",
       " '__sizeof__',\n",
       " '__str__',\n",
       " '__subclasshook__',\n",
       " '__weakref__',\n",
       " '_add_hints',\n",
       " '_batched_insert',\n",
       " '_chain',\n",
       " '_clone',\n",
       " '_combinator_query',\n",
       " '_create_object_from_params',\n",
       " '_db',\n",
       " '_earliest_or_latest',\n",
       " '_extract_model_params',\n",
       " '_fetch_all',\n",
       " '_fields',\n",
       " '_filter_or_exclude',\n",
       " '_for_write',\n",
       " '_has_filters',\n",
       " '_hints',\n",
       " '_insert',\n",
       " '_iterable_class',\n",
       " '_iterator',\n",
       " '_known_related_objects',\n",
       " '_merge_known_related_objects',\n",
       " '_merge_sanity_check',\n",
       " '_next_is_sticky',\n",
       " '_populate_pk_values',\n",
       " '_prefetch_done',\n",
       " '_prefetch_related_lookups',\n",
       " '_prefetch_related_objects',\n",
       " '_raw_delete',\n",
       " '_result_cache',\n",
       " '_sticky_filter',\n",
       " '_update',\n",
       " '_validate_values_are_expressions',\n",
       " '_values',\n",
       " 'aggregate',\n",
       " 'all',\n",
       " 'annotate',\n",
       " 'as_manager',\n",
       " 'bulk_create',\n",
       " 'complex_filter',\n",
       " 'count',\n",
       " 'create',\n",
       " 'dates',\n",
       " 'datetimes',\n",
       " 'db',\n",
       " 'defer',\n",
       " 'delete',\n",
       " 'difference',\n",
       " 'distinct',\n",
       " 'earliest',\n",
       " 'exclude',\n",
       " 'exists',\n",
       " 'extra',\n",
       " 'filter',\n",
       " 'first',\n",
       " 'get',\n",
       " 'get_or_create',\n",
       " 'in_bulk',\n",
       " 'intersection',\n",
       " 'iterator',\n",
       " 'last',\n",
       " 'latest',\n",
       " 'model',\n",
       " 'none',\n",
       " 'only',\n",
       " 'order_by',\n",
       " 'ordered',\n",
       " 'prefetch_related',\n",
       " 'query',\n",
       " 'raw',\n",
       " 'resolve_expression',\n",
       " 'reverse',\n",
       " 'select_for_update',\n",
       " 'select_related',\n",
       " 'union',\n",
       " 'update',\n",
       " 'update_or_create',\n",
       " 'using',\n",
       " 'values',\n",
       " 'values_list']"
      ]
     },
     "execution_count": 44,
     "metadata": {},
     "output_type": "execute_result"
    }
   ],
   "source": [
    "dir(qu)"
   ]
  },
  {
   "cell_type": "code",
   "execution_count": 12,
   "metadata": {},
   "outputs": [
    {
     "data": {
      "text/plain": [
       "'encarnacion'"
      ]
     },
     "execution_count": 12,
     "metadata": {},
     "output_type": "execute_result"
    }
   ],
   "source": [
    "from api.src import databaseConnection as db\n",
    "db.getHelpersFromGroupName([\"hc_rp\"])[0].first_name"
   ]
  },
  {
   "cell_type": "code",
   "execution_count": 13,
   "metadata": {},
   "outputs": [
    {
     "ename": "AttributeError",
     "evalue": "'User' object has no attribute 'events'",
     "output_type": "error",
     "traceback": [
      "\u001b[0;31m---------------------------------------------------------------------------\u001b[0m",
      "\u001b[0;31mAttributeError\u001b[0m                            Traceback (most recent call last)",
      "\u001b[0;32m<ipython-input-13-77a81b43e83e>\u001b[0m in \u001b[0;36m<module>\u001b[0;34m()\u001b[0m\n\u001b[0;32m----> 1\u001b[0;31m \u001b[0mdir\u001b[0m\u001b[0;34m(\u001b[0m\u001b[0mdb\u001b[0m\u001b[0;34m.\u001b[0m\u001b[0mgetEventFromCreator\u001b[0m\u001b[0;34m(\u001b[0m\u001b[0;34m\"usertest\"\u001b[0m\u001b[0;34m)\u001b[0m\u001b[0;34m[\u001b[0m\u001b[0;36m6\u001b[0m\u001b[0;34m]\u001b[0m\u001b[0;34m.\u001b[0m\u001b[0mhelpers\u001b[0m\u001b[0;34m)\u001b[0m\u001b[0;34m\u001b[0m\u001b[0m\n\u001b[0m",
      "\u001b[0;32m/Volumes/Data/CODE/assimilation/assimilation/api/src/databaseConnection.py\u001b[0m in \u001b[0;36mgetEventFromCreator\u001b[0;34m(username)\u001b[0m\n\u001b[1;32m     54\u001b[0m     \u001b[0muser\u001b[0m \u001b[0;34m=\u001b[0m \u001b[0mgetUserFromUsername\u001b[0m\u001b[0;34m(\u001b[0m\u001b[0musername\u001b[0m\u001b[0;34m)\u001b[0m\u001b[0;34m\u001b[0m\u001b[0m\n\u001b[1;32m     55\u001b[0m     \u001b[0;32mif\u001b[0m \u001b[0muser\u001b[0m \u001b[0;34m:\u001b[0m\u001b[0;34m\u001b[0m\u001b[0m\n\u001b[0;32m---> 56\u001b[0;31m         \u001b[0meventList\u001b[0m \u001b[0;34m=\u001b[0m \u001b[0muser\u001b[0m\u001b[0;34m.\u001b[0m\u001b[0mevents\u001b[0m\u001b[0;34m.\u001b[0m\u001b[0mget_queryset\u001b[0m\u001b[0;34m(\u001b[0m\u001b[0;34m)\u001b[0m\u001b[0;34m\u001b[0m\u001b[0m\n\u001b[0m\u001b[1;32m     57\u001b[0m         \u001b[0;32mreturn\u001b[0m \u001b[0meventList\u001b[0m\u001b[0;34m\u001b[0m\u001b[0m\n\u001b[1;32m     58\u001b[0m     \u001b[0;32melse\u001b[0m \u001b[0;34m:\u001b[0m\u001b[0;34m\u001b[0m\u001b[0m\n",
      "\u001b[0;31mAttributeError\u001b[0m: 'User' object has no attribute 'events'"
     ]
    }
   ],
   "source": [
    "dir(db.getEventFromCreator(\"usertest\")[6].helpers)"
   ]
  },
  {
   "cell_type": "code",
   "execution_count": 26,
   "metadata": {},
   "outputs": [],
   "source": [
    "x= db.getEventFromCreator(\"usertest\")[6].helpers.get_queryset()"
   ]
  },
  {
   "cell_type": "code",
   "execution_count": 35,
   "metadata": {},
   "outputs": [
    {
     "data": {
      "text/plain": [
       "<QuerySet [<event: event object (1)>, <event: event object (2)>, <event: event object (3)>, <event: event object (4)>, <event: event object (5)>, <event: event object (6)>, <event: event object (7)>]>"
      ]
     },
     "execution_count": 35,
     "metadata": {},
     "output_type": "execute_result"
    }
   ],
   "source": [
    "event.objects.filter()"
   ]
  },
  {
   "cell_type": "code",
   "execution_count": 59,
   "metadata": {},
   "outputs": [],
   "source": [
    "eve = event.objects.get()"
   ]
  },
  {
   "cell_type": "code",
   "execution_count": 52,
   "metadata": {},
   "outputs": [
    {
     "name": "stderr",
     "output_type": "stream",
     "text": [
      "/Volumes/Data/CODE/assimilation/assimilationVENV/lib/python3.6/site-packages/django/db/models/fields/__init__.py:1423: RuntimeWarning: DateTimeField event.datetime received a naive datetime (2018-06-27 08:10:31.680245) while time zone support is active.\n",
      "  RuntimeWarning)\n"
     ]
    }
   ],
   "source": [
    "evenew = event()\n",
    "evenew.datetime= datetime.datetime.now()\n",
    "evenew.createdBy = u\n",
    "evenew.title = \"test2\"\n",
    "evenew.save()\n",
    "evenew.helpers.add(u)"
   ]
  },
  {
   "cell_type": "code",
   "execution_count": 74,
   "metadata": {},
   "outputs": [
    {
     "data": {
      "text/plain": [
       "'TestUser Test'"
      ]
     },
     "execution_count": 74,
     "metadata": {},
     "output_type": "execute_result"
    }
   ],
   "source": [
    "eve.createdBy.get_full_name()"
   ]
  },
  {
   "cell_type": "code",
   "execution_count": 71,
   "metadata": {},
   "outputs": [
    {
     "data": {
      "text/plain": [
       "'13:58'"
      ]
     },
     "execution_count": 71,
     "metadata": {},
     "output_type": "execute_result"
    }
   ],
   "source": [
    "x.strftime('%d/%m/%Y')\n",
    "x.strftime('%H:%M')"
   ]
  },
  {
   "cell_type": "code",
   "execution_count": 44,
   "metadata": {},
   "outputs": [],
   "source": [
    "u = User.objects.get(username=\"ayushgoyal.iitkgp@gmail.com\")"
   ]
  },
  {
   "cell_type": "code",
   "execution_count": 24,
   "metadata": {},
   "outputs": [
    {
     "data": {
      "text/plain": [
       "['__call__',\n",
       " '__class__',\n",
       " '__delattr__',\n",
       " '__dict__',\n",
       " '__dir__',\n",
       " '__doc__',\n",
       " '__eq__',\n",
       " '__format__',\n",
       " '__ge__',\n",
       " '__getattribute__',\n",
       " '__gt__',\n",
       " '__hash__',\n",
       " '__init__',\n",
       " '__init_subclass__',\n",
       " '__le__',\n",
       " '__lt__',\n",
       " '__module__',\n",
       " '__ne__',\n",
       " '__new__',\n",
       " '__reduce__',\n",
       " '__reduce_ex__',\n",
       " '__repr__',\n",
       " '__setattr__',\n",
       " '__sizeof__',\n",
       " '__slotnames__',\n",
       " '__str__',\n",
       " '__subclasshook__',\n",
       " '__weakref__',\n",
       " '_add_items',\n",
       " '_apply_rel_filters',\n",
       " '_build_remove_filters',\n",
       " '_constructor_args',\n",
       " '_create_user',\n",
       " '_db',\n",
       " '_get_queryset_methods',\n",
       " '_hints',\n",
       " '_insert',\n",
       " '_queryset_class',\n",
       " '_remove_items',\n",
       " '_remove_prefetched_objects',\n",
       " '_set_creation_counter',\n",
       " '_update',\n",
       " 'add',\n",
       " 'aggregate',\n",
       " 'all',\n",
       " 'annotate',\n",
       " 'auto_created',\n",
       " 'bulk_create',\n",
       " 'check',\n",
       " 'clear',\n",
       " 'complex_filter',\n",
       " 'contribute_to_class',\n",
       " 'core_filters',\n",
       " 'count',\n",
       " 'create',\n",
       " 'create_superuser',\n",
       " 'create_user',\n",
       " 'creation_counter',\n",
       " 'dates',\n",
       " 'datetimes',\n",
       " 'db',\n",
       " 'db_manager',\n",
       " 'deconstruct',\n",
       " 'defer',\n",
       " 'difference',\n",
       " 'distinct',\n",
       " 'do_not_call_in_templates',\n",
       " 'earliest',\n",
       " 'exclude',\n",
       " 'exists',\n",
       " 'extra',\n",
       " 'filter',\n",
       " 'first',\n",
       " 'from_queryset',\n",
       " 'get',\n",
       " 'get_by_natural_key',\n",
       " 'get_or_create',\n",
       " 'get_prefetch_queryset',\n",
       " 'get_queryset',\n",
       " 'in_bulk',\n",
       " 'instance',\n",
       " 'intersection',\n",
       " 'iterator',\n",
       " 'last',\n",
       " 'latest',\n",
       " 'make_random_password',\n",
       " 'model',\n",
       " 'name',\n",
       " 'none',\n",
       " 'normalize_email',\n",
       " 'only',\n",
       " 'order_by',\n",
       " 'pk_field_names',\n",
       " 'prefetch_cache_name',\n",
       " 'prefetch_related',\n",
       " 'query_field_name',\n",
       " 'raw',\n",
       " 'related_val',\n",
       " 'remove',\n",
       " 'reverse',\n",
       " 'select_for_update',\n",
       " 'select_related',\n",
       " 'set',\n",
       " 'source_field',\n",
       " 'source_field_name',\n",
       " 'symmetrical',\n",
       " 'target_field',\n",
       " 'target_field_name',\n",
       " 'through',\n",
       " 'union',\n",
       " 'update',\n",
       " 'update_or_create',\n",
       " 'use_in_migrations',\n",
       " 'using',\n",
       " 'values',\n",
       " 'values_list']"
      ]
     },
     "execution_count": 24,
     "metadata": {},
     "output_type": "execute_result"
    }
   ],
   "source": [
    "dir(eve.helpers\n",
    ")"
   ]
  },
  {
   "cell_type": "code",
   "execution_count": 3,
   "metadata": {},
   "outputs": [
    {
     "ename": "AttributeError",
     "evalue": "'User' object has no attribute 'event_set'",
     "output_type": "error",
     "traceback": [
      "\u001b[0;31m---------------------------------------------------------------------------\u001b[0m",
      "\u001b[0;31mAttributeError\u001b[0m                            Traceback (most recent call last)",
      "\u001b[0;32m<ipython-input-3-b3f61f4983dd>\u001b[0m in \u001b[0;36m<module>\u001b[0;34m()\u001b[0m\n\u001b[0;32m----> 1\u001b[0;31m \u001b[0mu\u001b[0m\u001b[0;34m.\u001b[0m\u001b[0mevent_set\u001b[0m\u001b[0;34m.\u001b[0m\u001b[0mall\u001b[0m\u001b[0;34m(\u001b[0m\u001b[0;34m)\u001b[0m\u001b[0;34m\u001b[0m\u001b[0m\n\u001b[0m",
      "\u001b[0;31mAttributeError\u001b[0m: 'User' object has no attribute 'event_set'"
     ]
    }
   ],
   "source": [
    "u.event_set.all()"
   ]
  },
  {
   "cell_type": "code",
   "execution_count": 4,
   "metadata": {},
   "outputs": [
    {
     "data": {
      "text/plain": [
       "['DoesNotExist',\n",
       " 'EMAIL_FIELD',\n",
       " 'Meta',\n",
       " 'MultipleObjectsReturned',\n",
       " 'REQUIRED_FIELDS',\n",
       " 'USERNAME_FIELD',\n",
       " '__class__',\n",
       " '__delattr__',\n",
       " '__dict__',\n",
       " '__dir__',\n",
       " '__doc__',\n",
       " '__eq__',\n",
       " '__format__',\n",
       " '__ge__',\n",
       " '__getattribute__',\n",
       " '__getstate__',\n",
       " '__gt__',\n",
       " '__hash__',\n",
       " '__init__',\n",
       " '__init_subclass__',\n",
       " '__le__',\n",
       " '__lt__',\n",
       " '__module__',\n",
       " '__ne__',\n",
       " '__new__',\n",
       " '__reduce__',\n",
       " '__reduce_ex__',\n",
       " '__repr__',\n",
       " '__setattr__',\n",
       " '__setstate__',\n",
       " '__sizeof__',\n",
       " '__str__',\n",
       " '__subclasshook__',\n",
       " '__weakref__',\n",
       " '_check_column_name_clashes',\n",
       " '_check_field_name_clashes',\n",
       " '_check_fields',\n",
       " '_check_id_field',\n",
       " '_check_index_together',\n",
       " '_check_local_fields',\n",
       " '_check_long_column_names',\n",
       " '_check_m2m_through_same_relationship',\n",
       " '_check_managers',\n",
       " '_check_model',\n",
       " '_check_model_name_db_lookup_clashes',\n",
       " '_check_ordering',\n",
       " '_check_swappable',\n",
       " '_check_unique_together',\n",
       " '_do_insert',\n",
       " '_do_update',\n",
       " '_get_FIELD_display',\n",
       " '_get_next_or_previous_by_FIELD',\n",
       " '_get_next_or_previous_in_order',\n",
       " '_get_pk_val',\n",
       " '_get_unique_checks',\n",
       " '_meta',\n",
       " '_password',\n",
       " '_perform_date_checks',\n",
       " '_perform_unique_checks',\n",
       " '_save_parents',\n",
       " '_save_table',\n",
       " '_set_pk_val',\n",
       " '_state',\n",
       " 'check',\n",
       " 'check_password',\n",
       " 'clean',\n",
       " 'clean_fields',\n",
       " 'date_error_message',\n",
       " 'date_joined',\n",
       " 'delete',\n",
       " 'email',\n",
       " 'email_user',\n",
       " 'first_name',\n",
       " 'from_db',\n",
       " 'full_clean',\n",
       " 'get_all_permissions',\n",
       " 'get_deferred_fields',\n",
       " 'get_email_field_name',\n",
       " 'get_full_name',\n",
       " 'get_group_permissions',\n",
       " 'get_next_by_date_joined',\n",
       " 'get_previous_by_date_joined',\n",
       " 'get_session_auth_hash',\n",
       " 'get_short_name',\n",
       " 'get_username',\n",
       " 'groups',\n",
       " 'has_module_perms',\n",
       " 'has_perm',\n",
       " 'has_perms',\n",
       " 'has_usable_password',\n",
       " 'id',\n",
       " 'is_active',\n",
       " 'is_anonymous',\n",
       " 'is_authenticated',\n",
       " 'is_staff',\n",
       " 'is_superuser',\n",
       " 'last_login',\n",
       " 'last_name',\n",
       " 'logentry_set',\n",
       " 'manytomanyevents',\n",
       " 'natural_key',\n",
       " 'normalize_username',\n",
       " 'objects',\n",
       " 'owned_events',\n",
       " 'password',\n",
       " 'pk',\n",
       " 'prepare_database_save',\n",
       " 'refresh_from_db',\n",
       " 'save',\n",
       " 'save_base',\n",
       " 'serializable_value',\n",
       " 'set_password',\n",
       " 'set_unusable_password',\n",
       " 'unique_error_message',\n",
       " 'user_permissions',\n",
       " 'username',\n",
       " 'username_validator',\n",
       " 'validate_unique']"
      ]
     },
     "execution_count": 4,
     "metadata": {},
     "output_type": "execute_result"
    }
   ],
   "source": [
    "dir(u)"
   ]
  },
  {
   "cell_type": "code",
   "execution_count": 4,
   "metadata": {},
   "outputs": [],
   "source": [
    "grp = Group.objects.get(name=\"student\")"
   ]
  },
  {
   "cell_type": "code",
   "execution_count": 12,
   "metadata": {},
   "outputs": [
    {
     "data": {
      "text/plain": [
       "<QuerySet [<User: sadduck114>, <User: happylion362>, <User: redkoala394>, <User: beautifulgoose926>, <User: yellowgorilla835>, <User: whitelion276>, <User: happyelephant645>, <User: heavyduck343>, <User: silverelephant368>]>"
      ]
     },
     "execution_count": 12,
     "metadata": {},
     "output_type": "execute_result"
    }
   ],
   "source": [
    "User.objects.filter(groups__name='student').filter(groups__name='dep_ag')"
   ]
  },
  {
   "cell_type": "code",
   "execution_count": 10,
   "metadata": {},
   "outputs": [
    {
     "ename": "AttributeError",
     "evalue": "'Group' object has no attribute 'Users'",
     "output_type": "error",
     "traceback": [
      "\u001b[0;31m---------------------------------------------------------------------------\u001b[0m",
      "\u001b[0;31mAttributeError\u001b[0m                            Traceback (most recent call last)",
      "\u001b[0;32m<ipython-input-10-e3b82ef6e707>\u001b[0m in \u001b[0;36m<module>\u001b[0;34m()\u001b[0m\n\u001b[0;32m----> 1\u001b[0;31m \u001b[0mgrp\u001b[0m\u001b[0;34m.\u001b[0m\u001b[0mUsers\u001b[0m\u001b[0;34m\u001b[0m\u001b[0m\n\u001b[0m",
      "\u001b[0;31mAttributeError\u001b[0m: 'Group' object has no attribute 'Users'"
     ]
    }
   ],
   "source": [
    "grp.Users"
   ]
  },
  {
   "cell_type": "code",
   "execution_count": 17,
   "metadata": {},
   "outputs": [
    {
     "ename": "TypeError",
     "evalue": "must be str, not int",
     "output_type": "error",
     "traceback": [
      "\u001b[0;31m---------------------------------------------------------------------------\u001b[0m",
      "\u001b[0;31mTypeError\u001b[0m                                 Traceback (most recent call last)",
      "\u001b[0;32m<ipython-input-17-c02aba561684>\u001b[0m in \u001b[0;36m<module>\u001b[0;34m()\u001b[0m\n\u001b[1;32m      1\u001b[0m \u001b[0;32mimport\u001b[0m \u001b[0mdjango\u001b[0m\u001b[0;34m\u001b[0m\u001b[0m\n\u001b[1;32m      2\u001b[0m \u001b[0;32mtry\u001b[0m \u001b[0;34m:\u001b[0m\u001b[0;34m\u001b[0m\u001b[0m\n\u001b[0;32m----> 3\u001b[0;31m     \u001b[0ma\u001b[0m\u001b[0;34m=\u001b[0m\u001b[0;34m\"as\"\u001b[0m \u001b[0;34m+\u001b[0m\u001b[0;36m1\u001b[0m\u001b[0;34m\u001b[0m\u001b[0m\n\u001b[0m\u001b[1;32m      4\u001b[0m \u001b[0;32mexcept\u001b[0m \u001b[0mdjango\u001b[0m\u001b[0;34m.\u001b[0m\u001b[0mcore\u001b[0m\u001b[0;34m.\u001b[0m\u001b[0mexceptions\u001b[0m\u001b[0;34m.\u001b[0m\u001b[0mValidationError\u001b[0m \u001b[0;34m:\u001b[0m\u001b[0;34m\u001b[0m\u001b[0m\n\u001b[1;32m      5\u001b[0m     \u001b[0ma\u001b[0m\u001b[0;34m=\u001b[0m\u001b[0;36m1\u001b[0m\u001b[0;34m\u001b[0m\u001b[0m\n",
      "\u001b[0;31mTypeError\u001b[0m: must be str, not int"
     ]
    }
   ],
   "source": [
    "import django\n",
    "try : \n",
    "    a=\"as\" +1\n",
    "except django.core.exceptions.ValidationError :\n",
    "    a=1"
   ]
  },
  {
   "cell_type": "code",
   "execution_count": 8,
   "metadata": {},
   "outputs": [],
   "source": [
    "def getEventByUUID(uid) : \n",
    "    events = event.objects.get(id=uid)\n",
    "    print(events.title)"
   ]
  },
  {
   "cell_type": "code",
   "execution_count": 13,
   "metadata": {},
   "outputs": [
    {
     "ename": "DoesNotExist",
     "evalue": "event matching query does not exist.",
     "output_type": "error",
     "traceback": [
      "\u001b[0;31m---------------------------------------------------------------------------\u001b[0m",
      "\u001b[0;31mDoesNotExist\u001b[0m                              Traceback (most recent call last)",
      "\u001b[0;32m<ipython-input-13-ba9a8db0e2a3>\u001b[0m in \u001b[0;36m<module>\u001b[0;34m()\u001b[0m\n\u001b[0;32m----> 1\u001b[0;31m \u001b[0mgetEventByUUID\u001b[0m\u001b[0;34m(\u001b[0m\u001b[0;34m\"57abd370-a9eb-437d-8415-ba1b830e4784\"\u001b[0m\u001b[0;34m)\u001b[0m\u001b[0;34m\u001b[0m\u001b[0m\n\u001b[0m",
      "\u001b[0;32m<ipython-input-8-ad9973f2c617>\u001b[0m in \u001b[0;36mgetEventByUUID\u001b[0;34m(uid)\u001b[0m\n\u001b[1;32m      1\u001b[0m \u001b[0;32mdef\u001b[0m \u001b[0mgetEventByUUID\u001b[0m\u001b[0;34m(\u001b[0m\u001b[0muid\u001b[0m\u001b[0;34m)\u001b[0m \u001b[0;34m:\u001b[0m\u001b[0;34m\u001b[0m\u001b[0m\n\u001b[0;32m----> 2\u001b[0;31m     \u001b[0mevents\u001b[0m \u001b[0;34m=\u001b[0m \u001b[0mevent\u001b[0m\u001b[0;34m.\u001b[0m\u001b[0mobjects\u001b[0m\u001b[0;34m.\u001b[0m\u001b[0mget\u001b[0m\u001b[0;34m(\u001b[0m\u001b[0mid\u001b[0m\u001b[0;34m=\u001b[0m\u001b[0muid\u001b[0m\u001b[0;34m)\u001b[0m\u001b[0;34m\u001b[0m\u001b[0m\n\u001b[0m\u001b[1;32m      3\u001b[0m     \u001b[0mprint\u001b[0m\u001b[0;34m(\u001b[0m\u001b[0mevents\u001b[0m\u001b[0;34m.\u001b[0m\u001b[0mtitle\u001b[0m\u001b[0;34m)\u001b[0m\u001b[0;34m\u001b[0m\u001b[0m\n",
      "\u001b[0;32m/Volumes/Data/CODE/assimilation/assimilationVENV/lib/python3.6/site-packages/django/db/models/manager.py\u001b[0m in \u001b[0;36mmanager_method\u001b[0;34m(self, *args, **kwargs)\u001b[0m\n\u001b[1;32m     80\u001b[0m         \u001b[0;32mdef\u001b[0m \u001b[0mcreate_method\u001b[0m\u001b[0;34m(\u001b[0m\u001b[0mname\u001b[0m\u001b[0;34m,\u001b[0m \u001b[0mmethod\u001b[0m\u001b[0;34m)\u001b[0m\u001b[0;34m:\u001b[0m\u001b[0;34m\u001b[0m\u001b[0m\n\u001b[1;32m     81\u001b[0m             \u001b[0;32mdef\u001b[0m \u001b[0mmanager_method\u001b[0m\u001b[0;34m(\u001b[0m\u001b[0mself\u001b[0m\u001b[0;34m,\u001b[0m \u001b[0;34m*\u001b[0m\u001b[0margs\u001b[0m\u001b[0;34m,\u001b[0m \u001b[0;34m**\u001b[0m\u001b[0mkwargs\u001b[0m\u001b[0;34m)\u001b[0m\u001b[0;34m:\u001b[0m\u001b[0;34m\u001b[0m\u001b[0m\n\u001b[0;32m---> 82\u001b[0;31m                 \u001b[0;32mreturn\u001b[0m \u001b[0mgetattr\u001b[0m\u001b[0;34m(\u001b[0m\u001b[0mself\u001b[0m\u001b[0;34m.\u001b[0m\u001b[0mget_queryset\u001b[0m\u001b[0;34m(\u001b[0m\u001b[0;34m)\u001b[0m\u001b[0;34m,\u001b[0m \u001b[0mname\u001b[0m\u001b[0;34m)\u001b[0m\u001b[0;34m(\u001b[0m\u001b[0;34m*\u001b[0m\u001b[0margs\u001b[0m\u001b[0;34m,\u001b[0m \u001b[0;34m**\u001b[0m\u001b[0mkwargs\u001b[0m\u001b[0;34m)\u001b[0m\u001b[0;34m\u001b[0m\u001b[0m\n\u001b[0m\u001b[1;32m     83\u001b[0m             \u001b[0mmanager_method\u001b[0m\u001b[0;34m.\u001b[0m\u001b[0m__name__\u001b[0m \u001b[0;34m=\u001b[0m \u001b[0mmethod\u001b[0m\u001b[0;34m.\u001b[0m\u001b[0m__name__\u001b[0m\u001b[0;34m\u001b[0m\u001b[0m\n\u001b[1;32m     84\u001b[0m             \u001b[0mmanager_method\u001b[0m\u001b[0;34m.\u001b[0m\u001b[0m__doc__\u001b[0m \u001b[0;34m=\u001b[0m \u001b[0mmethod\u001b[0m\u001b[0;34m.\u001b[0m\u001b[0m__doc__\u001b[0m\u001b[0;34m\u001b[0m\u001b[0m\n",
      "\u001b[0;32m/Volumes/Data/CODE/assimilation/assimilationVENV/lib/python3.6/site-packages/django/db/models/query.py\u001b[0m in \u001b[0;36mget\u001b[0;34m(self, *args, **kwargs)\u001b[0m\n\u001b[1;32m    401\u001b[0m             raise self.model.DoesNotExist(\n\u001b[1;32m    402\u001b[0m                 \u001b[0;34m\"%s matching query does not exist.\"\u001b[0m \u001b[0;34m%\u001b[0m\u001b[0;34m\u001b[0m\u001b[0m\n\u001b[0;32m--> 403\u001b[0;31m                 \u001b[0mself\u001b[0m\u001b[0;34m.\u001b[0m\u001b[0mmodel\u001b[0m\u001b[0;34m.\u001b[0m\u001b[0m_meta\u001b[0m\u001b[0;34m.\u001b[0m\u001b[0mobject_name\u001b[0m\u001b[0;34m\u001b[0m\u001b[0m\n\u001b[0m\u001b[1;32m    404\u001b[0m             )\n\u001b[1;32m    405\u001b[0m         raise self.model.MultipleObjectsReturned(\n",
      "\u001b[0;31mDoesNotExist\u001b[0m: event matching query does not exist."
     ]
    }
   ],
   "source": [
    "getEventByUUID(\"57abd370-a9eb-437d-8415-ba1b830e4784\")"
   ]
  },
  {
   "cell_type": "code",
   "execution_count": 11,
   "metadata": {},
   "outputs": [],
   "source": [
    "import uuid"
   ]
  },
  {
   "cell_type": "code",
   "execution_count": 12,
   "metadata": {},
   "outputs": [
    {
     "data": {
      "text/plain": [
       "UUID('57abd370-a9eb-437d-8415-ba1b830e4784')"
      ]
     },
     "execution_count": 12,
     "metadata": {},
     "output_type": "execute_result"
    }
   ],
   "source": [
    "uuid.uuid4()"
   ]
  },
  {
   "cell_type": "code",
   "execution_count": 3,
   "metadata": {},
   "outputs": [],
   "source": [
    "hallList = [\"hc_rp\",\"hc_rk\",\"hc_llr\",\"hc_mmm\",\"hc_ms\"]\n",
    "for hall in hallList : \n",
    "    new_group, created = Group.objects.get_or_create(name=hall)"
   ]
  },
  {
   "cell_type": "code",
   "execution_count": null,
   "metadata": {},
   "outputs": [],
   "source": [
    "for u in userlist : \n",
    "    user = User.objects.create_user(username=u[\"username\"], first_name=u[\"fname\"], last_name=u[\"lname\"], password=u['dob'])\n",
    "    try : \n",
    "        for grp in u[\"grp\"] :\n",
    "            my_group = Group.objects.get(name=grp)\n",
    "            my_group.user_set.add(user)\n",
    "    except Exception as e: \n",
    "        print(e)\n",
    "        pass"
   ]
  },
  {
   "cell_type": "code",
   "execution_count": 5,
   "metadata": {},
   "outputs": [],
   "source": [
    "hallCouncilList = [\"hp\",\"ssm\", \"gsec_socult\", \"gsec_sports\", \"gsec_tech\"]\n",
    "attendanceTakerGroup = Group.objects.get(name=\"attendanceTakers\")"
   ]
  },
  {
   "cell_type": "code",
   "execution_count": 6,
   "metadata": {},
   "outputs": [],
   "source": [
    "for hall in hallList : \n",
    "    hallname = hall.split(\"_\")[-1]\n",
    "    for mem in hallCouncilList : \n",
    "        user = User.objects.create_user(username=hallname+\"_\"+mem, first_name=\"fname\", last_name=\"lname\", password=\"123\")\n",
    "        try : \n",
    "            my_group = Group.objects.get(name=hall)\n",
    "            attendanceTakerGroup.user_set.add(user)\n",
    "            my_group.user_set.add(user)\n",
    "        except Exception as e: \n",
    "            print(e)\n",
    "            pass"
   ]
  },
  {
   "cell_type": "code",
   "execution_count": 4,
   "metadata": {},
   "outputs": [
    {
     "name": "stdout",
     "output_type": "stream",
     "text": [
      "<QuerySet [<User: rp_hp>, <User: rp_ssm>, <User: rp_gsec_socult>, <User: rp_gsec_sports>, <User: rp_gsec_tech>, <User: rk_hp>, <User: rk_ssm>, <User: rk_gsec_socult>, <User: rk_gsec_sports>, <User: rk_gsec_tech>, <User: llr_hp>, <User: llr_ssm>, <User: llr_gsec_socult>, <User: llr_gsec_sports>, <User: llr_gsec_tech>, <User: mmm_hp>, <User: mmm_ssm>, <User: mmm_gsec_socult>, <User: mmm_gsec_sports>, <User: mmm_gsec_tech>, '...(remaining elements truncated)...']>\n"
     ]
    },
    {
     "data": {
      "text/plain": [
       "[<User: rp_hp>,\n",
       " <User: rp_ssm>,\n",
       " <User: rp_gsec_socult>,\n",
       " <User: rp_gsec_sports>,\n",
       " <User: rp_gsec_tech>,\n",
       " <User: rp_hp>,\n",
       " <User: rp_ssm>,\n",
       " <User: rp_gsec_socult>,\n",
       " <User: rp_gsec_sports>,\n",
       " <User: rp_gsec_tech>,\n",
       " <User: rk_hp>,\n",
       " <User: rk_ssm>,\n",
       " <User: rk_gsec_socult>,\n",
       " <User: rk_gsec_sports>,\n",
       " <User: rk_gsec_tech>,\n",
       " <User: llr_hp>,\n",
       " <User: llr_ssm>,\n",
       " <User: llr_gsec_socult>,\n",
       " <User: llr_gsec_sports>,\n",
       " <User: llr_gsec_tech>,\n",
       " <User: mmm_hp>,\n",
       " <User: mmm_ssm>,\n",
       " <User: mmm_gsec_socult>,\n",
       " <User: mmm_gsec_sports>,\n",
       " <User: mmm_gsec_tech>,\n",
       " <User: ms_hp>,\n",
       " <User: ms_ssm>,\n",
       " <User: ms_gsec_socult>,\n",
       " <User: ms_gsec_sports>,\n",
       " <User: ms_gsec_tech>]"
      ]
     },
     "execution_count": 4,
     "metadata": {},
     "output_type": "execute_result"
    }
   ],
   "source": [
    "from api.src import databaseConnection as db\n",
    "db.getHelpersFromGroupName(['hc_rp', 'attendanceTakers'])"
   ]
  },
  {
   "cell_type": "code",
   "execution_count": 16,
   "metadata": {},
   "outputs": [
    {
     "data": {
      "text/plain": [
       "<User: gymk_gsec_sport1>"
      ]
     },
     "execution_count": 16,
     "metadata": {},
     "output_type": "execute_result"
    }
   ],
   "source": [
    "User.objects.create_user(username=\"gymk_gsec_sport1\", first_name=\"fname\", last_name=\"lname\", password=\"123\")"
   ]
  },
  {
   "cell_type": "code",
   "execution_count": 3,
   "metadata": {},
   "outputs": [],
   "source": [
    "x= User.objects.get(username=\"stud1_ag_rp\")"
   ]
  },
  {
   "cell_type": "code",
   "execution_count": 5,
   "metadata": {},
   "outputs": [
    {
     "name": "stdout",
     "output_type": "stream",
     "text": [
      "<QuerySet [<event: event object (97f5084a-879c-4df1-ac26-2e74f426b21a)>]>\n",
      "<QuerySet []>\n"
     ]
    }
   ],
   "source": [
    "for g in x.groups.all() : \n",
    "    print(g.group_events.get_queryset())"
   ]
  },
  {
   "cell_type": "code",
   "execution_count": 8,
   "metadata": {},
   "outputs": [],
   "source": [
    "from api.src import utils as u\n",
    "x= User.objects.get(username=\"sup_user\")"
   ]
  },
  {
   "cell_type": "code",
   "execution_count": 11,
   "metadata": {},
   "outputs": [
    {
     "data": {
      "text/plain": [
       "True"
      ]
     },
     "execution_count": 11,
     "metadata": {},
     "output_type": "execute_result"
    }
   ],
   "source": [
    "u.isMember(x,\"superadmins\")"
   ]
  },
  {
   "cell_type": "code",
   "execution_count": 10,
   "metadata": {},
   "outputs": [
    {
     "data": {
      "text/plain": [
       "<User: sup_user>"
      ]
     },
     "execution_count": 10,
     "metadata": {},
     "output_type": "execute_result"
    }
   ],
   "source": [
    "x"
   ]
  },
  {
   "cell_type": "code",
   "execution_count": 12,
   "metadata": {},
   "outputs": [],
   "source": [
    "from api.models import event"
   ]
  },
  {
   "cell_type": "code",
   "execution_count": 13,
   "metadata": {},
   "outputs": [
    {
     "data": {
      "text/plain": [
       "<QuerySet [<event: event object (97f5084a-879c-4df1-ac26-2e74f426b21a)>]>"
      ]
     },
     "execution_count": 13,
     "metadata": {},
     "output_type": "execute_result"
    }
   ],
   "source": [
    "event.objects.filter()"
   ]
  },
  {
   "cell_type": "code",
   "execution_count": 1,
   "metadata": {},
   "outputs": [],
   "source": [
    "c =complaint.objects.filter()"
   ]
  },
  {
   "cell_type": "code",
   "execution_count": 2,
   "metadata": {},
   "outputs": [
    {
     "data": {
      "text/plain": [
       "(<django.db.models.fields.DateTimeField>,)"
      ]
     },
     "execution_count": 2,
     "metadata": {},
     "output_type": "execute_result"
    }
   ],
   "source": [
    "c[0].created_at"
   ]
  },
  {
   "cell_type": "code",
   "execution_count": 1,
   "metadata": {},
   "outputs": [
    {
     "data": {
      "text/plain": [
       "['./settingsConfigFile.ini']"
      ]
     },
     "execution_count": 1,
     "metadata": {},
     "output_type": "execute_result"
    }
   ],
   "source": [
    "import configparser\n",
    "import json\n",
    "config = configparser.ConfigParser()\n",
    "config.read(\"./settingsConfigFile.ini\")"
   ]
  },
  {
   "cell_type": "code",
   "execution_count": 3,
   "metadata": {},
   "outputs": [],
   "source": [
    "t=json.loads(config.get(\"django\",\"TEST_LIST\"))"
   ]
  },
  {
   "cell_type": "code",
   "execution_count": 1,
   "metadata": {},
   "outputs": [],
   "source": [
    "import assimilation.settings as s"
   ]
  },
  {
   "cell_type": "code",
   "execution_count": 2,
   "metadata": {},
   "outputs": [
    {
     "data": {
      "text/plain": [
       "{'default': {'ENGINE': 'django.db.backends.postgresql_psycopg2',\n",
       "  'NAME': 'assimilation',\n",
       "  'USER': 'defcon',\n",
       "  'PASSWORD': 'defcon',\n",
       "  'HOST': 'localhost',\n",
       "  'PORT': '',\n",
       "  'ATOMIC_REQUESTS': False,\n",
       "  'AUTOCOMMIT': True,\n",
       "  'CONN_MAX_AGE': 0,\n",
       "  'OPTIONS': {},\n",
       "  'TIME_ZONE': None,\n",
       "  'TEST': {'CHARSET': None, 'COLLATION': None, 'NAME': None, 'MIRROR': None}}}"
      ]
     },
     "execution_count": 2,
     "metadata": {},
     "output_type": "execute_result"
    }
   ],
   "source": [
    "s.DATABASES"
   ]
  },
  {
   "cell_type": "code",
   "execution_count": 6,
   "metadata": {},
   "outputs": [
    {
     "data": {
      "text/plain": [
       "'asd'"
      ]
     },
     "execution_count": 6,
     "metadata": {},
     "output_type": "execute_result"
    }
   ],
   "source": [
    "t[0]"
   ]
  },
  {
   "cell_type": "code",
   "execution_count": 5,
   "metadata": {},
   "outputs": [
    {
     "ename": "DoesNotExist",
     "evalue": "Group matching query does not exist.",
     "output_type": "error",
     "traceback": [
      "\u001b[0;31m---------------------------------------------------------------------------\u001b[0m",
      "\u001b[0;31mDoesNotExist\u001b[0m                              Traceback (most recent call last)",
      "\u001b[0;32m<ipython-input-5-6fd872a56868>\u001b[0m in \u001b[0;36m<module>\u001b[0;34m()\u001b[0m\n\u001b[0;32m----> 1\u001b[0;31m \u001b[0mGroup\u001b[0m\u001b[0;34m.\u001b[0m\u001b[0mobjects\u001b[0m\u001b[0;34m.\u001b[0m\u001b[0mget\u001b[0m\u001b[0;34m(\u001b[0m\u001b[0mname\u001b[0m\u001b[0;34m=\u001b[0m\u001b[0;34m\"hc_*\"\u001b[0m\u001b[0;34m)\u001b[0m\u001b[0;34m\u001b[0m\u001b[0m\n\u001b[0m",
      "\u001b[0;32m/Volumes/Data/CODE/assimilation/assimilationVENV/lib/python3.6/site-packages/django/db/models/manager.py\u001b[0m in \u001b[0;36mmanager_method\u001b[0;34m(self, *args, **kwargs)\u001b[0m\n\u001b[1;32m     80\u001b[0m         \u001b[0;32mdef\u001b[0m \u001b[0mcreate_method\u001b[0m\u001b[0;34m(\u001b[0m\u001b[0mname\u001b[0m\u001b[0;34m,\u001b[0m \u001b[0mmethod\u001b[0m\u001b[0;34m)\u001b[0m\u001b[0;34m:\u001b[0m\u001b[0;34m\u001b[0m\u001b[0m\n\u001b[1;32m     81\u001b[0m             \u001b[0;32mdef\u001b[0m \u001b[0mmanager_method\u001b[0m\u001b[0;34m(\u001b[0m\u001b[0mself\u001b[0m\u001b[0;34m,\u001b[0m \u001b[0;34m*\u001b[0m\u001b[0margs\u001b[0m\u001b[0;34m,\u001b[0m \u001b[0;34m**\u001b[0m\u001b[0mkwargs\u001b[0m\u001b[0;34m)\u001b[0m\u001b[0;34m:\u001b[0m\u001b[0;34m\u001b[0m\u001b[0m\n\u001b[0;32m---> 82\u001b[0;31m                 \u001b[0;32mreturn\u001b[0m \u001b[0mgetattr\u001b[0m\u001b[0;34m(\u001b[0m\u001b[0mself\u001b[0m\u001b[0;34m.\u001b[0m\u001b[0mget_queryset\u001b[0m\u001b[0;34m(\u001b[0m\u001b[0;34m)\u001b[0m\u001b[0;34m,\u001b[0m \u001b[0mname\u001b[0m\u001b[0;34m)\u001b[0m\u001b[0;34m(\u001b[0m\u001b[0;34m*\u001b[0m\u001b[0margs\u001b[0m\u001b[0;34m,\u001b[0m \u001b[0;34m**\u001b[0m\u001b[0mkwargs\u001b[0m\u001b[0;34m)\u001b[0m\u001b[0;34m\u001b[0m\u001b[0m\n\u001b[0m\u001b[1;32m     83\u001b[0m             \u001b[0mmanager_method\u001b[0m\u001b[0;34m.\u001b[0m\u001b[0m__name__\u001b[0m \u001b[0;34m=\u001b[0m \u001b[0mmethod\u001b[0m\u001b[0;34m.\u001b[0m\u001b[0m__name__\u001b[0m\u001b[0;34m\u001b[0m\u001b[0m\n\u001b[1;32m     84\u001b[0m             \u001b[0mmanager_method\u001b[0m\u001b[0;34m.\u001b[0m\u001b[0m__doc__\u001b[0m \u001b[0;34m=\u001b[0m \u001b[0mmethod\u001b[0m\u001b[0;34m.\u001b[0m\u001b[0m__doc__\u001b[0m\u001b[0;34m\u001b[0m\u001b[0m\n",
      "\u001b[0;32m/Volumes/Data/CODE/assimilation/assimilationVENV/lib/python3.6/site-packages/django/db/models/query.py\u001b[0m in \u001b[0;36mget\u001b[0;34m(self, *args, **kwargs)\u001b[0m\n\u001b[1;32m    401\u001b[0m             raise self.model.DoesNotExist(\n\u001b[1;32m    402\u001b[0m                 \u001b[0;34m\"%s matching query does not exist.\"\u001b[0m \u001b[0;34m%\u001b[0m\u001b[0;34m\u001b[0m\u001b[0m\n\u001b[0;32m--> 403\u001b[0;31m                 \u001b[0mself\u001b[0m\u001b[0;34m.\u001b[0m\u001b[0mmodel\u001b[0m\u001b[0;34m.\u001b[0m\u001b[0m_meta\u001b[0m\u001b[0;34m.\u001b[0m\u001b[0mobject_name\u001b[0m\u001b[0;34m\u001b[0m\u001b[0m\n\u001b[0m\u001b[1;32m    404\u001b[0m             )\n\u001b[1;32m    405\u001b[0m         raise self.model.MultipleObjectsReturned(\n",
      "\u001b[0;31mDoesNotExist\u001b[0m: Group matching query does not exist."
     ]
    }
   ],
   "source": [
    "Group.objects.get(name=\"hc_*\")"
   ]
  },
  {
   "cell_type": "code",
   "execution_count": 6,
   "metadata": {},
   "outputs": [],
   "source": [
    "x= User.objects.get(username=\"sup_user\")"
   ]
  },
  {
   "cell_type": "code",
   "execution_count": 8,
   "metadata": {},
   "outputs": [
    {
     "data": {
      "text/plain": [
       "<QuerySet [<event: event object (c1b396a7-23e6-4fbd-a825-57dff1e779dd)>]>"
      ]
     },
     "execution_count": 8,
     "metadata": {},
     "output_type": "execute_result"
    }
   ],
   "source": [
    "x.owned_events.get_queryset()"
   ]
  },
  {
   "cell_type": "code",
   "execution_count": 9,
   "metadata": {},
   "outputs": [
    {
     "data": {
      "text/plain": [
       "<QuerySet [<event: event object (bd484f8f-548e-4f07-8558-0fb0257a2c72)>]>"
      ]
     },
     "execution_count": 9,
     "metadata": {},
     "output_type": "execute_result"
    }
   ],
   "source": [
    "event.objects.filter().exclude(createdBy=x)"
   ]
  },
  {
   "cell_type": "code",
   "execution_count": 13,
   "metadata": {},
   "outputs": [],
   "source": [
    "x = event.objects.get(id=\"04b04722-cd08-4edf-8478-397f284855c8\")"
   ]
  },
  {
   "cell_type": "code",
   "execution_count": 14,
   "metadata": {},
   "outputs": [
    {
     "data": {
      "text/plain": [
       "<event: event object (04b04722-cd08-4edf-8478-397f284855c8)>"
      ]
     },
     "execution_count": 14,
     "metadata": {},
     "output_type": "execute_result"
    }
   ],
   "source": [
    "x"
   ]
  },
  {
   "cell_type": "code",
   "execution_count": 17,
   "metadata": {},
   "outputs": [],
   "source": [
    "x.helpers.clear()"
   ]
  },
  {
   "cell_type": "code",
   "execution_count": 18,
   "metadata": {},
   "outputs": [
    {
     "data": {
      "text/plain": [
       "<QuerySet []>"
      ]
     },
     "execution_count": 18,
     "metadata": {},
     "output_type": "execute_result"
    }
   ],
   "source": [
    "x.helpers.all()"
   ]
  },
  {
   "cell_type": "code",
   "execution_count": 19,
   "metadata": {},
   "outputs": [],
   "source": [
    "from django.urls import reverse"
   ]
  },
  {
   "cell_type": "code",
   "execution_count": 22,
   "metadata": {},
   "outputs": [
    {
     "data": {
      "text/plain": [
       "'/accounts/login/'"
      ]
     },
     "execution_count": 22,
     "metadata": {},
     "output_type": "execute_result"
    }
   ],
   "source": [
    "reverse('login')"
   ]
  },
  {
   "cell_type": "code",
   "execution_count": 26,
   "metadata": {},
   "outputs": [
    {
     "data": {
      "text/plain": [
       "<QuerySet [<User: rp_hp>, <User: rp_ssm>, <User: rp_gsec_socult>, <User: rp_gsec_sports>, <User: rp_gsec_tech>, <User: rk_hp>, <User: rk_ssm>, <User: rk_gsec_socult>, <User: rk_gsec_sports>, <User: rk_gsec_tech>, <User: llr_hp>, <User: llr_ssm>, <User: llr_gsec_socult>, <User: llr_gsec_sports>, <User: llr_gsec_tech>, <User: mmm_hp>, <User: mmm_ssm>, <User: mmm_gsec_socult>, <User: mmm_gsec_sports>, <User: mmm_gsec_tech>, '...(remaining elements truncated)...']>"
      ]
     },
     "execution_count": 26,
     "metadata": {},
     "output_type": "execute_result"
    }
   ],
   "source": [
    "User.objects.filter(groups__name=settings.ATTENDANCE_TAKER_GROUP_NAME).exclude(username=\"rp_ssmadf\")"
   ]
  },
  {
   "cell_type": "code",
   "execution_count": 7,
   "metadata": {},
   "outputs": [],
   "source": [
    "x = User.objects.get(username=\"sup_user\")"
   ]
  },
  {
   "cell_type": "code",
   "execution_count": 8,
   "metadata": {},
   "outputs": [
    {
     "data": {
      "text/plain": [
       "True"
      ]
     },
     "execution_count": 8,
     "metadata": {},
     "output_type": "execute_result"
    }
   ],
   "source": [
    "bool(x.authTable.get_queryset())"
   ]
  },
  {
   "cell_type": "code",
   "execution_count": 9,
   "metadata": {},
   "outputs": [
    {
     "data": {
      "text/plain": [
       "<QuerySet [<UserDeviceIdAndAuthToken: UserDeviceIdAndAuthToken object (1)>]>"
      ]
     },
     "execution_count": 9,
     "metadata": {},
     "output_type": "execute_result"
    }
   ],
   "source": [
    "x.authTable.get_queryset()"
   ]
  },
  {
   "cell_type": "code",
   "execution_count": 10,
   "metadata": {},
   "outputs": [],
   "source": [
    "import uuid\n"
   ]
  },
  {
   "cell_type": "code",
   "execution_count": 12,
   "metadata": {},
   "outputs": [
    {
     "data": {
      "text/plain": [
       "UUID('b3fba08b-bb53-4bfd-8e45-c64ddc2040d7')"
      ]
     },
     "execution_count": 12,
     "metadata": {},
     "output_type": "execute_result"
    }
   ],
   "source": [
    "uuid.uuid4()"
   ]
  },
  {
   "cell_type": "code",
   "execution_count": 4,
   "metadata": {},
   "outputs": [],
   "source": [
    "li = db.getEventFromUsername(\"sup_user\")"
   ]
  },
  {
   "cell_type": "code",
   "execution_count": 5,
   "metadata": {},
   "outputs": [
    {
     "data": {
      "text/plain": [
       "[{'title': 'wb',\n",
       "  'description': 'web',\n",
       "  'venue': 'bew',\n",
       "  'audience': 'All Students',\n",
       "  'date': '18/07/2018',\n",
       "  'time': '09:57',\n",
       "  'createdBy': 'fname lname (gymk_gsec_tech1)',\n",
       "  'helpers': ['fname lname (gymk_gsec_sport2)'],\n",
       "  'role': '',\n",
       "  'uid': '24f9b291-19bb-4fff-ab63-71a412d4ddf6',\n",
       "  'deleteFlag': True},\n",
       " {'title': 'shsheh',\n",
       "  'description': 'jdueh',\n",
       "  'venue': 'dhdhe',\n",
       "  'audience': 'Hall Council RP',\n",
       "  'date': '14/07/2018',\n",
       "  'time': '12:08',\n",
       "  'createdBy': 'fname lname (rp_hp)',\n",
       "  'helpers': ['fname lname (rp_gsec_sports)', 'fname lname (rp_gsec_tech)'],\n",
       "  'role': '',\n",
       "  'uid': '49162701-ab4c-41f3-b026-dd3345b36033',\n",
       "  'deleteFlag': True},\n",
       " {'title': 'dvd',\n",
       "  'description': 'vasas',\n",
       "  'venue': 'asvas',\n",
       "  'audience': 'All Students',\n",
       "  'date': '11/07/2018',\n",
       "  'time': '09:10',\n",
       "  'createdBy': 'fname lname (sup_user)',\n",
       "  'helpers': ['fname lname (gymk_gsec_tech1)'],\n",
       "  'role': 'Owner',\n",
       "  'uid': '5e9cf983-a4e3-4ff0-a492-f1e47ad48af3',\n",
       "  'deleteFlag': False},\n",
       " {'title': 'hdhdh',\n",
       "  'description': 'bebdb',\n",
       "  'venue': 'bebeh',\n",
       "  'audience': 'Hall Council RP',\n",
       "  'date': '10/07/2018',\n",
       "  'time': '12:05',\n",
       "  'createdBy': 'fname lname (rp_hp)',\n",
       "  'helpers': ['fname lname (rp_gsec_socult)',\n",
       "   'fname lname (rp_gsec_sports)',\n",
       "   'fname lname (rp_gsec_tech)'],\n",
       "  'role': '',\n",
       "  'uid': 'cae5b95a-c27d-4974-8a2c-f14dc92231ea',\n",
       "  'deleteFlag': False},\n",
       " {'title': 'hdhdh',\n",
       "  'description': 'bebdb',\n",
       "  'venue': 'bebeh',\n",
       "  'audience': 'Hall Council RP',\n",
       "  'date': '10/07/2018',\n",
       "  'time': '12:05',\n",
       "  'createdBy': 'fname lname (rp_hp)',\n",
       "  'helpers': ['fname lname (rp_gsec_socult)',\n",
       "   'fname lname (rp_gsec_sports)',\n",
       "   'fname lname (rp_gsec_tech)'],\n",
       "  'role': '',\n",
       "  'uid': '2a571be8-d7a5-48e0-8f07-848da69c26b2',\n",
       "  'deleteFlag': False},\n",
       " {'title': 'hdndb',\n",
       "  'description': 'hdhdh',\n",
       "  'venue': 'dnnddb',\n",
       "  'audience': 'Hall Council RP',\n",
       "  'date': '10/07/2018',\n",
       "  'time': '12:09',\n",
       "  'createdBy': 'fname lname (rp_hp)',\n",
       "  'helpers': ['fname lname (rp_gsec_socult)', 'fname lname (rp_gsec_sports)'],\n",
       "  'role': '',\n",
       "  'uid': 'a2028714-bd86-458b-929d-947e18bb9718',\n",
       "  'deleteFlag': False},\n",
       " {'title': 'hshsb',\n",
       "  'description': 'hdhdh',\n",
       "  'venue': 'dhdb',\n",
       "  'audience': 'Hall Council RP',\n",
       "  'date': '10/07/2018',\n",
       "  'time': '12:11',\n",
       "  'createdBy': 'fname lname (rp_hp)',\n",
       "  'helpers': ['fname lname (rp_hp)',\n",
       "   'fname lname (rp_gsec_socult)',\n",
       "   'fname lname (rp_gsec_tech)'],\n",
       "  'role': '',\n",
       "  'uid': '396a0ec6-3295-43e3-9f4c-245a31b5f739',\n",
       "  'deleteFlag': False},\n",
       " {'title': 'hshsb',\n",
       "  'description': 'hdhdh',\n",
       "  'venue': 'dhdb',\n",
       "  'audience': 'Hall Council RP',\n",
       "  'date': '10/07/2018',\n",
       "  'time': '12:11',\n",
       "  'createdBy': 'fname lname (rp_hp)',\n",
       "  'helpers': ['fname lname (rp_hp)',\n",
       "   'fname lname (rp_gsec_socult)',\n",
       "   'fname lname (rp_gsec_tech)'],\n",
       "  'role': '',\n",
       "  'uid': 'd3be69f9-8181-42b5-b9f5-fdc1cb70e2da',\n",
       "  'deleteFlag': False},\n",
       " {'title': 'bdbeb',\n",
       "  'description': 'jshdh',\n",
       "  'venue': 'shdhr',\n",
       "  'audience': 'Hall Council RP',\n",
       "  'date': '10/07/2018',\n",
       "  'time': '12:15',\n",
       "  'createdBy': 'fname lname (rp_hp)',\n",
       "  'helpers': ['fname lname (rp_ssm)', 'fname lname (rp_gsec_socult)'],\n",
       "  'role': '',\n",
       "  'uid': '1d56f1a4-d5e6-400c-b222-5be708174b04',\n",
       "  'deleteFlag': False},\n",
       " {'title': 'ehshd',\n",
       "  'description': 'xndndh',\n",
       "  'venue': 'xbdnhd',\n",
       "  'audience': 'Hall Council RP',\n",
       "  'date': '10/07/2018',\n",
       "  'time': '12:17',\n",
       "  'createdBy': 'fname lname (rp_hp)',\n",
       "  'helpers': ['fname lname (rp_gsec_sports)', 'fname lname (rp_gsec_tech)'],\n",
       "  'role': '',\n",
       "  'uid': '25bcee2f-5e25-4a4e-a2fe-d3f5b8325a93',\n",
       "  'deleteFlag': False},\n",
       " {'title': 'dbdbdb',\n",
       "  'description': 'hddjdj',\n",
       "  'venue': 'shdj',\n",
       "  'audience': 'Hall Council RP',\n",
       "  'date': '10/07/2018',\n",
       "  'time': '12:20',\n",
       "  'createdBy': 'fname lname (rp_hp)',\n",
       "  'helpers': ['fname lname (rp_gsec_socult)', 'fname lname (rp_gsec_tech)'],\n",
       "  'role': '',\n",
       "  'uid': '819325cc-a26b-4dd2-8c97-b5a864372b69',\n",
       "  'deleteFlag': False},\n",
       " {'title': 'ehdhdh',\n",
       "  'description': 'dbndnd',\n",
       "  'venue': 'dbdnjd',\n",
       "  'audience': 'Hall Council RP',\n",
       "  'date': '10/07/2018',\n",
       "  'time': '12:24',\n",
       "  'createdBy': 'fname lname (rp_hp)',\n",
       "  'helpers': ['fname lname (rp_gsec_socult)',\n",
       "   'fname lname (rp_gsec_sports)',\n",
       "   'fname lname (rp_gsec_tech)'],\n",
       "  'role': '',\n",
       "  'uid': '141000c4-82b9-43e1-b5f4-7442d1c9c6e5',\n",
       "  'deleteFlag': False},\n",
       " {'title': 'dhdjd',\n",
       "  'description': 'hdjdmd',\n",
       "  'venue': 'ndkdmd',\n",
       "  'audience': 'Hall Council RP',\n",
       "  'date': '10/07/2018',\n",
       "  'time': '12:26',\n",
       "  'createdBy': 'fname lname (rp_hp)',\n",
       "  'helpers': ['fname lname (rp_gsec_sports)'],\n",
       "  'role': '',\n",
       "  'uid': 'e5e64939-3a0c-4ecb-acfc-76cef431531d',\n",
       "  'deleteFlag': False},\n",
       " {'title': 'dbdbeb',\n",
       "  'description': 'dhdjdh',\n",
       "  'venue': 'hdjdhd',\n",
       "  'audience': 'Hall Council RP',\n",
       "  'date': '10/07/2018',\n",
       "  'time': '12:27',\n",
       "  'createdBy': 'fname lname (rp_hp)',\n",
       "  'helpers': ['fname lname (rp_gsec_socult)', 'fname lname (rp_gsec_sports)'],\n",
       "  'role': '',\n",
       "  'uid': '88f5f38c-2af4-4513-9082-caae92aa0a4b',\n",
       "  'deleteFlag': False},\n",
       " {'title': 'heh',\n",
       "  'description': 'dbdb',\n",
       "  'venue': 'snsb',\n",
       "  'audience': 'Hall Council RP',\n",
       "  'date': '10/07/2018',\n",
       "  'time': '12:29',\n",
       "  'createdBy': 'fname lname (rp_hp)',\n",
       "  'helpers': ['fname lname (rp_gsec_sports)', 'fname lname (rp_gsec_tech)'],\n",
       "  'role': '',\n",
       "  'uid': 'e7a35407-6b8a-4842-95e8-aa262e2e0f53',\n",
       "  'deleteFlag': False},\n",
       " {'title': 'dhdh',\n",
       "  'description': 'xhdh',\n",
       "  'venue': 'shdh',\n",
       "  'audience': 'Hall Council RP',\n",
       "  'date': '10/07/2018',\n",
       "  'time': '16:47',\n",
       "  'createdBy': 'fname lname (rp_hp)',\n",
       "  'helpers': ['fname lname (rp_gsec_socult)'],\n",
       "  'role': '',\n",
       "  'uid': '445d8faa-a93f-4354-b1d7-667fc409e823',\n",
       "  'deleteFlag': False},\n",
       " {'title': 'dhdh',\n",
       "  'description': 'xhdh',\n",
       "  'venue': 'shdh',\n",
       "  'audience': 'Hall Council RP',\n",
       "  'date': '10/07/2018',\n",
       "  'time': '16:47',\n",
       "  'createdBy': 'fname lname (rp_hp)',\n",
       "  'helpers': ['fname lname (rp_gsec_socult)'],\n",
       "  'role': '',\n",
       "  'uid': '5091bd48-a664-4c73-9773-973e1f386364',\n",
       "  'deleteFlag': False},\n",
       " {'title': 'hsh',\n",
       "  'description': 'hddb',\n",
       "  'venue': 'hshd',\n",
       "  'audience': 'Hall Council RP',\n",
       "  'date': '10/07/2018',\n",
       "  'time': '15:18',\n",
       "  'createdBy': 'fname lname (rp_hp)',\n",
       "  'helpers': ['fname lname (rp_gsec_socult)',\n",
       "   'fname lname (rp_gsec_sports)',\n",
       "   'fname lname (rp_gsec_tech)'],\n",
       "  'role': '',\n",
       "  'uid': 'e0e75d60-de0a-4097-accf-6a7acea3676a',\n",
       "  'deleteFlag': False},\n",
       " {'title': 'hsh',\n",
       "  'description': 'hddb',\n",
       "  'venue': 'hshd',\n",
       "  'audience': 'Hall Council RP',\n",
       "  'date': '10/07/2018',\n",
       "  'time': '15:18',\n",
       "  'createdBy': 'fname lname (rp_hp)',\n",
       "  'helpers': ['fname lname (rp_gsec_socult)',\n",
       "   'fname lname (rp_gsec_sports)',\n",
       "   'fname lname (rp_gsec_tech)'],\n",
       "  'role': '',\n",
       "  'uid': 'eaf4feda-3d59-40fc-a5ee-157f2e456806',\n",
       "  'deleteFlag': False},\n",
       " {'title': 'hsh',\n",
       "  'description': 'hddb',\n",
       "  'venue': 'hshd',\n",
       "  'audience': 'Hall Council RP',\n",
       "  'date': '10/07/2018',\n",
       "  'time': '15:18',\n",
       "  'createdBy': 'fname lname (rp_hp)',\n",
       "  'helpers': ['fname lname (rp_gsec_socult)',\n",
       "   'fname lname (rp_gsec_sports)',\n",
       "   'fname lname (rp_gsec_tech)'],\n",
       "  'role': '',\n",
       "  'uid': '75285def-569d-4847-9af5-752aad8e80ee',\n",
       "  'deleteFlag': False},\n",
       " {'title': 'hsh',\n",
       "  'description': 'hddb',\n",
       "  'venue': 'hshd',\n",
       "  'audience': 'Hall Council RP',\n",
       "  'date': '10/07/2018',\n",
       "  'time': '15:18',\n",
       "  'createdBy': 'fname lname (rp_hp)',\n",
       "  'helpers': ['fname lname (rp_gsec_socult)',\n",
       "   'fname lname (rp_gsec_sports)',\n",
       "   'fname lname (rp_gsec_tech)'],\n",
       "  'role': '',\n",
       "  'uid': 'd9e473fa-7813-4823-a6b9-1c8131627cf4',\n",
       "  'deleteFlag': False},\n",
       " {'title': 'herh',\n",
       "  'description': 'eneb',\n",
       "  'venue': 'bdebd',\n",
       "  'audience': 'Hall Council RP',\n",
       "  'date': '10/07/2018',\n",
       "  'time': '15:27',\n",
       "  'createdBy': 'fname lname (rp_hp)',\n",
       "  'helpers': ['fname lname (rp_gsec_socult)'],\n",
       "  'role': '',\n",
       "  'uid': 'd78f34e7-5f28-4c9b-b456-6445ecf36ecd',\n",
       "  'deleteFlag': False},\n",
       " {'title': 'hdh',\n",
       "  'description': 'bsbs',\n",
       "  'venue': 'bxhs',\n",
       "  'audience': 'Hall Council RP',\n",
       "  'date': '10/07/2018',\n",
       "  'time': '15:32',\n",
       "  'createdBy': 'fname lname (rp_hp)',\n",
       "  'helpers': ['fname lname (rp_gsec_sports)', 'fname lname (rp_gsec_tech)'],\n",
       "  'role': '',\n",
       "  'uid': '451257fe-02f5-4250-8104-dba965147c81',\n",
       "  'deleteFlag': False},\n",
       " {'title': 'hdh',\n",
       "  'description': 'bsbs',\n",
       "  'venue': 'bxhs',\n",
       "  'audience': 'Hall Council RP',\n",
       "  'date': '10/07/2018',\n",
       "  'time': '15:32',\n",
       "  'createdBy': 'fname lname (rp_hp)',\n",
       "  'helpers': ['fname lname (rp_gsec_sports)', 'fname lname (rp_gsec_tech)'],\n",
       "  'role': '',\n",
       "  'uid': 'e6129df4-34ca-4c38-93e5-852fadad1c24',\n",
       "  'deleteFlag': False},\n",
       " {'title': 'hdh',\n",
       "  'description': 'bsbs',\n",
       "  'venue': 'bxhs',\n",
       "  'audience': 'Hall Council RP',\n",
       "  'date': '10/07/2018',\n",
       "  'time': '15:32',\n",
       "  'createdBy': 'fname lname (rp_hp)',\n",
       "  'helpers': ['fname lname (rp_gsec_sports)', 'fname lname (rp_gsec_tech)'],\n",
       "  'role': '',\n",
       "  'uid': '9fd00804-011b-4dfd-bc04-443aede19fb0',\n",
       "  'deleteFlag': False},\n",
       " {'title': 'bxbx',\n",
       "  'description': 'jdjdj',\n",
       "  'venue': 'djdj',\n",
       "  'audience': 'Hall Council RP',\n",
       "  'date': '10/07/2018',\n",
       "  'time': '15:46',\n",
       "  'createdBy': 'fname lname (rp_hp)',\n",
       "  'helpers': ['fname lname (rp_gsec_socult)',\n",
       "   'fname lname (rp_gsec_sports)',\n",
       "   'fname lname (rp_gsec_tech)'],\n",
       "  'role': '',\n",
       "  'uid': '52476697-1249-467e-bb0b-26e3b256bf03',\n",
       "  'deleteFlag': False},\n",
       " {'title': 'bdbe',\n",
       "  'description': 'hehr',\n",
       "  'venue': 'hehe',\n",
       "  'audience': 'Hall Council RP',\n",
       "  'date': '10/07/2018',\n",
       "  'time': '15:49',\n",
       "  'createdBy': 'fname lname (rp_hp)',\n",
       "  'helpers': ['fname lname (rp_gsec_socult)',\n",
       "   'fname lname (rp_gsec_sports)',\n",
       "   'fname lname (rp_gsec_tech)'],\n",
       "  'role': '',\n",
       "  'uid': '10e65d40-3a74-43bb-b093-3a34b5e692fc',\n",
       "  'deleteFlag': False},\n",
       " {'title': 'bdbe',\n",
       "  'description': 'hehr',\n",
       "  'venue': 'hehe',\n",
       "  'audience': 'Hall Council RP',\n",
       "  'date': '10/07/2018',\n",
       "  'time': '15:49',\n",
       "  'createdBy': 'fname lname (rp_hp)',\n",
       "  'helpers': ['fname lname (rp_gsec_socult)',\n",
       "   'fname lname (rp_gsec_sports)',\n",
       "   'fname lname (rp_gsec_tech)'],\n",
       "  'role': '',\n",
       "  'uid': 'e47d5433-59e1-4efd-ad35-003700db10fc',\n",
       "  'deleteFlag': False},\n",
       " {'title': 'hehe',\n",
       "  'description': 'hehd',\n",
       "  'venue': 'ebeh',\n",
       "  'audience': 'Hall Council RP',\n",
       "  'date': '10/07/2018',\n",
       "  'time': '15:52',\n",
       "  'createdBy': 'fname lname (rp_hp)',\n",
       "  'helpers': ['fname lname (rp_gsec_sports)'],\n",
       "  'role': '',\n",
       "  'uid': 'b0bf2dff-d4a1-4e67-b3f5-9fe358338b40',\n",
       "  'deleteFlag': False},\n",
       " {'title': 'hehe',\n",
       "  'description': 'hehd',\n",
       "  'venue': 'ebeh',\n",
       "  'audience': 'Hall Council RP',\n",
       "  'date': '10/07/2018',\n",
       "  'time': '15:52',\n",
       "  'createdBy': 'fname lname (rp_hp)',\n",
       "  'helpers': ['fname lname (rp_gsec_sports)'],\n",
       "  'role': '',\n",
       "  'uid': '473c1740-266e-45fe-9233-48506850e851',\n",
       "  'deleteFlag': False},\n",
       " {'title': 'ycyc',\n",
       "  'description': 't',\n",
       "  'venue': 'ctxtx',\n",
       "  'audience': 'Hall Council RP',\n",
       "  'date': '10/07/2018',\n",
       "  'time': '16:35',\n",
       "  'createdBy': 'fname lname (rp_hp)',\n",
       "  'helpers': ['fname lname (rp_gsec_sports)'],\n",
       "  'role': '',\n",
       "  'uid': '7069599d-20b4-4041-8cad-271fda18a8ae',\n",
       "  'deleteFlag': False},\n",
       " {'title': 'bdb',\n",
       "  'description': 'hdhe',\n",
       "  'venue': 'hshe',\n",
       "  'audience': 'Hall Council RP',\n",
       "  'date': '10/07/2018',\n",
       "  'time': '16:41',\n",
       "  'createdBy': 'fname lname (rp_hp)',\n",
       "  'helpers': ['fname lname (rp_gsec_sports)', 'fname lname (rp_gsec_tech)'],\n",
       "  'role': '',\n",
       "  'uid': 'b21ea0b1-4f89-4852-b621-75999edc9ed7',\n",
       "  'deleteFlag': False},\n",
       " {'title': 'bdb',\n",
       "  'description': 'hdhe',\n",
       "  'venue': 'hshe',\n",
       "  'audience': 'Hall Council RP',\n",
       "  'date': '10/07/2018',\n",
       "  'time': '16:41',\n",
       "  'createdBy': 'fname lname (rp_hp)',\n",
       "  'helpers': ['fname lname (rp_gsec_sports)', 'fname lname (rp_gsec_tech)'],\n",
       "  'role': '',\n",
       "  'uid': '519a81b4-ac46-4240-95df-8e320af3964e',\n",
       "  'deleteFlag': False},\n",
       " {'title': 'bdb',\n",
       "  'description': 'hdhe',\n",
       "  'venue': 'hshe',\n",
       "  'audience': 'Hall Council RP',\n",
       "  'date': '10/07/2018',\n",
       "  'time': '16:41',\n",
       "  'createdBy': 'fname lname (rp_hp)',\n",
       "  'helpers': ['fname lname (rp_gsec_sports)', 'fname lname (rp_gsec_tech)'],\n",
       "  'role': '',\n",
       "  'uid': '3ac82e50-aef5-4330-9c3f-a7293a4198a3',\n",
       "  'deleteFlag': False}]"
      ]
     },
     "execution_count": 5,
     "metadata": {},
     "output_type": "execute_result"
    }
   ],
   "source": [
    "li"
   ]
  },
  {
   "cell_type": "code",
   "execution_count": 8,
   "metadata": {},
   "outputs": [],
   "source": [
    "import datetime\n",
    "li.sort(key=lambda x: datetime.datetime.strptime(x[\"date\"],\"%d/%m/%Y\"), reverse=True)"
   ]
  },
  {
   "cell_type": "code",
   "execution_count": 9,
   "metadata": {},
   "outputs": [
    {
     "data": {
      "text/plain": [
       "[{'title': 'wb',\n",
       "  'description': 'web',\n",
       "  'venue': 'bew',\n",
       "  'audience': 'All Students',\n",
       "  'date': '18/07/2018',\n",
       "  'time': '09:57',\n",
       "  'createdBy': 'fname lname (gymk_gsec_tech1)',\n",
       "  'helpers': ['fname lname (gymk_gsec_sport2)'],\n",
       "  'role': '',\n",
       "  'uid': '24f9b291-19bb-4fff-ab63-71a412d4ddf6',\n",
       "  'deleteFlag': True},\n",
       " {'title': 'shsheh',\n",
       "  'description': 'jdueh',\n",
       "  'venue': 'dhdhe',\n",
       "  'audience': 'Hall Council RP',\n",
       "  'date': '14/07/2018',\n",
       "  'time': '12:08',\n",
       "  'createdBy': 'fname lname (rp_hp)',\n",
       "  'helpers': ['fname lname (rp_gsec_sports)', 'fname lname (rp_gsec_tech)'],\n",
       "  'role': '',\n",
       "  'uid': '49162701-ab4c-41f3-b026-dd3345b36033',\n",
       "  'deleteFlag': True},\n",
       " {'title': 'dvd',\n",
       "  'description': 'vasas',\n",
       "  'venue': 'asvas',\n",
       "  'audience': 'All Students',\n",
       "  'date': '11/07/2018',\n",
       "  'time': '09:10',\n",
       "  'createdBy': 'fname lname (sup_user)',\n",
       "  'helpers': ['fname lname (gymk_gsec_tech1)'],\n",
       "  'role': 'Owner',\n",
       "  'uid': '5e9cf983-a4e3-4ff0-a492-f1e47ad48af3',\n",
       "  'deleteFlag': False},\n",
       " {'title': 'hdhdh',\n",
       "  'description': 'bebdb',\n",
       "  'venue': 'bebeh',\n",
       "  'audience': 'Hall Council RP',\n",
       "  'date': '10/07/2018',\n",
       "  'time': '12:05',\n",
       "  'createdBy': 'fname lname (rp_hp)',\n",
       "  'helpers': ['fname lname (rp_gsec_socult)',\n",
       "   'fname lname (rp_gsec_sports)',\n",
       "   'fname lname (rp_gsec_tech)'],\n",
       "  'role': '',\n",
       "  'uid': 'cae5b95a-c27d-4974-8a2c-f14dc92231ea',\n",
       "  'deleteFlag': False},\n",
       " {'title': 'hdhdh',\n",
       "  'description': 'bebdb',\n",
       "  'venue': 'bebeh',\n",
       "  'audience': 'Hall Council RP',\n",
       "  'date': '10/07/2018',\n",
       "  'time': '12:05',\n",
       "  'createdBy': 'fname lname (rp_hp)',\n",
       "  'helpers': ['fname lname (rp_gsec_socult)',\n",
       "   'fname lname (rp_gsec_sports)',\n",
       "   'fname lname (rp_gsec_tech)'],\n",
       "  'role': '',\n",
       "  'uid': '2a571be8-d7a5-48e0-8f07-848da69c26b2',\n",
       "  'deleteFlag': False},\n",
       " {'title': 'hdndb',\n",
       "  'description': 'hdhdh',\n",
       "  'venue': 'dnnddb',\n",
       "  'audience': 'Hall Council RP',\n",
       "  'date': '10/07/2018',\n",
       "  'time': '12:09',\n",
       "  'createdBy': 'fname lname (rp_hp)',\n",
       "  'helpers': ['fname lname (rp_gsec_socult)', 'fname lname (rp_gsec_sports)'],\n",
       "  'role': '',\n",
       "  'uid': 'a2028714-bd86-458b-929d-947e18bb9718',\n",
       "  'deleteFlag': False},\n",
       " {'title': 'hshsb',\n",
       "  'description': 'hdhdh',\n",
       "  'venue': 'dhdb',\n",
       "  'audience': 'Hall Council RP',\n",
       "  'date': '10/07/2018',\n",
       "  'time': '12:11',\n",
       "  'createdBy': 'fname lname (rp_hp)',\n",
       "  'helpers': ['fname lname (rp_hp)',\n",
       "   'fname lname (rp_gsec_socult)',\n",
       "   'fname lname (rp_gsec_tech)'],\n",
       "  'role': '',\n",
       "  'uid': '396a0ec6-3295-43e3-9f4c-245a31b5f739',\n",
       "  'deleteFlag': False},\n",
       " {'title': 'hshsb',\n",
       "  'description': 'hdhdh',\n",
       "  'venue': 'dhdb',\n",
       "  'audience': 'Hall Council RP',\n",
       "  'date': '10/07/2018',\n",
       "  'time': '12:11',\n",
       "  'createdBy': 'fname lname (rp_hp)',\n",
       "  'helpers': ['fname lname (rp_hp)',\n",
       "   'fname lname (rp_gsec_socult)',\n",
       "   'fname lname (rp_gsec_tech)'],\n",
       "  'role': '',\n",
       "  'uid': 'd3be69f9-8181-42b5-b9f5-fdc1cb70e2da',\n",
       "  'deleteFlag': False},\n",
       " {'title': 'bdbeb',\n",
       "  'description': 'jshdh',\n",
       "  'venue': 'shdhr',\n",
       "  'audience': 'Hall Council RP',\n",
       "  'date': '10/07/2018',\n",
       "  'time': '12:15',\n",
       "  'createdBy': 'fname lname (rp_hp)',\n",
       "  'helpers': ['fname lname (rp_ssm)', 'fname lname (rp_gsec_socult)'],\n",
       "  'role': '',\n",
       "  'uid': '1d56f1a4-d5e6-400c-b222-5be708174b04',\n",
       "  'deleteFlag': False},\n",
       " {'title': 'ehshd',\n",
       "  'description': 'xndndh',\n",
       "  'venue': 'xbdnhd',\n",
       "  'audience': 'Hall Council RP',\n",
       "  'date': '10/07/2018',\n",
       "  'time': '12:17',\n",
       "  'createdBy': 'fname lname (rp_hp)',\n",
       "  'helpers': ['fname lname (rp_gsec_sports)', 'fname lname (rp_gsec_tech)'],\n",
       "  'role': '',\n",
       "  'uid': '25bcee2f-5e25-4a4e-a2fe-d3f5b8325a93',\n",
       "  'deleteFlag': False},\n",
       " {'title': 'dbdbdb',\n",
       "  'description': 'hddjdj',\n",
       "  'venue': 'shdj',\n",
       "  'audience': 'Hall Council RP',\n",
       "  'date': '10/07/2018',\n",
       "  'time': '12:20',\n",
       "  'createdBy': 'fname lname (rp_hp)',\n",
       "  'helpers': ['fname lname (rp_gsec_socult)', 'fname lname (rp_gsec_tech)'],\n",
       "  'role': '',\n",
       "  'uid': '819325cc-a26b-4dd2-8c97-b5a864372b69',\n",
       "  'deleteFlag': False},\n",
       " {'title': 'ehdhdh',\n",
       "  'description': 'dbndnd',\n",
       "  'venue': 'dbdnjd',\n",
       "  'audience': 'Hall Council RP',\n",
       "  'date': '10/07/2018',\n",
       "  'time': '12:24',\n",
       "  'createdBy': 'fname lname (rp_hp)',\n",
       "  'helpers': ['fname lname (rp_gsec_socult)',\n",
       "   'fname lname (rp_gsec_sports)',\n",
       "   'fname lname (rp_gsec_tech)'],\n",
       "  'role': '',\n",
       "  'uid': '141000c4-82b9-43e1-b5f4-7442d1c9c6e5',\n",
       "  'deleteFlag': False},\n",
       " {'title': 'dhdjd',\n",
       "  'description': 'hdjdmd',\n",
       "  'venue': 'ndkdmd',\n",
       "  'audience': 'Hall Council RP',\n",
       "  'date': '10/07/2018',\n",
       "  'time': '12:26',\n",
       "  'createdBy': 'fname lname (rp_hp)',\n",
       "  'helpers': ['fname lname (rp_gsec_sports)'],\n",
       "  'role': '',\n",
       "  'uid': 'e5e64939-3a0c-4ecb-acfc-76cef431531d',\n",
       "  'deleteFlag': False},\n",
       " {'title': 'dbdbeb',\n",
       "  'description': 'dhdjdh',\n",
       "  'venue': 'hdjdhd',\n",
       "  'audience': 'Hall Council RP',\n",
       "  'date': '10/07/2018',\n",
       "  'time': '12:27',\n",
       "  'createdBy': 'fname lname (rp_hp)',\n",
       "  'helpers': ['fname lname (rp_gsec_socult)', 'fname lname (rp_gsec_sports)'],\n",
       "  'role': '',\n",
       "  'uid': '88f5f38c-2af4-4513-9082-caae92aa0a4b',\n",
       "  'deleteFlag': False},\n",
       " {'title': 'heh',\n",
       "  'description': 'dbdb',\n",
       "  'venue': 'snsb',\n",
       "  'audience': 'Hall Council RP',\n",
       "  'date': '10/07/2018',\n",
       "  'time': '12:29',\n",
       "  'createdBy': 'fname lname (rp_hp)',\n",
       "  'helpers': ['fname lname (rp_gsec_sports)', 'fname lname (rp_gsec_tech)'],\n",
       "  'role': '',\n",
       "  'uid': 'e7a35407-6b8a-4842-95e8-aa262e2e0f53',\n",
       "  'deleteFlag': False},\n",
       " {'title': 'dhdh',\n",
       "  'description': 'xhdh',\n",
       "  'venue': 'shdh',\n",
       "  'audience': 'Hall Council RP',\n",
       "  'date': '10/07/2018',\n",
       "  'time': '16:47',\n",
       "  'createdBy': 'fname lname (rp_hp)',\n",
       "  'helpers': ['fname lname (rp_gsec_socult)'],\n",
       "  'role': '',\n",
       "  'uid': '445d8faa-a93f-4354-b1d7-667fc409e823',\n",
       "  'deleteFlag': False},\n",
       " {'title': 'dhdh',\n",
       "  'description': 'xhdh',\n",
       "  'venue': 'shdh',\n",
       "  'audience': 'Hall Council RP',\n",
       "  'date': '10/07/2018',\n",
       "  'time': '16:47',\n",
       "  'createdBy': 'fname lname (rp_hp)',\n",
       "  'helpers': ['fname lname (rp_gsec_socult)'],\n",
       "  'role': '',\n",
       "  'uid': '5091bd48-a664-4c73-9773-973e1f386364',\n",
       "  'deleteFlag': False},\n",
       " {'title': 'hsh',\n",
       "  'description': 'hddb',\n",
       "  'venue': 'hshd',\n",
       "  'audience': 'Hall Council RP',\n",
       "  'date': '10/07/2018',\n",
       "  'time': '15:18',\n",
       "  'createdBy': 'fname lname (rp_hp)',\n",
       "  'helpers': ['fname lname (rp_gsec_socult)',\n",
       "   'fname lname (rp_gsec_sports)',\n",
       "   'fname lname (rp_gsec_tech)'],\n",
       "  'role': '',\n",
       "  'uid': 'e0e75d60-de0a-4097-accf-6a7acea3676a',\n",
       "  'deleteFlag': False},\n",
       " {'title': 'hsh',\n",
       "  'description': 'hddb',\n",
       "  'venue': 'hshd',\n",
       "  'audience': 'Hall Council RP',\n",
       "  'date': '10/07/2018',\n",
       "  'time': '15:18',\n",
       "  'createdBy': 'fname lname (rp_hp)',\n",
       "  'helpers': ['fname lname (rp_gsec_socult)',\n",
       "   'fname lname (rp_gsec_sports)',\n",
       "   'fname lname (rp_gsec_tech)'],\n",
       "  'role': '',\n",
       "  'uid': 'eaf4feda-3d59-40fc-a5ee-157f2e456806',\n",
       "  'deleteFlag': False},\n",
       " {'title': 'hsh',\n",
       "  'description': 'hddb',\n",
       "  'venue': 'hshd',\n",
       "  'audience': 'Hall Council RP',\n",
       "  'date': '10/07/2018',\n",
       "  'time': '15:18',\n",
       "  'createdBy': 'fname lname (rp_hp)',\n",
       "  'helpers': ['fname lname (rp_gsec_socult)',\n",
       "   'fname lname (rp_gsec_sports)',\n",
       "   'fname lname (rp_gsec_tech)'],\n",
       "  'role': '',\n",
       "  'uid': '75285def-569d-4847-9af5-752aad8e80ee',\n",
       "  'deleteFlag': False},\n",
       " {'title': 'hsh',\n",
       "  'description': 'hddb',\n",
       "  'venue': 'hshd',\n",
       "  'audience': 'Hall Council RP',\n",
       "  'date': '10/07/2018',\n",
       "  'time': '15:18',\n",
       "  'createdBy': 'fname lname (rp_hp)',\n",
       "  'helpers': ['fname lname (rp_gsec_socult)',\n",
       "   'fname lname (rp_gsec_sports)',\n",
       "   'fname lname (rp_gsec_tech)'],\n",
       "  'role': '',\n",
       "  'uid': 'd9e473fa-7813-4823-a6b9-1c8131627cf4',\n",
       "  'deleteFlag': False},\n",
       " {'title': 'herh',\n",
       "  'description': 'eneb',\n",
       "  'venue': 'bdebd',\n",
       "  'audience': 'Hall Council RP',\n",
       "  'date': '10/07/2018',\n",
       "  'time': '15:27',\n",
       "  'createdBy': 'fname lname (rp_hp)',\n",
       "  'helpers': ['fname lname (rp_gsec_socult)'],\n",
       "  'role': '',\n",
       "  'uid': 'd78f34e7-5f28-4c9b-b456-6445ecf36ecd',\n",
       "  'deleteFlag': False},\n",
       " {'title': 'hdh',\n",
       "  'description': 'bsbs',\n",
       "  'venue': 'bxhs',\n",
       "  'audience': 'Hall Council RP',\n",
       "  'date': '10/07/2018',\n",
       "  'time': '15:32',\n",
       "  'createdBy': 'fname lname (rp_hp)',\n",
       "  'helpers': ['fname lname (rp_gsec_sports)', 'fname lname (rp_gsec_tech)'],\n",
       "  'role': '',\n",
       "  'uid': '451257fe-02f5-4250-8104-dba965147c81',\n",
       "  'deleteFlag': False},\n",
       " {'title': 'hdh',\n",
       "  'description': 'bsbs',\n",
       "  'venue': 'bxhs',\n",
       "  'audience': 'Hall Council RP',\n",
       "  'date': '10/07/2018',\n",
       "  'time': '15:32',\n",
       "  'createdBy': 'fname lname (rp_hp)',\n",
       "  'helpers': ['fname lname (rp_gsec_sports)', 'fname lname (rp_gsec_tech)'],\n",
       "  'role': '',\n",
       "  'uid': 'e6129df4-34ca-4c38-93e5-852fadad1c24',\n",
       "  'deleteFlag': False},\n",
       " {'title': 'hdh',\n",
       "  'description': 'bsbs',\n",
       "  'venue': 'bxhs',\n",
       "  'audience': 'Hall Council RP',\n",
       "  'date': '10/07/2018',\n",
       "  'time': '15:32',\n",
       "  'createdBy': 'fname lname (rp_hp)',\n",
       "  'helpers': ['fname lname (rp_gsec_sports)', 'fname lname (rp_gsec_tech)'],\n",
       "  'role': '',\n",
       "  'uid': '9fd00804-011b-4dfd-bc04-443aede19fb0',\n",
       "  'deleteFlag': False},\n",
       " {'title': 'bxbx',\n",
       "  'description': 'jdjdj',\n",
       "  'venue': 'djdj',\n",
       "  'audience': 'Hall Council RP',\n",
       "  'date': '10/07/2018',\n",
       "  'time': '15:46',\n",
       "  'createdBy': 'fname lname (rp_hp)',\n",
       "  'helpers': ['fname lname (rp_gsec_socult)',\n",
       "   'fname lname (rp_gsec_sports)',\n",
       "   'fname lname (rp_gsec_tech)'],\n",
       "  'role': '',\n",
       "  'uid': '52476697-1249-467e-bb0b-26e3b256bf03',\n",
       "  'deleteFlag': False},\n",
       " {'title': 'bdbe',\n",
       "  'description': 'hehr',\n",
       "  'venue': 'hehe',\n",
       "  'audience': 'Hall Council RP',\n",
       "  'date': '10/07/2018',\n",
       "  'time': '15:49',\n",
       "  'createdBy': 'fname lname (rp_hp)',\n",
       "  'helpers': ['fname lname (rp_gsec_socult)',\n",
       "   'fname lname (rp_gsec_sports)',\n",
       "   'fname lname (rp_gsec_tech)'],\n",
       "  'role': '',\n",
       "  'uid': '10e65d40-3a74-43bb-b093-3a34b5e692fc',\n",
       "  'deleteFlag': False},\n",
       " {'title': 'bdbe',\n",
       "  'description': 'hehr',\n",
       "  'venue': 'hehe',\n",
       "  'audience': 'Hall Council RP',\n",
       "  'date': '10/07/2018',\n",
       "  'time': '15:49',\n",
       "  'createdBy': 'fname lname (rp_hp)',\n",
       "  'helpers': ['fname lname (rp_gsec_socult)',\n",
       "   'fname lname (rp_gsec_sports)',\n",
       "   'fname lname (rp_gsec_tech)'],\n",
       "  'role': '',\n",
       "  'uid': 'e47d5433-59e1-4efd-ad35-003700db10fc',\n",
       "  'deleteFlag': False},\n",
       " {'title': 'hehe',\n",
       "  'description': 'hehd',\n",
       "  'venue': 'ebeh',\n",
       "  'audience': 'Hall Council RP',\n",
       "  'date': '10/07/2018',\n",
       "  'time': '15:52',\n",
       "  'createdBy': 'fname lname (rp_hp)',\n",
       "  'helpers': ['fname lname (rp_gsec_sports)'],\n",
       "  'role': '',\n",
       "  'uid': 'b0bf2dff-d4a1-4e67-b3f5-9fe358338b40',\n",
       "  'deleteFlag': False},\n",
       " {'title': 'hehe',\n",
       "  'description': 'hehd',\n",
       "  'venue': 'ebeh',\n",
       "  'audience': 'Hall Council RP',\n",
       "  'date': '10/07/2018',\n",
       "  'time': '15:52',\n",
       "  'createdBy': 'fname lname (rp_hp)',\n",
       "  'helpers': ['fname lname (rp_gsec_sports)'],\n",
       "  'role': '',\n",
       "  'uid': '473c1740-266e-45fe-9233-48506850e851',\n",
       "  'deleteFlag': False},\n",
       " {'title': 'ycyc',\n",
       "  'description': 't',\n",
       "  'venue': 'ctxtx',\n",
       "  'audience': 'Hall Council RP',\n",
       "  'date': '10/07/2018',\n",
       "  'time': '16:35',\n",
       "  'createdBy': 'fname lname (rp_hp)',\n",
       "  'helpers': ['fname lname (rp_gsec_sports)'],\n",
       "  'role': '',\n",
       "  'uid': '7069599d-20b4-4041-8cad-271fda18a8ae',\n",
       "  'deleteFlag': False},\n",
       " {'title': 'bdb',\n",
       "  'description': 'hdhe',\n",
       "  'venue': 'hshe',\n",
       "  'audience': 'Hall Council RP',\n",
       "  'date': '10/07/2018',\n",
       "  'time': '16:41',\n",
       "  'createdBy': 'fname lname (rp_hp)',\n",
       "  'helpers': ['fname lname (rp_gsec_sports)', 'fname lname (rp_gsec_tech)'],\n",
       "  'role': '',\n",
       "  'uid': 'b21ea0b1-4f89-4852-b621-75999edc9ed7',\n",
       "  'deleteFlag': False},\n",
       " {'title': 'bdb',\n",
       "  'description': 'hdhe',\n",
       "  'venue': 'hshe',\n",
       "  'audience': 'Hall Council RP',\n",
       "  'date': '10/07/2018',\n",
       "  'time': '16:41',\n",
       "  'createdBy': 'fname lname (rp_hp)',\n",
       "  'helpers': ['fname lname (rp_gsec_sports)', 'fname lname (rp_gsec_tech)'],\n",
       "  'role': '',\n",
       "  'uid': '519a81b4-ac46-4240-95df-8e320af3964e',\n",
       "  'deleteFlag': False},\n",
       " {'title': 'bdb',\n",
       "  'description': 'hdhe',\n",
       "  'venue': 'hshe',\n",
       "  'audience': 'Hall Council RP',\n",
       "  'date': '10/07/2018',\n",
       "  'time': '16:41',\n",
       "  'createdBy': 'fname lname (rp_hp)',\n",
       "  'helpers': ['fname lname (rp_gsec_sports)', 'fname lname (rp_gsec_tech)'],\n",
       "  'role': '',\n",
       "  'uid': '3ac82e50-aef5-4330-9c3f-a7293a4198a3',\n",
       "  'deleteFlag': False}]"
      ]
     },
     "execution_count": 9,
     "metadata": {},
     "output_type": "execute_result"
    }
   ],
   "source": [
    "li"
   ]
  },
  {
   "cell_type": "code",
   "execution_count": 1,
   "metadata": {},
   "outputs": [],
   "source": [
    "from django.contrib.auth.models import User\n",
    "from django.contrib.auth.models import Group\n",
    "from api.src import databaseConnection as db\n",
    "studGrp = Group.objects.get(name=\"hc_rp\")\n",
    "rpgrp = Group.objects.get(name=\"hc_rp\")"
   ]
  },
  {
   "cell_type": "code",
   "execution_count": 2,
   "metadata": {},
   "outputs": [
    {
     "name": "stdout",
     "output_type": "stream",
     "text": [
      "<QuerySet [<UserDeviceIdAndAuthToken: UserDeviceIdAndAuthToken object (6)>]>\n",
      "<QuerySet [<UserDeviceIdAndAuthToken: UserDeviceIdAndAuthToken object (8)>]>\n"
     ]
    },
    {
     "data": {
      "text/plain": [
       "['123',\n",
       " 'esLzwaYw464:APA91bF_T0nqxq2Ry1CSy8z8hzlmo2JxvrAbC1xcgIWjQBivOWt1-Q-pJ4E-UBBVsrjcCg32gxnvBeQQatlDYcGaUL0eMB2n5R5MBwvcAX7rZCvofwKNFrBkSvGEdx_Gx1lPsjwmJ27BUDLT6AZGIu4GoF-kyCzXTw']"
      ]
     },
     "execution_count": 2,
     "metadata": {},
     "output_type": "execute_result"
    }
   ],
   "source": [
    "db.getlistOfPushNotificationIdsFromAudienceGroup(rpgrp)"
   ]
  },
  {
   "cell_type": "code",
   "execution_count": 11,
   "metadata": {},
   "outputs": [],
   "source": [
    "for i in range(1,50) :\n",
    "    user = User.objects.create_user(username=f\"stud{i}\", first_name=\"f\", last_name=\"l\", password=\"123\")\n",
    "    studGrp.user_set.add(user)\n",
    "    rpgrp.user_set.add(user)"
   ]
  },
  {
   "cell_type": "code",
   "execution_count": 10,
   "metadata": {
    "collapsed": true
   },
   "outputs": [
    {
     "name": "stdout",
     "output_type": "stream",
     "text": [
      "1\n",
      "2\n",
      "3\n",
      "4\n",
      "5\n",
      "6\n",
      "7\n",
      "8\n",
      "9\n",
      "10\n",
      "11\n",
      "12\n",
      "13\n",
      "14\n",
      "15\n",
      "16\n",
      "17\n",
      "18\n",
      "19\n",
      "20\n",
      "21\n",
      "22\n",
      "23\n",
      "24\n",
      "25\n",
      "26\n",
      "27\n",
      "28\n",
      "29\n",
      "30\n",
      "31\n",
      "32\n",
      "33\n",
      "34\n",
      "35\n",
      "36\n",
      "37\n",
      "38\n",
      "39\n",
      "40\n",
      "41\n",
      "42\n",
      "43\n",
      "44\n",
      "45\n",
      "46\n",
      "47\n",
      "48\n",
      "49\n"
     ]
    }
   ],
   "source": [
    "for i in range(1,50) :\n",
    "    print(i)"
   ]
  },
  {
   "cell_type": "code",
   "execution_count": 3,
   "metadata": {},
   "outputs": [],
   "source": [
    "from api.src import notifications as n"
   ]
  },
  {
   "cell_type": "code",
   "execution_count": 4,
   "metadata": {
    "scrolled": true
   },
   "outputs": [
    {
     "name": "stdout",
     "output_type": "stream",
     "text": [
      "<QuerySet [<UserDeviceIdAndAuthToken: UserDeviceIdAndAuthToken object (6)>]>\n",
      "<QuerySet [<UserDeviceIdAndAuthToken: UserDeviceIdAndAuthToken object (8)>]>\n",
      "RegIds ['123', 'esLzwaYw464:APA91bF_T0nqxq2Ry1CSy8z8hzlmo2JxvrAbC1xcgIWjQBivOWt1-Q-pJ4E-UBBVsrjcCg32gxnvBeQQatlDYcGaUL0eMB2n5R5MBwvcAX7rZCvofwKNFrBkSvGEdx_Gx1lPsjwmJ27BUDLT6AZGIu4GoF-kyCzXTw'], validIds ['esLzwaYw464:APA91bF_T0nqxq2Ry1CSy8z8hzlmo2JxvrAbC1xcgIWjQBivOWt1-Q-pJ4E-UBBVsrjcCg32gxnvBeQQatlDYcGaUL0eMB2n5R5MBwvcAX7rZCvofwKNFrBkSvGEdx_Gx1lPsjwmJ27BUDLT6AZGIu4GoF-kyCzXTw']\n",
      "{'multicast_ids': [6477962243353992770], 'success': 1, 'failure': 0, 'canonical_ids': 0, 'results': [{'message_id': '0:1532630393041344%6c490bb06c490bb0'}], 'topic_message_id': None}\n"
     ]
    }
   ],
   "source": [
    "n.sendNotification(rpgrp,\"29/09/2018\", \"Text title\")"
   ]
  },
  {
   "cell_type": "code",
   "execution_count": 31,
   "metadata": {
    "collapsed": true
   },
   "outputs": [
    {
     "name": "stdout",
     "output_type": "stream",
     "text": [
      "Chetan Agarwal\n",
      "Sree Theerdha\n",
      "Rahul Raj\n",
      "Amirneni Satakarni\n",
      "Sachin Singh\n",
      "Saurabh Ch. Pandey\n",
      "Hemansh Kashyap\n",
      "Gaurav Suryawanshi\n",
      "Ujjawal Arya\n",
      "Krushi Bandi\n",
      "Abhinav Bhatt\n",
      "Prateek Kaushal\n",
      "Shubham Srivastava\n",
      "Sangya Chatterjee\n"
     ]
    },
    {
     "ename": "IntegrityError",
     "evalue": "duplicate key value violates unique constraint \"auth_user_username_key\"\nDETAIL:  Key (username)=(17BS4JP06) already exists.\n",
     "output_type": "error",
     "traceback": [
      "\u001b[0;31m---------------------------------------------------------------------------\u001b[0m",
      "\u001b[0;31mIntegrityError\u001b[0m                            Traceback (most recent call last)",
      "\u001b[0;32m/Volumes/Data/CODE/assimilation/assimilationVENV/lib/python3.7/site-packages/django/db/backends/utils.py\u001b[0m in \u001b[0;36m_execute\u001b[0;34m(self, sql, params, *ignored_wrapper_args)\u001b[0m\n\u001b[1;32m     84\u001b[0m             \u001b[0;32melse\u001b[0m\u001b[0;34m:\u001b[0m\u001b[0;34m\u001b[0m\u001b[0m\n\u001b[0;32m---> 85\u001b[0;31m                 \u001b[0;32mreturn\u001b[0m \u001b[0mself\u001b[0m\u001b[0;34m.\u001b[0m\u001b[0mcursor\u001b[0m\u001b[0;34m.\u001b[0m\u001b[0mexecute\u001b[0m\u001b[0;34m(\u001b[0m\u001b[0msql\u001b[0m\u001b[0;34m,\u001b[0m \u001b[0mparams\u001b[0m\u001b[0;34m)\u001b[0m\u001b[0;34m\u001b[0m\u001b[0m\n\u001b[0m\u001b[1;32m     86\u001b[0m \u001b[0;34m\u001b[0m\u001b[0m\n",
      "\u001b[0;31mIntegrityError\u001b[0m: duplicate key value violates unique constraint \"auth_user_username_key\"\nDETAIL:  Key (username)=(17BS4JP06) already exists.\n",
      "\nThe above exception was the direct cause of the following exception:\n",
      "\u001b[0;31mIntegrityError\u001b[0m                            Traceback (most recent call last)",
      "\u001b[0;32m<ipython-input-31-38b847053fda>\u001b[0m in \u001b[0;36m<module>\u001b[0;34m()\u001b[0m\n\u001b[1;32m     29\u001b[0m     \u001b[0mprint\u001b[0m\u001b[0;34m(\u001b[0m\u001b[0mrow\u001b[0m\u001b[0;34m[\u001b[0m\u001b[0;34m\"name\"\u001b[0m\u001b[0;34m]\u001b[0m\u001b[0;34m)\u001b[0m\u001b[0;34m\u001b[0m\u001b[0m\n\u001b[1;32m     30\u001b[0m \u001b[0;34m\u001b[0m\u001b[0m\n\u001b[0;32m---> 31\u001b[0;31m     \u001b[0muser\u001b[0m \u001b[0;34m=\u001b[0m \u001b[0mUser\u001b[0m\u001b[0;34m.\u001b[0m\u001b[0mobjects\u001b[0m\u001b[0;34m.\u001b[0m\u001b[0mcreate_user\u001b[0m\u001b[0;34m(\u001b[0m\u001b[0musername\u001b[0m\u001b[0;34m=\u001b[0m\u001b[0musername\u001b[0m\u001b[0;34m,\u001b[0m \u001b[0mfirst_name\u001b[0m\u001b[0;34m=\u001b[0m\u001b[0mfname\u001b[0m\u001b[0;34m,\u001b[0m \u001b[0mlast_name\u001b[0m\u001b[0;34m=\u001b[0m\u001b[0mlname\u001b[0m\u001b[0;34m,\u001b[0m \u001b[0mpassword\u001b[0m\u001b[0;34m=\u001b[0m\u001b[0mpasswordString\u001b[0m\u001b[0;34m,\u001b[0m \u001b[0memail\u001b[0m\u001b[0;34m=\u001b[0m\u001b[0memail\u001b[0m\u001b[0;34m)\u001b[0m\u001b[0;34m\u001b[0m\u001b[0m\n\u001b[0m\u001b[1;32m     32\u001b[0m     \u001b[0mattendanceTakerGroup\u001b[0m\u001b[0;34m.\u001b[0m\u001b[0muser_set\u001b[0m\u001b[0;34m.\u001b[0m\u001b[0madd\u001b[0m\u001b[0;34m(\u001b[0m\u001b[0muser\u001b[0m\u001b[0;34m)\u001b[0m\u001b[0;34m\u001b[0m\u001b[0m\n\u001b[1;32m     33\u001b[0m     \u001b[0mdepgroup\u001b[0m\u001b[0;34m.\u001b[0m\u001b[0muser_set\u001b[0m\u001b[0;34m.\u001b[0m\u001b[0madd\u001b[0m\u001b[0;34m(\u001b[0m\u001b[0muser\u001b[0m\u001b[0;34m)\u001b[0m\u001b[0;34m\u001b[0m\u001b[0m\n",
      "\u001b[0;32m/Volumes/Data/CODE/assimilation/assimilationVENV/lib/python3.7/site-packages/django/contrib/auth/models.py\u001b[0m in \u001b[0;36mcreate_user\u001b[0;34m(self, username, email, password, **extra_fields)\u001b[0m\n\u001b[1;32m    148\u001b[0m         \u001b[0mextra_fields\u001b[0m\u001b[0;34m.\u001b[0m\u001b[0msetdefault\u001b[0m\u001b[0;34m(\u001b[0m\u001b[0;34m'is_staff'\u001b[0m\u001b[0;34m,\u001b[0m \u001b[0;32mFalse\u001b[0m\u001b[0;34m)\u001b[0m\u001b[0;34m\u001b[0m\u001b[0m\n\u001b[1;32m    149\u001b[0m         \u001b[0mextra_fields\u001b[0m\u001b[0;34m.\u001b[0m\u001b[0msetdefault\u001b[0m\u001b[0;34m(\u001b[0m\u001b[0;34m'is_superuser'\u001b[0m\u001b[0;34m,\u001b[0m \u001b[0;32mFalse\u001b[0m\u001b[0;34m)\u001b[0m\u001b[0;34m\u001b[0m\u001b[0m\n\u001b[0;32m--> 150\u001b[0;31m         \u001b[0;32mreturn\u001b[0m \u001b[0mself\u001b[0m\u001b[0;34m.\u001b[0m\u001b[0m_create_user\u001b[0m\u001b[0;34m(\u001b[0m\u001b[0musername\u001b[0m\u001b[0;34m,\u001b[0m \u001b[0memail\u001b[0m\u001b[0;34m,\u001b[0m \u001b[0mpassword\u001b[0m\u001b[0;34m,\u001b[0m \u001b[0;34m**\u001b[0m\u001b[0mextra_fields\u001b[0m\u001b[0;34m)\u001b[0m\u001b[0;34m\u001b[0m\u001b[0m\n\u001b[0m\u001b[1;32m    151\u001b[0m \u001b[0;34m\u001b[0m\u001b[0m\n\u001b[1;32m    152\u001b[0m     \u001b[0;32mdef\u001b[0m \u001b[0mcreate_superuser\u001b[0m\u001b[0;34m(\u001b[0m\u001b[0mself\u001b[0m\u001b[0;34m,\u001b[0m \u001b[0musername\u001b[0m\u001b[0;34m,\u001b[0m \u001b[0memail\u001b[0m\u001b[0;34m,\u001b[0m \u001b[0mpassword\u001b[0m\u001b[0;34m,\u001b[0m \u001b[0;34m**\u001b[0m\u001b[0mextra_fields\u001b[0m\u001b[0;34m)\u001b[0m\u001b[0;34m:\u001b[0m\u001b[0;34m\u001b[0m\u001b[0m\n",
      "\u001b[0;32m/Volumes/Data/CODE/assimilation/assimilationVENV/lib/python3.7/site-packages/django/contrib/auth/models.py\u001b[0m in \u001b[0;36m_create_user\u001b[0;34m(self, username, email, password, **extra_fields)\u001b[0m\n\u001b[1;32m    142\u001b[0m         \u001b[0muser\u001b[0m \u001b[0;34m=\u001b[0m \u001b[0mself\u001b[0m\u001b[0;34m.\u001b[0m\u001b[0mmodel\u001b[0m\u001b[0;34m(\u001b[0m\u001b[0musername\u001b[0m\u001b[0;34m=\u001b[0m\u001b[0musername\u001b[0m\u001b[0;34m,\u001b[0m \u001b[0memail\u001b[0m\u001b[0;34m=\u001b[0m\u001b[0memail\u001b[0m\u001b[0;34m,\u001b[0m \u001b[0;34m**\u001b[0m\u001b[0mextra_fields\u001b[0m\u001b[0;34m)\u001b[0m\u001b[0;34m\u001b[0m\u001b[0m\n\u001b[1;32m    143\u001b[0m         \u001b[0muser\u001b[0m\u001b[0;34m.\u001b[0m\u001b[0mset_password\u001b[0m\u001b[0;34m(\u001b[0m\u001b[0mpassword\u001b[0m\u001b[0;34m)\u001b[0m\u001b[0;34m\u001b[0m\u001b[0m\n\u001b[0;32m--> 144\u001b[0;31m         \u001b[0muser\u001b[0m\u001b[0;34m.\u001b[0m\u001b[0msave\u001b[0m\u001b[0;34m(\u001b[0m\u001b[0musing\u001b[0m\u001b[0;34m=\u001b[0m\u001b[0mself\u001b[0m\u001b[0;34m.\u001b[0m\u001b[0m_db\u001b[0m\u001b[0;34m)\u001b[0m\u001b[0;34m\u001b[0m\u001b[0m\n\u001b[0m\u001b[1;32m    145\u001b[0m         \u001b[0;32mreturn\u001b[0m \u001b[0muser\u001b[0m\u001b[0;34m\u001b[0m\u001b[0m\n\u001b[1;32m    146\u001b[0m \u001b[0;34m\u001b[0m\u001b[0m\n",
      "\u001b[0;32m/Volumes/Data/CODE/assimilation/assimilationVENV/lib/python3.7/site-packages/django/contrib/auth/base_user.py\u001b[0m in \u001b[0;36msave\u001b[0;34m(self, *args, **kwargs)\u001b[0m\n\u001b[1;32m     71\u001b[0m \u001b[0;34m\u001b[0m\u001b[0m\n\u001b[1;32m     72\u001b[0m     \u001b[0;32mdef\u001b[0m \u001b[0msave\u001b[0m\u001b[0;34m(\u001b[0m\u001b[0mself\u001b[0m\u001b[0;34m,\u001b[0m \u001b[0;34m*\u001b[0m\u001b[0margs\u001b[0m\u001b[0;34m,\u001b[0m \u001b[0;34m**\u001b[0m\u001b[0mkwargs\u001b[0m\u001b[0;34m)\u001b[0m\u001b[0;34m:\u001b[0m\u001b[0;34m\u001b[0m\u001b[0m\n\u001b[0;32m---> 73\u001b[0;31m         \u001b[0msuper\u001b[0m\u001b[0;34m(\u001b[0m\u001b[0;34m)\u001b[0m\u001b[0;34m.\u001b[0m\u001b[0msave\u001b[0m\u001b[0;34m(\u001b[0m\u001b[0;34m*\u001b[0m\u001b[0margs\u001b[0m\u001b[0;34m,\u001b[0m \u001b[0;34m**\u001b[0m\u001b[0mkwargs\u001b[0m\u001b[0;34m)\u001b[0m\u001b[0;34m\u001b[0m\u001b[0m\n\u001b[0m\u001b[1;32m     74\u001b[0m         \u001b[0;32mif\u001b[0m \u001b[0mself\u001b[0m\u001b[0;34m.\u001b[0m\u001b[0m_password\u001b[0m \u001b[0;32mis\u001b[0m \u001b[0;32mnot\u001b[0m \u001b[0;32mNone\u001b[0m\u001b[0;34m:\u001b[0m\u001b[0;34m\u001b[0m\u001b[0m\n\u001b[1;32m     75\u001b[0m             \u001b[0mpassword_validation\u001b[0m\u001b[0;34m.\u001b[0m\u001b[0mpassword_changed\u001b[0m\u001b[0;34m(\u001b[0m\u001b[0mself\u001b[0m\u001b[0;34m.\u001b[0m\u001b[0m_password\u001b[0m\u001b[0;34m,\u001b[0m \u001b[0mself\u001b[0m\u001b[0;34m)\u001b[0m\u001b[0;34m\u001b[0m\u001b[0m\n",
      "\u001b[0;32m/Volumes/Data/CODE/assimilation/assimilationVENV/lib/python3.7/site-packages/django/db/models/base.py\u001b[0m in \u001b[0;36msave\u001b[0;34m(self, force_insert, force_update, using, update_fields)\u001b[0m\n\u001b[1;32m    727\u001b[0m \u001b[0;34m\u001b[0m\u001b[0m\n\u001b[1;32m    728\u001b[0m         self.save_base(using=using, force_insert=force_insert,\n\u001b[0;32m--> 729\u001b[0;31m                        force_update=force_update, update_fields=update_fields)\n\u001b[0m\u001b[1;32m    730\u001b[0m     \u001b[0msave\u001b[0m\u001b[0;34m.\u001b[0m\u001b[0malters_data\u001b[0m \u001b[0;34m=\u001b[0m \u001b[0;32mTrue\u001b[0m\u001b[0;34m\u001b[0m\u001b[0m\n\u001b[1;32m    731\u001b[0m \u001b[0;34m\u001b[0m\u001b[0m\n",
      "\u001b[0;32m/Volumes/Data/CODE/assimilation/assimilationVENV/lib/python3.7/site-packages/django/db/models/base.py\u001b[0m in \u001b[0;36msave_base\u001b[0;34m(self, raw, force_insert, force_update, using, update_fields)\u001b[0m\n\u001b[1;32m    757\u001b[0m             \u001b[0;32mif\u001b[0m \u001b[0;32mnot\u001b[0m \u001b[0mraw\u001b[0m\u001b[0;34m:\u001b[0m\u001b[0;34m\u001b[0m\u001b[0m\n\u001b[1;32m    758\u001b[0m                 \u001b[0mself\u001b[0m\u001b[0;34m.\u001b[0m\u001b[0m_save_parents\u001b[0m\u001b[0;34m(\u001b[0m\u001b[0mcls\u001b[0m\u001b[0;34m,\u001b[0m \u001b[0musing\u001b[0m\u001b[0;34m,\u001b[0m \u001b[0mupdate_fields\u001b[0m\u001b[0;34m)\u001b[0m\u001b[0;34m\u001b[0m\u001b[0m\n\u001b[0;32m--> 759\u001b[0;31m             \u001b[0mupdated\u001b[0m \u001b[0;34m=\u001b[0m \u001b[0mself\u001b[0m\u001b[0;34m.\u001b[0m\u001b[0m_save_table\u001b[0m\u001b[0;34m(\u001b[0m\u001b[0mraw\u001b[0m\u001b[0;34m,\u001b[0m \u001b[0mcls\u001b[0m\u001b[0;34m,\u001b[0m \u001b[0mforce_insert\u001b[0m\u001b[0;34m,\u001b[0m \u001b[0mforce_update\u001b[0m\u001b[0;34m,\u001b[0m \u001b[0musing\u001b[0m\u001b[0;34m,\u001b[0m \u001b[0mupdate_fields\u001b[0m\u001b[0;34m)\u001b[0m\u001b[0;34m\u001b[0m\u001b[0m\n\u001b[0m\u001b[1;32m    760\u001b[0m         \u001b[0;31m# Store the database on which the object was saved\u001b[0m\u001b[0;34m\u001b[0m\u001b[0;34m\u001b[0m\u001b[0m\n\u001b[1;32m    761\u001b[0m         \u001b[0mself\u001b[0m\u001b[0;34m.\u001b[0m\u001b[0m_state\u001b[0m\u001b[0;34m.\u001b[0m\u001b[0mdb\u001b[0m \u001b[0;34m=\u001b[0m \u001b[0musing\u001b[0m\u001b[0;34m\u001b[0m\u001b[0m\n",
      "\u001b[0;32m/Volumes/Data/CODE/assimilation/assimilationVENV/lib/python3.7/site-packages/django/db/models/base.py\u001b[0m in \u001b[0;36m_save_table\u001b[0;34m(self, raw, cls, force_insert, force_update, using, update_fields)\u001b[0m\n\u001b[1;32m    840\u001b[0m \u001b[0;34m\u001b[0m\u001b[0m\n\u001b[1;32m    841\u001b[0m             \u001b[0mupdate_pk\u001b[0m \u001b[0;34m=\u001b[0m \u001b[0mmeta\u001b[0m\u001b[0;34m.\u001b[0m\u001b[0mauto_field\u001b[0m \u001b[0;32mand\u001b[0m \u001b[0;32mnot\u001b[0m \u001b[0mpk_set\u001b[0m\u001b[0;34m\u001b[0m\u001b[0m\n\u001b[0;32m--> 842\u001b[0;31m             \u001b[0mresult\u001b[0m \u001b[0;34m=\u001b[0m \u001b[0mself\u001b[0m\u001b[0;34m.\u001b[0m\u001b[0m_do_insert\u001b[0m\u001b[0;34m(\u001b[0m\u001b[0mcls\u001b[0m\u001b[0;34m.\u001b[0m\u001b[0m_base_manager\u001b[0m\u001b[0;34m,\u001b[0m \u001b[0musing\u001b[0m\u001b[0;34m,\u001b[0m \u001b[0mfields\u001b[0m\u001b[0;34m,\u001b[0m \u001b[0mupdate_pk\u001b[0m\u001b[0;34m,\u001b[0m \u001b[0mraw\u001b[0m\u001b[0;34m)\u001b[0m\u001b[0;34m\u001b[0m\u001b[0m\n\u001b[0m\u001b[1;32m    843\u001b[0m             \u001b[0;32mif\u001b[0m \u001b[0mupdate_pk\u001b[0m\u001b[0;34m:\u001b[0m\u001b[0;34m\u001b[0m\u001b[0m\n\u001b[1;32m    844\u001b[0m                 \u001b[0msetattr\u001b[0m\u001b[0;34m(\u001b[0m\u001b[0mself\u001b[0m\u001b[0;34m,\u001b[0m \u001b[0mmeta\u001b[0m\u001b[0;34m.\u001b[0m\u001b[0mpk\u001b[0m\u001b[0;34m.\u001b[0m\u001b[0mattname\u001b[0m\u001b[0;34m,\u001b[0m \u001b[0mresult\u001b[0m\u001b[0;34m)\u001b[0m\u001b[0;34m\u001b[0m\u001b[0m\n",
      "\u001b[0;32m/Volumes/Data/CODE/assimilation/assimilationVENV/lib/python3.7/site-packages/django/db/models/base.py\u001b[0m in \u001b[0;36m_do_insert\u001b[0;34m(self, manager, using, fields, update_pk, raw)\u001b[0m\n\u001b[1;32m    878\u001b[0m         \"\"\"\n\u001b[1;32m    879\u001b[0m         return manager._insert([self], fields=fields, return_id=update_pk,\n\u001b[0;32m--> 880\u001b[0;31m                                using=using, raw=raw)\n\u001b[0m\u001b[1;32m    881\u001b[0m \u001b[0;34m\u001b[0m\u001b[0m\n\u001b[1;32m    882\u001b[0m     \u001b[0;32mdef\u001b[0m \u001b[0mdelete\u001b[0m\u001b[0;34m(\u001b[0m\u001b[0mself\u001b[0m\u001b[0;34m,\u001b[0m \u001b[0musing\u001b[0m\u001b[0;34m=\u001b[0m\u001b[0;32mNone\u001b[0m\u001b[0;34m,\u001b[0m \u001b[0mkeep_parents\u001b[0m\u001b[0;34m=\u001b[0m\u001b[0;32mFalse\u001b[0m\u001b[0;34m)\u001b[0m\u001b[0;34m:\u001b[0m\u001b[0;34m\u001b[0m\u001b[0m\n",
      "\u001b[0;32m/Volumes/Data/CODE/assimilation/assimilationVENV/lib/python3.7/site-packages/django/db/models/manager.py\u001b[0m in \u001b[0;36mmanager_method\u001b[0;34m(self, *args, **kwargs)\u001b[0m\n\u001b[1;32m     80\u001b[0m         \u001b[0;32mdef\u001b[0m \u001b[0mcreate_method\u001b[0m\u001b[0;34m(\u001b[0m\u001b[0mname\u001b[0m\u001b[0;34m,\u001b[0m \u001b[0mmethod\u001b[0m\u001b[0;34m)\u001b[0m\u001b[0;34m:\u001b[0m\u001b[0;34m\u001b[0m\u001b[0m\n\u001b[1;32m     81\u001b[0m             \u001b[0;32mdef\u001b[0m \u001b[0mmanager_method\u001b[0m\u001b[0;34m(\u001b[0m\u001b[0mself\u001b[0m\u001b[0;34m,\u001b[0m \u001b[0;34m*\u001b[0m\u001b[0margs\u001b[0m\u001b[0;34m,\u001b[0m \u001b[0;34m**\u001b[0m\u001b[0mkwargs\u001b[0m\u001b[0;34m)\u001b[0m\u001b[0;34m:\u001b[0m\u001b[0;34m\u001b[0m\u001b[0m\n\u001b[0;32m---> 82\u001b[0;31m                 \u001b[0;32mreturn\u001b[0m \u001b[0mgetattr\u001b[0m\u001b[0;34m(\u001b[0m\u001b[0mself\u001b[0m\u001b[0;34m.\u001b[0m\u001b[0mget_queryset\u001b[0m\u001b[0;34m(\u001b[0m\u001b[0;34m)\u001b[0m\u001b[0;34m,\u001b[0m \u001b[0mname\u001b[0m\u001b[0;34m)\u001b[0m\u001b[0;34m(\u001b[0m\u001b[0;34m*\u001b[0m\u001b[0margs\u001b[0m\u001b[0;34m,\u001b[0m \u001b[0;34m**\u001b[0m\u001b[0mkwargs\u001b[0m\u001b[0;34m)\u001b[0m\u001b[0;34m\u001b[0m\u001b[0m\n\u001b[0m\u001b[1;32m     83\u001b[0m             \u001b[0mmanager_method\u001b[0m\u001b[0;34m.\u001b[0m\u001b[0m__name__\u001b[0m \u001b[0;34m=\u001b[0m \u001b[0mmethod\u001b[0m\u001b[0;34m.\u001b[0m\u001b[0m__name__\u001b[0m\u001b[0;34m\u001b[0m\u001b[0m\n\u001b[1;32m     84\u001b[0m             \u001b[0mmanager_method\u001b[0m\u001b[0;34m.\u001b[0m\u001b[0m__doc__\u001b[0m \u001b[0;34m=\u001b[0m \u001b[0mmethod\u001b[0m\u001b[0;34m.\u001b[0m\u001b[0m__doc__\u001b[0m\u001b[0;34m\u001b[0m\u001b[0m\n",
      "\u001b[0;32m/Volumes/Data/CODE/assimilation/assimilationVENV/lib/python3.7/site-packages/django/db/models/query.py\u001b[0m in \u001b[0;36m_insert\u001b[0;34m(self, objs, fields, return_id, raw, using)\u001b[0m\n\u001b[1;32m   1123\u001b[0m         \u001b[0mquery\u001b[0m \u001b[0;34m=\u001b[0m \u001b[0msql\u001b[0m\u001b[0;34m.\u001b[0m\u001b[0mInsertQuery\u001b[0m\u001b[0;34m(\u001b[0m\u001b[0mself\u001b[0m\u001b[0;34m.\u001b[0m\u001b[0mmodel\u001b[0m\u001b[0;34m)\u001b[0m\u001b[0;34m\u001b[0m\u001b[0m\n\u001b[1;32m   1124\u001b[0m         \u001b[0mquery\u001b[0m\u001b[0;34m.\u001b[0m\u001b[0minsert_values\u001b[0m\u001b[0;34m(\u001b[0m\u001b[0mfields\u001b[0m\u001b[0;34m,\u001b[0m \u001b[0mobjs\u001b[0m\u001b[0;34m,\u001b[0m \u001b[0mraw\u001b[0m\u001b[0;34m=\u001b[0m\u001b[0mraw\u001b[0m\u001b[0;34m)\u001b[0m\u001b[0;34m\u001b[0m\u001b[0m\n\u001b[0;32m-> 1125\u001b[0;31m         \u001b[0;32mreturn\u001b[0m \u001b[0mquery\u001b[0m\u001b[0;34m.\u001b[0m\u001b[0mget_compiler\u001b[0m\u001b[0;34m(\u001b[0m\u001b[0musing\u001b[0m\u001b[0;34m=\u001b[0m\u001b[0musing\u001b[0m\u001b[0;34m)\u001b[0m\u001b[0;34m.\u001b[0m\u001b[0mexecute_sql\u001b[0m\u001b[0;34m(\u001b[0m\u001b[0mreturn_id\u001b[0m\u001b[0;34m)\u001b[0m\u001b[0;34m\u001b[0m\u001b[0m\n\u001b[0m\u001b[1;32m   1126\u001b[0m     \u001b[0m_insert\u001b[0m\u001b[0;34m.\u001b[0m\u001b[0malters_data\u001b[0m \u001b[0;34m=\u001b[0m \u001b[0;32mTrue\u001b[0m\u001b[0;34m\u001b[0m\u001b[0m\n\u001b[1;32m   1127\u001b[0m     \u001b[0m_insert\u001b[0m\u001b[0;34m.\u001b[0m\u001b[0mqueryset_only\u001b[0m \u001b[0;34m=\u001b[0m \u001b[0;32mFalse\u001b[0m\u001b[0;34m\u001b[0m\u001b[0m\n",
      "\u001b[0;32m/Volumes/Data/CODE/assimilation/assimilationVENV/lib/python3.7/site-packages/django/db/models/sql/compiler.py\u001b[0m in \u001b[0;36mexecute_sql\u001b[0;34m(self, return_id)\u001b[0m\n\u001b[1;32m   1283\u001b[0m         \u001b[0;32mwith\u001b[0m \u001b[0mself\u001b[0m\u001b[0;34m.\u001b[0m\u001b[0mconnection\u001b[0m\u001b[0;34m.\u001b[0m\u001b[0mcursor\u001b[0m\u001b[0;34m(\u001b[0m\u001b[0;34m)\u001b[0m \u001b[0;32mas\u001b[0m \u001b[0mcursor\u001b[0m\u001b[0;34m:\u001b[0m\u001b[0;34m\u001b[0m\u001b[0m\n\u001b[1;32m   1284\u001b[0m             \u001b[0;32mfor\u001b[0m \u001b[0msql\u001b[0m\u001b[0;34m,\u001b[0m \u001b[0mparams\u001b[0m \u001b[0;32min\u001b[0m \u001b[0mself\u001b[0m\u001b[0;34m.\u001b[0m\u001b[0mas_sql\u001b[0m\u001b[0;34m(\u001b[0m\u001b[0;34m)\u001b[0m\u001b[0;34m:\u001b[0m\u001b[0;34m\u001b[0m\u001b[0m\n\u001b[0;32m-> 1285\u001b[0;31m                 \u001b[0mcursor\u001b[0m\u001b[0;34m.\u001b[0m\u001b[0mexecute\u001b[0m\u001b[0;34m(\u001b[0m\u001b[0msql\u001b[0m\u001b[0;34m,\u001b[0m \u001b[0mparams\u001b[0m\u001b[0;34m)\u001b[0m\u001b[0;34m\u001b[0m\u001b[0m\n\u001b[0m\u001b[1;32m   1286\u001b[0m             \u001b[0;32mif\u001b[0m \u001b[0;32mnot\u001b[0m \u001b[0;34m(\u001b[0m\u001b[0mreturn_id\u001b[0m \u001b[0;32mand\u001b[0m \u001b[0mcursor\u001b[0m\u001b[0;34m)\u001b[0m\u001b[0;34m:\u001b[0m\u001b[0;34m\u001b[0m\u001b[0m\n\u001b[1;32m   1287\u001b[0m                 \u001b[0;32mreturn\u001b[0m\u001b[0;34m\u001b[0m\u001b[0m\n",
      "\u001b[0;32m/Volumes/Data/CODE/assimilation/assimilationVENV/lib/python3.7/site-packages/django/db/backends/utils.py\u001b[0m in \u001b[0;36mexecute\u001b[0;34m(self, sql, params)\u001b[0m\n\u001b[1;32m     98\u001b[0m         \u001b[0mstart\u001b[0m \u001b[0;34m=\u001b[0m \u001b[0mtime\u001b[0m\u001b[0;34m(\u001b[0m\u001b[0;34m)\u001b[0m\u001b[0;34m\u001b[0m\u001b[0m\n\u001b[1;32m     99\u001b[0m         \u001b[0;32mtry\u001b[0m\u001b[0;34m:\u001b[0m\u001b[0;34m\u001b[0m\u001b[0m\n\u001b[0;32m--> 100\u001b[0;31m             \u001b[0;32mreturn\u001b[0m \u001b[0msuper\u001b[0m\u001b[0;34m(\u001b[0m\u001b[0;34m)\u001b[0m\u001b[0;34m.\u001b[0m\u001b[0mexecute\u001b[0m\u001b[0;34m(\u001b[0m\u001b[0msql\u001b[0m\u001b[0;34m,\u001b[0m \u001b[0mparams\u001b[0m\u001b[0;34m)\u001b[0m\u001b[0;34m\u001b[0m\u001b[0m\n\u001b[0m\u001b[1;32m    101\u001b[0m         \u001b[0;32mfinally\u001b[0m\u001b[0;34m:\u001b[0m\u001b[0;34m\u001b[0m\u001b[0m\n\u001b[1;32m    102\u001b[0m             \u001b[0mstop\u001b[0m \u001b[0;34m=\u001b[0m \u001b[0mtime\u001b[0m\u001b[0;34m(\u001b[0m\u001b[0;34m)\u001b[0m\u001b[0;34m\u001b[0m\u001b[0m\n",
      "\u001b[0;32m/Volumes/Data/CODE/assimilation/assimilationVENV/lib/python3.7/site-packages/raven/contrib/django/client.py\u001b[0m in \u001b[0;36mexecute\u001b[0;34m(self, sql, params)\u001b[0m\n\u001b[1;32m    125\u001b[0m         \u001b[0mstart\u001b[0m \u001b[0;34m=\u001b[0m \u001b[0mtime\u001b[0m\u001b[0;34m.\u001b[0m\u001b[0mtime\u001b[0m\u001b[0;34m(\u001b[0m\u001b[0;34m)\u001b[0m\u001b[0;34m\u001b[0m\u001b[0m\n\u001b[1;32m    126\u001b[0m         \u001b[0;32mtry\u001b[0m\u001b[0;34m:\u001b[0m\u001b[0;34m\u001b[0m\u001b[0m\n\u001b[0;32m--> 127\u001b[0;31m             \u001b[0;32mreturn\u001b[0m \u001b[0mreal_execute\u001b[0m\u001b[0;34m(\u001b[0m\u001b[0mself\u001b[0m\u001b[0;34m,\u001b[0m \u001b[0msql\u001b[0m\u001b[0;34m,\u001b[0m \u001b[0mparams\u001b[0m\u001b[0;34m)\u001b[0m\u001b[0;34m\u001b[0m\u001b[0m\n\u001b[0m\u001b[1;32m    128\u001b[0m         \u001b[0;32mfinally\u001b[0m\u001b[0;34m:\u001b[0m\u001b[0;34m\u001b[0m\u001b[0m\n\u001b[1;32m    129\u001b[0m             record_sql(self.db.vendor, getattr(self.db, 'alias', None),\n",
      "\u001b[0;32m/Volumes/Data/CODE/assimilation/assimilationVENV/lib/python3.7/site-packages/django/db/backends/utils.py\u001b[0m in \u001b[0;36mexecute\u001b[0;34m(self, sql, params)\u001b[0m\n\u001b[1;32m     66\u001b[0m \u001b[0;34m\u001b[0m\u001b[0m\n\u001b[1;32m     67\u001b[0m     \u001b[0;32mdef\u001b[0m \u001b[0mexecute\u001b[0m\u001b[0;34m(\u001b[0m\u001b[0mself\u001b[0m\u001b[0;34m,\u001b[0m \u001b[0msql\u001b[0m\u001b[0;34m,\u001b[0m \u001b[0mparams\u001b[0m\u001b[0;34m=\u001b[0m\u001b[0;32mNone\u001b[0m\u001b[0;34m)\u001b[0m\u001b[0;34m:\u001b[0m\u001b[0;34m\u001b[0m\u001b[0m\n\u001b[0;32m---> 68\u001b[0;31m         \u001b[0;32mreturn\u001b[0m \u001b[0mself\u001b[0m\u001b[0;34m.\u001b[0m\u001b[0m_execute_with_wrappers\u001b[0m\u001b[0;34m(\u001b[0m\u001b[0msql\u001b[0m\u001b[0;34m,\u001b[0m \u001b[0mparams\u001b[0m\u001b[0;34m,\u001b[0m \u001b[0mmany\u001b[0m\u001b[0;34m=\u001b[0m\u001b[0;32mFalse\u001b[0m\u001b[0;34m,\u001b[0m \u001b[0mexecutor\u001b[0m\u001b[0;34m=\u001b[0m\u001b[0mself\u001b[0m\u001b[0;34m.\u001b[0m\u001b[0m_execute\u001b[0m\u001b[0;34m)\u001b[0m\u001b[0;34m\u001b[0m\u001b[0m\n\u001b[0m\u001b[1;32m     69\u001b[0m \u001b[0;34m\u001b[0m\u001b[0m\n\u001b[1;32m     70\u001b[0m     \u001b[0;32mdef\u001b[0m \u001b[0mexecutemany\u001b[0m\u001b[0;34m(\u001b[0m\u001b[0mself\u001b[0m\u001b[0;34m,\u001b[0m \u001b[0msql\u001b[0m\u001b[0;34m,\u001b[0m \u001b[0mparam_list\u001b[0m\u001b[0;34m)\u001b[0m\u001b[0;34m:\u001b[0m\u001b[0;34m\u001b[0m\u001b[0m\n",
      "\u001b[0;32m/Volumes/Data/CODE/assimilation/assimilationVENV/lib/python3.7/site-packages/django/db/backends/utils.py\u001b[0m in \u001b[0;36m_execute_with_wrappers\u001b[0;34m(self, sql, params, many, executor)\u001b[0m\n\u001b[1;32m     75\u001b[0m         \u001b[0;32mfor\u001b[0m \u001b[0mwrapper\u001b[0m \u001b[0;32min\u001b[0m \u001b[0mreversed\u001b[0m\u001b[0;34m(\u001b[0m\u001b[0mself\u001b[0m\u001b[0;34m.\u001b[0m\u001b[0mdb\u001b[0m\u001b[0;34m.\u001b[0m\u001b[0mexecute_wrappers\u001b[0m\u001b[0;34m)\u001b[0m\u001b[0;34m:\u001b[0m\u001b[0;34m\u001b[0m\u001b[0m\n\u001b[1;32m     76\u001b[0m             \u001b[0mexecutor\u001b[0m \u001b[0;34m=\u001b[0m \u001b[0mfunctools\u001b[0m\u001b[0;34m.\u001b[0m\u001b[0mpartial\u001b[0m\u001b[0;34m(\u001b[0m\u001b[0mwrapper\u001b[0m\u001b[0;34m,\u001b[0m \u001b[0mexecutor\u001b[0m\u001b[0;34m)\u001b[0m\u001b[0;34m\u001b[0m\u001b[0m\n\u001b[0;32m---> 77\u001b[0;31m         \u001b[0;32mreturn\u001b[0m \u001b[0mexecutor\u001b[0m\u001b[0;34m(\u001b[0m\u001b[0msql\u001b[0m\u001b[0;34m,\u001b[0m \u001b[0mparams\u001b[0m\u001b[0;34m,\u001b[0m \u001b[0mmany\u001b[0m\u001b[0;34m,\u001b[0m \u001b[0mcontext\u001b[0m\u001b[0;34m)\u001b[0m\u001b[0;34m\u001b[0m\u001b[0m\n\u001b[0m\u001b[1;32m     78\u001b[0m \u001b[0;34m\u001b[0m\u001b[0m\n\u001b[1;32m     79\u001b[0m     \u001b[0;32mdef\u001b[0m \u001b[0m_execute\u001b[0m\u001b[0;34m(\u001b[0m\u001b[0mself\u001b[0m\u001b[0;34m,\u001b[0m \u001b[0msql\u001b[0m\u001b[0;34m,\u001b[0m \u001b[0mparams\u001b[0m\u001b[0;34m,\u001b[0m \u001b[0;34m*\u001b[0m\u001b[0mignored_wrapper_args\u001b[0m\u001b[0;34m)\u001b[0m\u001b[0;34m:\u001b[0m\u001b[0;34m\u001b[0m\u001b[0m\n",
      "\u001b[0;32m/Volumes/Data/CODE/assimilation/assimilationVENV/lib/python3.7/site-packages/django/db/backends/utils.py\u001b[0m in \u001b[0;36m_execute\u001b[0;34m(self, sql, params, *ignored_wrapper_args)\u001b[0m\n\u001b[1;32m     83\u001b[0m                 \u001b[0;32mreturn\u001b[0m \u001b[0mself\u001b[0m\u001b[0;34m.\u001b[0m\u001b[0mcursor\u001b[0m\u001b[0;34m.\u001b[0m\u001b[0mexecute\u001b[0m\u001b[0;34m(\u001b[0m\u001b[0msql\u001b[0m\u001b[0;34m)\u001b[0m\u001b[0;34m\u001b[0m\u001b[0m\n\u001b[1;32m     84\u001b[0m             \u001b[0;32melse\u001b[0m\u001b[0;34m:\u001b[0m\u001b[0;34m\u001b[0m\u001b[0m\n\u001b[0;32m---> 85\u001b[0;31m                 \u001b[0;32mreturn\u001b[0m \u001b[0mself\u001b[0m\u001b[0;34m.\u001b[0m\u001b[0mcursor\u001b[0m\u001b[0;34m.\u001b[0m\u001b[0mexecute\u001b[0m\u001b[0;34m(\u001b[0m\u001b[0msql\u001b[0m\u001b[0;34m,\u001b[0m \u001b[0mparams\u001b[0m\u001b[0;34m)\u001b[0m\u001b[0;34m\u001b[0m\u001b[0m\n\u001b[0m\u001b[1;32m     86\u001b[0m \u001b[0;34m\u001b[0m\u001b[0m\n\u001b[1;32m     87\u001b[0m     \u001b[0;32mdef\u001b[0m \u001b[0m_executemany\u001b[0m\u001b[0;34m(\u001b[0m\u001b[0mself\u001b[0m\u001b[0;34m,\u001b[0m \u001b[0msql\u001b[0m\u001b[0;34m,\u001b[0m \u001b[0mparam_list\u001b[0m\u001b[0;34m,\u001b[0m \u001b[0;34m*\u001b[0m\u001b[0mignored_wrapper_args\u001b[0m\u001b[0;34m)\u001b[0m\u001b[0;34m:\u001b[0m\u001b[0;34m\u001b[0m\u001b[0m\n",
      "\u001b[0;32m/Volumes/Data/CODE/assimilation/assimilationVENV/lib/python3.7/site-packages/django/db/utils.py\u001b[0m in \u001b[0;36m__exit__\u001b[0;34m(self, exc_type, exc_value, traceback)\u001b[0m\n\u001b[1;32m     87\u001b[0m                 \u001b[0;32mif\u001b[0m \u001b[0mdj_exc_type\u001b[0m \u001b[0;32mnot\u001b[0m \u001b[0;32min\u001b[0m \u001b[0;34m(\u001b[0m\u001b[0mDataError\u001b[0m\u001b[0;34m,\u001b[0m \u001b[0mIntegrityError\u001b[0m\u001b[0;34m)\u001b[0m\u001b[0;34m:\u001b[0m\u001b[0;34m\u001b[0m\u001b[0m\n\u001b[1;32m     88\u001b[0m                     \u001b[0mself\u001b[0m\u001b[0;34m.\u001b[0m\u001b[0mwrapper\u001b[0m\u001b[0;34m.\u001b[0m\u001b[0merrors_occurred\u001b[0m \u001b[0;34m=\u001b[0m \u001b[0;32mTrue\u001b[0m\u001b[0;34m\u001b[0m\u001b[0m\n\u001b[0;32m---> 89\u001b[0;31m                 \u001b[0;32mraise\u001b[0m \u001b[0mdj_exc_value\u001b[0m\u001b[0;34m.\u001b[0m\u001b[0mwith_traceback\u001b[0m\u001b[0;34m(\u001b[0m\u001b[0mtraceback\u001b[0m\u001b[0;34m)\u001b[0m \u001b[0;32mfrom\u001b[0m \u001b[0mexc_value\u001b[0m\u001b[0;34m\u001b[0m\u001b[0m\n\u001b[0m\u001b[1;32m     90\u001b[0m \u001b[0;34m\u001b[0m\u001b[0m\n\u001b[1;32m     91\u001b[0m     \u001b[0;32mdef\u001b[0m \u001b[0m__call__\u001b[0m\u001b[0;34m(\u001b[0m\u001b[0mself\u001b[0m\u001b[0;34m,\u001b[0m \u001b[0mfunc\u001b[0m\u001b[0;34m)\u001b[0m\u001b[0;34m:\u001b[0m\u001b[0;34m\u001b[0m\u001b[0m\n",
      "\u001b[0;32m/Volumes/Data/CODE/assimilation/assimilationVENV/lib/python3.7/site-packages/django/db/backends/utils.py\u001b[0m in \u001b[0;36m_execute\u001b[0;34m(self, sql, params, *ignored_wrapper_args)\u001b[0m\n\u001b[1;32m     83\u001b[0m                 \u001b[0;32mreturn\u001b[0m \u001b[0mself\u001b[0m\u001b[0;34m.\u001b[0m\u001b[0mcursor\u001b[0m\u001b[0;34m.\u001b[0m\u001b[0mexecute\u001b[0m\u001b[0;34m(\u001b[0m\u001b[0msql\u001b[0m\u001b[0;34m)\u001b[0m\u001b[0;34m\u001b[0m\u001b[0m\n\u001b[1;32m     84\u001b[0m             \u001b[0;32melse\u001b[0m\u001b[0;34m:\u001b[0m\u001b[0;34m\u001b[0m\u001b[0m\n\u001b[0;32m---> 85\u001b[0;31m                 \u001b[0;32mreturn\u001b[0m \u001b[0mself\u001b[0m\u001b[0;34m.\u001b[0m\u001b[0mcursor\u001b[0m\u001b[0;34m.\u001b[0m\u001b[0mexecute\u001b[0m\u001b[0;34m(\u001b[0m\u001b[0msql\u001b[0m\u001b[0;34m,\u001b[0m \u001b[0mparams\u001b[0m\u001b[0;34m)\u001b[0m\u001b[0;34m\u001b[0m\u001b[0m\n\u001b[0m\u001b[1;32m     86\u001b[0m \u001b[0;34m\u001b[0m\u001b[0m\n\u001b[1;32m     87\u001b[0m     \u001b[0;32mdef\u001b[0m \u001b[0m_executemany\u001b[0m\u001b[0;34m(\u001b[0m\u001b[0mself\u001b[0m\u001b[0;34m,\u001b[0m \u001b[0msql\u001b[0m\u001b[0;34m,\u001b[0m \u001b[0mparam_list\u001b[0m\u001b[0;34m,\u001b[0m \u001b[0;34m*\u001b[0m\u001b[0mignored_wrapper_args\u001b[0m\u001b[0;34m)\u001b[0m\u001b[0;34m:\u001b[0m\u001b[0;34m\u001b[0m\u001b[0m\n",
      "\u001b[0;31mIntegrityError\u001b[0m: duplicate key value violates unique constraint \"auth_user_username_key\"\nDETAIL:  Key (username)=(17BS4JP06) already exists.\n"
     ]
    }
   ],
   "source": [
    "#Making ug rep users\n",
    "#'CS..', 'EE..', '', 'HS..', 'IM', 'ME..', 'NA..', '', 'GG..', 'MA..', 'MI..',\n",
    "#        'MT..', 'PH..', '', '', 'CE..', 'EC..', '', '', 'BS..'\n",
    "attendanceTakerGroup = Group.objects.get(name=settings.ATTENDANCE_TAKER_GROUP_NAME)\n",
    "depgroup=Group.objects.get(name=\"dep_cy\")\n",
    "username =\"15CY20016\"\n",
    "fname = \"Kumar\"\n",
    "lname = \"Nilay\"\n",
    "passwordString = \"9002973111\"\n",
    "email = \"kumarnilay27@gmail.com\"\n",
    "\n",
    "xl_ugcouncil = pd.read_csv(\"/Users/defcon/councilPartial.csv\",keep_default_na=False)\n",
    "for index, row in xl_ugcouncil.iterrows():\n",
    "        #Getting first and last name\n",
    "    depgroup=Group.objects.get(name=\"dep_\" + row[\"dep\"].lower().strip())\n",
    "    fullname = row[\"name\"]\n",
    "    nameList = fullname.split(\" \")\n",
    "    if len(nameList) <= 1 : \n",
    "        fname = fullname\n",
    "        lname = \"\"\n",
    "    else : \n",
    "        lname = nameList.pop(-1)\n",
    "        fname = \" \".join(nameList)\n",
    "    \n",
    "    \n",
    "    username=row[\"roll\"].strip()\n",
    "    passwordString = str(row[\"ph\"]).strip()\n",
    "    email= row[\"email\"]\n",
    "    print(row[\"name\"])\n",
    "\n",
    "    user = User.objects.create_user(username=username, first_name=fname, last_name=lname, password=passwordString, email=email)\n",
    "    attendanceTakerGroup.user_set.add(user)\n",
    "    depgroup.user_set.add(user)"
   ]
  },
  {
   "cell_type": "code",
   "execution_count": 37,
   "metadata": {
    "collapsed": true
   },
   "outputs": [
    {
     "name": "stdout",
     "output_type": "stream",
     "text": [
      "90072\n",
      "04033\n",
      "07024\n",
      "89007\n",
      "13006\n",
      "14001\n",
      "04079\n",
      "03109\n",
      "14022\n",
      "97008\n",
      "14013\n",
      "14004\n",
      "14009\n",
      "08028\n",
      "15005\n",
      "07063\n",
      "16005\n",
      "89020\n",
      "16086\n",
      "09058\n",
      "10012\n",
      "15011\n",
      "09064\n",
      "13029\n"
     ]
    }
   ],
   "source": [
    "#create fac ad user\n",
    "xl_file_student = pd.ExcelFile(\"/Users/defcon/2ndYearUserData.xlsx\")\n",
    "df_faculty_advisor = xl_file_student.parse(\"Faculty Advisor\",keep_default_na=False)\n",
    "x = df_faculty_advisor.drop_duplicates(keep=False, inplace=False, subset=\"Name\")\n",
    "len(x)\n",
    "for index,row in x.iterrows() : \n",
    "        #Getting first and last name\n",
    "    fullname = row[\"Name\"]\n",
    "    nameList = fullname.split(\" \")\n",
    "    if len(nameList) <= 1 : \n",
    "        fname = fullname\n",
    "        lname = \"\"\n",
    "    else : \n",
    "        lname = nameList.pop(-1)\n",
    "        fname = \" \".join(nameList)\n",
    "    \n",
    "    passwordString = row[\"Date of Birth\"].date().strftime('%d/%m/%Y')\n",
    "    print(row[\"Roll No/Employee code \"])\n",
    "    username = str(row[\"Roll No/Employee code \"]).strip()\n",
    "    attendanceTakerGroup = Group.objects.get(name=settings.ATTENDANCE_TAKER_GROUP_NAME)\n",
    "    depGrp = Group.objects.get(name=\"dep_\"+ row['Deaprtment'].lower())\n",
    "#     hallGroup = Group.objects.get(name=\"hall_\"+ row['Hall'].lower())\n",
    "#     studentGroup = Group.objects.get(name=\"student\")\n",
    "    try : \n",
    "        user = User.objects.create_user(username=username, first_name=fname, last_name=lname, password=passwordString)\n",
    "    except IntegrityError : \n",
    "        pass\n",
    "    except DataError as e:\n",
    "        print(e)\n",
    "        user = User.objects.create_user(username=username, first_name=fname.split(\" \")[0], last_name=lname, password=passwordString)\n",
    "    depGrp.user_set.add(user)\n",
    "    attendanceTakerGroup.user_set.add(user)"
   ]
  },
  {
   "cell_type": "code",
   "execution_count": 12,
   "metadata": {},
   "outputs": [],
   "source": [
    "import pandas as pd\n",
    "xl_file_student = pd.ExcelFile(\"/Users/defcon/2ndYearUserData.xlsx\")\n",
    "df_student = xl_file_student.parse(\"Second Year students\",keep_default_na=False )\n",
    "df_faculty_advisor = xl_file_student.parse(\"Faculty Advisor\",keep_default_na=False)\n",
    "\n",
    "#making department groups\n",
    "depList = df_faculty_advisor.Deaprtment.unique()\n",
    "for dep in depList :\n",
    "    grpName = \"dep_\" + dep.lower()\n",
    "    Group.objects.get_or_create(name=grpName)\n",
    "#     print(grpName)\n",
    "\n",
    "#making hall groups\n",
    "hallList = df_student.Hall.unique()\n",
    "for hall in hallList : \n",
    "    grpName = \"hall_\" + hall.lower()\n",
    "    Group.objects.get_or_create(name=grpName)"
   ]
  },
  {
   "cell_type": "code",
   "execution_count": 58,
   "metadata": {},
   "outputs": [],
   "source": [
    "#creating gymkhana gsec users\n",
    "df = pd.read_csv(\"/Users/defcon/gymkGsec.csv\")\n",
    "attendanceTakerGroup = Group.objects.get(name=settings.ATTENDANCE_TAKER_GROUP_NAME)\n",
    "gymkhanaGsecGroup = Group.objects.get(name=\"gymkhanaGsec\")\n",
    "for index,row in df.iterrows():\n",
    "    user = User.objects.create_user(username=row[\"Username\"].strip(), password=row[\"Password\"].strip())\n",
    "    attendanceTakerGroup.user_set.add(user)\n",
    "    gymkhanaGsecGroup.user_set.add(user)"
   ]
  },
  {
   "cell_type": "code",
   "execution_count": 22,
   "metadata": {
    "collapsed": true
   },
   "outputs": [
    {
     "name": "stdout",
     "output_type": "stream",
     "text": [
      "value too long for type character varying(30)\n",
      "\n",
      "value too long for type character varying(30)\n",
      "\n",
      "value too long for type character varying(30)\n",
      "\n"
     ]
    }
   ],
   "source": [
    "#Creating student user objects\n",
    "for index, row in df_student.iterrows():\n",
    "    \n",
    "    #Getting first and last name\n",
    "    fullname = row[\"Name\"]\n",
    "    nameList = fullname.split(\" \")\n",
    "    if len(nameList) <= 1 : \n",
    "        fname = fullname\n",
    "        lname = \"\"\n",
    "    else : \n",
    "        lname = nameList.pop(-1)\n",
    "        fname = \" \".join(nameList)\n",
    "    \n",
    "    passwordString = row[\"Date of Birth\"].date().strftime('%d/%m/%Y')\n",
    "    username = row[\"Roll No \"].upper().strip()\n",
    "    \n",
    "    depGrp = Group.objects.get(name=\"dep_\"+ row['Deaprtment'].lower())\n",
    "    hallGroup = Group.objects.get(name=\"hall_\"+ row['Hall'].lower())\n",
    "    studentGroup = Group.objects.get(name=\"student\")\n",
    "    try : \n",
    "        user = User.objects.create_user(username=username, first_name=fname, last_name=lname, password=passwordString)\n",
    "    except IntegrityError : \n",
    "        pass\n",
    "    except DataError as e:\n",
    "        print(e)\n",
    "        user = User.objects.create_user(username=username, first_name=fname.split(\" \")[0], last_name=lname, password=passwordString)\n",
    "    depGrp.user_set.add(user)\n",
    "    hallGroup.user_set.add(user)\n",
    "    studentGroup.user_set.add(user)"
   ]
  },
  {
   "cell_type": "code",
   "execution_count": 14,
   "metadata": {},
   "outputs": [
    {
     "name": "stdout",
     "output_type": "stream",
     "text": [
      "error\n",
      "error\n",
      "error\n",
      "snig_mess,EH0OO8,SNIG\n",
      "mth_mess,1VMAXP,MTH\n",
      "azd_mess,IIF67M,AZD\n",
      "rkh_mess,4S0OUJ,RKH\n",
      "nhr_mess,C1V2O4,NHR\n",
      "pat_mess,MXQLI6,PAT\n"
     ]
    }
   ],
   "source": [
    "#CREATING MESS MEMEBERS\n",
    "\n",
    "import pandas as pd\n",
    "xl_file_student = pd.ExcelFile(\"/Users/defcon/2ndYearUserData.xlsx\")\n",
    "df_student = xl_file_student.parse(\"Second Year students\",keep_default_na=False )\n",
    "df_faculty_advisor = xl_file_student.parse(\"Faculty Advisor\",keep_default_na=False)\n",
    "\n",
    "hallList = df_student.Hall.unique()\n",
    "\n",
    "for hall in hallList : \n",
    "    if hall == \"SN/IG\" : \n",
    "        hall = \"SNIG\"\n",
    "#     else : \n",
    "#     for mem in hallMemeberList : \n",
    "    username = hall.lower().strip() + \"_\" + \"mess\"\n",
    "    password = generateRandomPassword()\n",
    "    dep = hall\n",
    "#     print(username + \",\" + password + \",\" + hall )\n",
    "\n",
    "    attendanceTakerGroup = Group.objects.get(name=settings.ATTENDANCE_TAKER_GROUP_NAME)\n",
    "#     df = pd.read_csv(\"/Users/defcon/hallcouncil.csv\",keep_default_na=False)\n",
    "#     for index, row in df.iterrows():\n",
    "            #Getting first and last name\n",
    "#     print(\"hall_\" + row[\"Hall\"].lower().strip())\n",
    "    if hall == \"SNIG\" : \n",
    "        hallgroup=Group.objects.get(name=\"hall_\" + \"sn/ig\")\n",
    "    else :\n",
    "        hallgroup=Group.objects.get(name=\"hall_\" + hall.lower().strip())\n",
    "#     username=row[\"Username\"].strip()\n",
    "    passwordString = password\n",
    "    try : \n",
    "        user = User.objects.create_user(username=username, password=passwordString)\n",
    "        print(username + \",\" + password + \",\" + hall )\n",
    "    except IntegrityError as e :\n",
    "        print(\"error\")\n",
    "        continue\n",
    "    attendanceTakerGroup.user_set.add(user)\n",
    "    hallgroup.user_set.add(user)\n"
   ]
  },
  {
   "cell_type": "code",
   "execution_count": 52,
   "metadata": {
    "collapsed": true
   },
   "outputs": [
    {
     "name": "stdout",
     "output_type": "stream",
     "text": [
      "hall_rph\n",
      "hall_rph\n",
      "hall_rph\n",
      "hall_rph\n",
      "hall_rph\n",
      "hall_rph\n",
      "hall_rph\n",
      "hall_lbs\n",
      "hall_lbs\n",
      "hall_lbs\n",
      "hall_lbs\n",
      "hall_lbs\n",
      "hall_lbs\n",
      "hall_lbs\n",
      "hall_mmh\n",
      "hall_mmh\n",
      "hall_mmh\n",
      "hall_mmh\n",
      "hall_mmh\n",
      "hall_mmh\n",
      "hall_mmh\n",
      "hall_sn/ig\n",
      "hall_sn/ig\n",
      "hall_sn/ig\n",
      "hall_sn/ig\n",
      "hall_sn/ig\n",
      "hall_sn/ig\n",
      "hall_sn/ig\n",
      "hall_mth\n",
      "hall_mth\n",
      "hall_mth\n",
      "hall_mth\n",
      "hall_mth\n",
      "hall_mth\n",
      "hall_mth\n",
      "hall_azd\n",
      "hall_azd\n",
      "hall_azd\n",
      "hall_azd\n",
      "hall_azd\n",
      "hall_azd\n",
      "hall_azd\n",
      "hall_rkh\n",
      "hall_rkh\n",
      "hall_rkh\n",
      "hall_rkh\n",
      "hall_rkh\n",
      "hall_rkh\n",
      "hall_rkh\n",
      "hall_nhr\n",
      "hall_nhr\n",
      "hall_nhr\n",
      "hall_nhr\n",
      "hall_nhr\n",
      "hall_nhr\n",
      "hall_nhr\n",
      "hall_pat\n",
      "hall_pat\n",
      "hall_pat\n",
      "hall_pat\n",
      "hall_pat\n",
      "hall_pat\n",
      "hall_pat\n"
     ]
    }
   ],
   "source": [
    "#creating hall council users \n",
    "\n",
    "attendanceTakerGroup = Group.objects.get(name=settings.ATTENDANCE_TAKER_GROUP_NAME)\n",
    "df = pd.read_csv(\"/Users/defcon/hallcouncil.csv\",keep_default_na=False)\n",
    "for index, row in df.iterrows():\n",
    "        #Getting first and last name\n",
    "    print(\"hall_\" + row[\"Hall\"].lower().strip())\n",
    "    hallgroup=Group.objects.get(name=\"hall_\" + row[\"Hall\"].lower().strip())\n",
    "    username=row[\"Username\"].strip()\n",
    "    passwordString = row[\"Password\"].strip()\n",
    "    try : \n",
    "        user = User.objects.create_user(username=username, password=passwordString)\n",
    "    except IntegrityError as e :\n",
    "        continue\n",
    "    attendanceTakerGroup.user_set.add(user)\n",
    "    hallgroup.user_set.add(user)\n"
   ]
  },
  {
   "cell_type": "code",
   "execution_count": 48,
   "metadata": {},
   "outputs": [],
   "source": [
    "#creating hall user csv file\n",
    "hallList = df_student.Hall.unique()\n",
    "# hallMemeberList = [\"hp\",\"ssm\", \"gsec_socult\", \"gsec_tech\", \"gsec_sports\", \"gsec_maintainance\", \"gsec_wellfare\"]\n",
    "hallMemeberList = [\"mess\"]\n",
    "for hall in hallList : \n",
    "    if hall == \"SN/IG\" : \n",
    "        hall = \"SNIG\"\n",
    "    for mem in hallMemeberList : \n",
    "        username = hall.lower().strip() + \"_\" + mem\n",
    "        password = generateRandomPassword()\n",
    "        dep = hall\n",
    "        \n",
    "        with open('/Users/defcon/hallcouncil.csv', \"a\") as f : \n",
    "            f.write(f\"{username},{password},{dep}\\n\")"
   ]
  },
  {
   "cell_type": "code",
   "execution_count": 39,
   "metadata": {},
   "outputs": [
    {
     "data": {
      "text/plain": [
       "array(['RPH', 'LBS', 'MMH', 'SN/IG', 'MTH', 'AZD', 'RKH', 'NHR', 'PAT'],\n",
       "      dtype=object)"
      ]
     },
     "execution_count": 39,
     "metadata": {},
     "output_type": "execute_result"
    }
   ],
   "source": [
    "hallList"
   ]
  },
  {
   "cell_type": "code",
   "execution_count": 40,
   "metadata": {},
   "outputs": [
    {
     "ename": "AttributeError",
     "evalue": "'numpy.ndarray' object has no attribute 'remove'",
     "output_type": "error",
     "traceback": [
      "\u001b[0;31m---------------------------------------------------------------------------\u001b[0m",
      "\u001b[0;31mAttributeError\u001b[0m                            Traceback (most recent call last)",
      "\u001b[0;32m<ipython-input-40-567d05df19b7>\u001b[0m in \u001b[0;36m<module>\u001b[0;34m()\u001b[0m\n\u001b[0;32m----> 1\u001b[0;31m \u001b[0mhallList\u001b[0m\u001b[0;34m.\u001b[0m\u001b[0mremove\u001b[0m\u001b[0;34m(\u001b[0m\u001b[0;34m\"SN/IG\"\u001b[0m\u001b[0;34m)\u001b[0m\u001b[0;34m\u001b[0m\u001b[0m\n\u001b[0m",
      "\u001b[0;31mAttributeError\u001b[0m: 'numpy.ndarray' object has no attribute 'remove'"
     ]
    }
   ],
   "source": [
    "hallList.remove(\"SN/IG\")"
   ]
  },
  {
   "cell_type": "code",
   "execution_count": 13,
   "metadata": {},
   "outputs": [],
   "source": [
    "def generateRandomPassword():\n",
    "    import random\n",
    "    import string\n",
    "    return ''.join(random.choice(string.ascii_uppercase + string.digits) for _ in range(6))\n"
   ]
  },
  {
   "cell_type": "code",
   "execution_count": 44,
   "metadata": {},
   "outputs": [
    {
     "data": {
      "text/plain": [
       "'28Z5XX'"
      ]
     },
     "execution_count": 44,
     "metadata": {},
     "output_type": "execute_result"
    }
   ],
   "source": []
  },
  {
   "cell_type": "code",
   "execution_count": 64,
   "metadata": {},
   "outputs": [
    {
     "name": "stdout",
     "output_type": "stream",
     "text": [
      "\"dep_cs\":\"CS Department\",\n",
      "\"dep_ee\":\"EE Department\",\n",
      "\"dep_ag\":\"AG Department\",\n",
      "\"dep_hs\":\"HS Department\",\n",
      "\"dep_im\":\"IM Department\",\n",
      "\"dep_me\":\"ME Department\",\n",
      "\"dep_na\":\"NA Department\",\n",
      "\"dep_ch\":\"CH Department\",\n",
      "\"dep_gg\":\"GG Department\",\n",
      "\"dep_ma\":\"MA Department\",\n",
      "\"dep_mi\":\"MI Department\",\n",
      "\"dep_mt\":\"MT Department\",\n",
      "\"dep_ph\":\"PH Department\",\n",
      "\"dep_ae\":\"AE Department\",\n",
      "\"dep_ar\":\"AR Department\",\n",
      "\"dep_ce\":\"CE Department\",\n",
      "\"dep_ec\":\"EC Department\",\n",
      "\"dep_bt\":\"BT Department\",\n",
      "\"dep_cy\":\"CY Department\",\n",
      "\"dep_bs\":\"BS Department\",\n",
      "\"hall_rph\":\"RPH Hall\",\n",
      "\"hall_lbs\":\"LBS Hall\",\n",
      "\"hall_mmh\":\"MMH Hall\",\n",
      "\"hall_sn/ig\":\"SN/IG Hall\",\n",
      "\"hall_mth\":\"MTH Hall\",\n",
      "\"hall_azd\":\"AZD Hall\",\n",
      "\"hall_rkh\":\"RKH Hall\",\n",
      "\"hall_nhr\":\"NHR Hall\",\n",
      "\"hall_pat\":\"PAT Hall\",\n"
     ]
    }
   ],
   "source": [
    "#making department groups\n",
    "depList = df_faculty_advisor.Deaprtment.unique()\n",
    "for dep in depList :\n",
    "    grpName = \"dep_\" + dep.lower()\n",
    "    print(f'\"{grpName}\":\"{grpName.split(\"_\")[-1].upper()} Department\",')\n",
    "#     Group.objects.get_or_create(name=grpName)\n",
    "#     print(grpName)\n",
    "\n",
    "#making hall groups\n",
    "hallList = df_student.Hall.unique()\n",
    "for hall in hallList : \n",
    "    grpName = \"hall_\" + hall.lower()\n",
    "    print(f'\"{grpName}\":\"{grpName.split(\"_\")[-1].upper()} Hall\",')\n",
    "#     Group.objects.get_or_create(name=grpName)"
   ]
  },
  {
   "cell_type": "code",
   "execution_count": 12,
   "metadata": {},
   "outputs": [
    {
     "name": "stdout",
     "output_type": "stream",
     "text": [
      "sahiltakarkhede@gmail.com\n",
      "gobu123@gmail.com\n",
      "arkashankarpradhan@yahoo.com\n",
      "amritashbharadwaj@gmail.com\n",
      "laddhachinmay2@gmail.com\n",
      "SUYASH.SHARMA.4744@GMAIL.COM\n",
      "mayankkumarbksc@gmail.com\n",
      "koumudi1299@gmail.com\n",
      "jiwansharma379@gmail.com\n",
      "manthanpdoshi@gmail.com\n",
      "ranjana02015@gmail.com\n",
      "avashishth56@gmail.com\n",
      "nitishmishra006@gmail.com\n",
      "deepanshu9234@gmail.com\n",
      "ysharma7479@gmail.com\n",
      "saurabhkumawat57@gmail.com\n",
      "guptashreyash.iitkgp@gmail.com\n",
      "idevangsinghi@gmail.com\n",
      "kotalkinshuk639@gmail.com\n",
      "kpisal1997@gmail.com\n",
      "riyanshupatro99@gmail.com\n",
      "kuldeepm865@gmail.com\n",
      "pranay_1999@hotmail.com\n",
      "shubhamkumartrn@gmail.com\n",
      "rsamit26@live.com\n",
      "richikraha@gmail.com\n",
      "rathodnaveennaik1234@gmail.com\n",
      "gouravtayal.iitkgp@gmail.com\n",
      "punit.kumar166@gmail.com\n",
      "bhartikaushalmanoj2@gmail.com\n",
      "somu4011@gmail.com\n",
      "rohitkumartiwari.333@gmail.com\n",
      "roshan97kgp@gmail.com\n",
      "ankur.ankit3@gmail.com\n",
      "vipul.modak26@gmail.com\n",
      "astha.chgs@gmail.com\n",
      "duddusrichandra@gmail.com\n",
      "aashirwad.333@gmail.com\n",
      "shubhamsonu084@gmail.com\n",
      "somveerjakhar51@gmail.com\n",
      "anindra.726@gmail.com\n",
      "patel.remee26@gmail.com\n",
      "gyandarshan.iitkgp@gmail.com\n",
      "manvi.iitkgp@gmail.com\n",
      "vidyasree6996@gmail.com\n",
      "er.piyush.haldiniya@gmail.com\n",
      "vaibhavgoyal227@gmail.com\n",
      "kumar.srinivas315@gmail.com\n",
      "MANU96MEENA@GMAIL.COM\n",
      "arvindkumargautam2013@gmail.com\n",
      "reddi123lokesh@gmail.com\n",
      "richas296@gmail.com\n",
      "chandudchamp@gmail.com\n",
      "tangudujagadeesh1729@gmail.com\n",
      "akshaymeenaiitkgp@gmail.com\n",
      "amishasah6@gmail.com\n",
      "ankitsinghnunia122@gmail.com\n",
      "anujpatel.0412@gmail.com\n",
      "shabbysink@gmail.com\n",
      "ashutosh.7114@gmail.com\n",
      "mulagalapadmavathi@gmail.com\n",
      "jaswanthr01@gmail.com\n",
      "p.saisowgandh@gmail.com\n",
      "nawazishparwez001@gmail.com\n",
      "kumar.aradhana@gmail.com\n",
      "architsinghfeb96@gmail.com\n",
      "mailforveda@gmail.com\n",
      "rahul6061kgp@gmail.com\n",
      "piyushjena@yahoo.co.in\n",
      "manish.ayushman8@gmail.com\n",
      "jayachandrakanakamedala@gmail.com\n",
      "rounak123@live.com\n",
      "yagnic1997@gmail.com\n",
      "bindumadhavikasina@gmail.com\n",
      "kaushalshah1894@gmail.com\n",
      "sunayan.dalal@gmail.com\n",
      "israrulhaque24@gmail.com\n",
      "saini.swastik@gmail.com\n",
      "ksuman.d3@gmail.com\n",
      "abhinavkverma47@gmail.com\n",
      "sanu.arnab@gmail.com\n",
      "mahadevvone@gmail.com\n",
      "bukkeharsha@gmail.com\n",
      "shubham.soni.iit@gmail.com\n",
      "chongdarupamanyu@gmail.com\n",
      "wasnik.nikesh@rediffmail.com\n",
      "rajarshisaha95@gmail.com\n",
      "anjaliy119@gmail.com\n",
      "mayur12025gh@gmail.com\n",
      "bogaanil.009@gmail.com\n",
      "charu.96.14@gmail.com\n",
      "saikashyp@gmail.com\n",
      "gprerit96@gmail.com\n",
      "raghavsonavane@gmail.com\n",
      "babarwal.ritesh@gmail.com\n",
      "ritwikachowdhury1995@gmail.com\n",
      "shashankv507@gmail.com\n",
      "somiitkgp94@gmail.com\n",
      "akhilesh050203@gmail.com\n",
      "tejasytl@gmail.com\n",
      "venkat.nithin12@gmail.com\n",
      "sm.sandeep.sm@gmail.com\n",
      "vinjain96@gmail.com\n",
      "vishusidana95@gmail.com\n",
      "atul.bansal49@gmail.com\n",
      "preethamks2016@gmail.com\n",
      "shaswatdatta@hotmail.com\n",
      "siddharthjha@outlook.com\n",
      "sayan.samanta26@gmail.com\n",
      "csuthar00@gmail.com\n",
      "arpanbzs@gmail.com\n",
      "srikarvarma123@gmail.com\n",
      "jprajapati0434@gmail.com\n",
      "soniritesh1996@gmail.com\n",
      "ritikjain247@gmail.com\n",
      "suraj9321@gmail.com\n",
      "suryajeet945@gmail.com\n",
      "sushant.dhb1101@gmail.com\n",
      "rao.prashanth4@gmail.com\n",
      "aarushiagrawal1995@gmail.com\n",
      "123am007@gmail.com\n",
      "agrwlksh1@gmail.com\n",
      "amlan199shil@gmail.com\n",
      "arpitbansal297@gmail.com\n",
      "BUDDHA.VAMSI212@GMAIL.COM\n",
      "devkedia.iitkgp@gmail.com\n",
      "hrishikeshmenon96@gmail.com\n",
      "saihemanth.kng@gmail.com\n",
      "singh.mragank@gmail.com\n",
      "amey.pawar137@gmail.com\n",
      "srb.malviya23@gmail.com\n",
      "ssagar.student@gmail.com\n",
      "shubhamnegi1990@gmail.com\n",
      "mauryakpankaj@gmail.com\n",
      "gigyasujain@gmail.com\n",
      "dkuntal9@gmail.com\n",
      "sg36.sagargupta26@gmail.com\n",
      "sitaramsaini2502@gmail.com\n",
      "vikashbhardwaj1995@gmail.com\n",
      "dhritimanhaldar.iitkgp@gmail.com\n",
      "athityakumar@gmail.com\n",
      "praveenanand2050@gmail.com\n",
      "sohamsaha@gmail.com\n",
      "kuldeepb52@gmail.com\n",
      "sumitdas1510@gmail.com\n",
      "srkr.d1996@gmail.com\n",
      "aaviseq@gmail.com\n",
      "thegreatasheeshanand@gmail.com\n",
      "nikhilvinayakjoshi@gmail.com\n",
      "naikkaustubh100@gmail.com\n",
      "kshitijgauravverma@gmail.com\n",
      "sagarsaren230696@gmail.com\n",
      "u.p.saurabh15@gmail.com\n",
      "patelpurav01@gmail.com\n",
      "ykumar670@gmail.com\n",
      "yash.bhardwaj.11663@gmail.com\n",
      "anjumshareef8696@gmail.com\n",
      "ayush.kgp14@gmail.com\n",
      "vidhatabharat8@gmail.com\n",
      "meetaashay3@gmail.com\n",
      "ddhirajkc@gmail.com\n",
      "narkhede_kunal@yahoo.com\n",
      "nkhatedi@gmail.com\n",
      "ravishranjan15@gmail.com\n",
      "sumanshsharaf@gmail.com\n",
      "sumitsingh160895@gmail.com\n",
      "umeshanandeesh@gmail.com\n",
      "shreedharsahoo226@gmail.com\n",
      "shubh.agrawal111@gmail.com\n",
      "smartarun95@gmail.com\n",
      "arvindss1997@gmail.com\n",
      "phanisantosh9797@gmail.com\n",
      "deepanshukaurav0110@gmail.com\n",
      "kpagrahari1008@gmail.com\n",
      "saichandgubbala@gmail.com\n",
      "mjhajharia10@gmail.com\n",
      "manojshikhar.iit@gmail.com\n",
      "thenileshpaliwal@gmail.com\n",
      "raghuramkishoreparupudi@gmail.com\n",
      "apapapap44@gmail.com\n",
      "souravbansal31@gmail.com\n",
      "CHATTARAJSOURAV52@GMAIL.COM\n",
      "subratamech.iitkgp@gmail.com\n",
      "utkarshraj22@gmail.com\n",
      "svyas1996@gmail.com\n",
      "yuvi2497@gmail.com\n",
      "hrishyanks@gmail.com\n",
      "harsha.chintada@gmail.com\n",
      "thotapavan525@gmail.com\n",
      "thakur.raghupati24@gmail.com\n",
      "kartavyabhagat14@gmail.com\n",
      "sureshgandhi2@gmail.com\n",
      "ayushg2812@gmail.com\n",
      "debanjan2014nayak@gmail.com\n",
      "dyutimanbarman@gmail.com\n",
      "skmorankar@gmail.com\n",
      "vamsiroy7@gmail.com\n",
      "nikhil.nikhilwatson.swaraj@gmail.com\n",
      "sahilvs000@gmail.com\n",
      "SANKALP.APHARANDE@GMAIL.COM\n",
      "saurav.agarwal2525@gmail.com\n",
      "vishalg2235@gmail.com\n",
      "rakeshmartha27@gmail.com\n",
      "ashishvineet07@gmail.com\n",
      "bobdeaniket96@gmail.com\n",
      "jsrshanky@gmail.com\n",
      "abindevassia11595@gmail.com\n",
      "shyamsunder.gowd@gmail.com\n",
      "psarathi012@gmail.com\n",
      "mohanraobheesetti111@gmail.com\n",
      "rsanjana284@gmail.com\n",
      "adityakiran3711@gmail.com\n",
      "ujjwalranjan1@gmail.com\n",
      "shubhamjha1001@gmail.com\n",
      "rajabhishek06658@gmail.com\n",
      "harshasunandh919@gmail.com\n",
      "neeshantjoshi227@gmail.com\n",
      "pratyushsharma2000@gmail.com\n",
      "rahultripathi0609@gmail.com\n",
      "rohila.shivam2@gmail.com\n",
      "mayanksoni12197@gmail.com\n",
      "kshitiz.sharma.395@gmail.com\n",
      "DILIPCHOWHANROCKSTARDH@GMAIL.COM\n",
      "shivendragautam97@gmail.com\n",
      "gudipatianudeep@gmail.com\n",
      "rishiquckins@gmail.com\n",
      "yashaga98@gmail.com\n",
      "kuldeepkatiyar75@gmail.com\n",
      "asmitsachan@gmail.com\n",
      "kabirtowson@gmail.com\n",
      "yashjainjain1704@gmail.com\n",
      "jyotirmaysahoo2016@gmail.com\n",
      "harshithjada@gmail.com\n",
      "rntah9221@gmail.com\n",
      "narsireddy.iitkgp@gmail.com\n",
      "saharshpugalia@gmail.com\n",
      "sunilpatidar1997@gmail.com\n",
      "hsm.harvindersingh@gmail.com\n",
      "dgp.raja98@gmail.com\n",
      "supratimdhar21@yahoo.in\n",
      "tanmayverma53@yahoo.com\n",
      "rishavsharma338@gmail.com\n",
      "krantikiran.68@gmail.com\n",
      "saiaravind0000@gmail.com\n",
      "abiseikkumar@gmail.com\n",
      "kumar.tarun2772@gmail.com\n",
      "saur3180@gmail.com\n",
      "mallinayaswanthchowdary@gmail.com\n",
      "arifwinsome786@gmail.com\n",
      "mohithmajety864@gmail.com\n",
      "mondalsudipta052@gmail.com\n",
      "awesomecpk777@gmail.com\n",
      "saiganeshkondameedi@gmail.com\n",
      "ashishkg0022@gmail.com\n",
      "georgy.jacoba@gmail.com\n",
      "lsp.sandeep@gmail.com\n",
      "vsahu2.236@gmail.com\n",
      "piyushkedia4052@gmail.com\n",
      "mr.satyendraraj007@gmail.com\n",
      "ashesh132@yahoo.com\n",
      "vinitsingh911@gmail.com\n",
      "v.gambhir15@gmail.com\n",
      "anumalasaichandra@gmail.com\n",
      "akspandya.97@gmail.com\n",
      "paritosh1995sinha@gmail.com\n",
      "prakhar.gahalot13@gmail.com\n",
      "sanjeet029@gmail.com\n",
      "jayashreeadianand@yahoo.com\n",
      "nikhil.varimala@gmail.com\n",
      "nikhildharavath24@gmail.com\n",
      "koushikchowdhury2016@gmail.com\n",
      "nirmalya.panigrahi@gmail.com\n",
      "gorthisrikanth123@gmail.com\n",
      "praneet1997@gmail.com\n",
      "sumitraman4508@gmail.com\n",
      "sangramsinghrathod332@gmail.com\n",
      "dineshsahni6@gmail.com\n",
      "atulsingh.as89@gmail.com\n",
      "avinashiglesias@gmail.com\n",
      "adi129raj@gmail.com\n",
      "DK7696822@GMAIL.COM\n",
      "pathlavathsuresh932@gmail.com\n",
      "ldt7889@gmail.com\n",
      "prakhar2905@gmail.com\n",
      "vamshi2iitkgp@gmail.com\n",
      "giritej1998@gmail.com\n",
      "bhargavdindukurthi1@gmail.com\n",
      "siddharthagarwal786@gmail.com\n",
      "manishdas13@gmail.com\n",
      "saifsiddique.8@gmail.com\n",
      "SWAGATAM.HALDAR9@GMAIL.COM\n",
      "idrisislahim@gmail.com\n",
      "nagar.iitkgp@gmail.com\n",
      "vskreddy98@gmail.com\n",
      "kvmchool@gmail.com\n",
      "CHAUHANTARUN31@GMAIL.COM\n",
      "devanbhardwaj12@gmail.com\n",
      "christopher.sekaran2912@outlook.com\n",
      "phoenixchelsea40@gmail.com\n",
      "iamnkr1999@gmail.com\n",
      "kundannag98@gmail.com\n",
      "akhilesh712712@gmail.com\n",
      "milanpatidar327@gmail.com\n",
      "rishabhbansal1198@gmail.com\n",
      "rrtabletennis@gmail.com\n",
      "nyn05091998@gmail.com\n",
      "kk.neeife@gmail.com\n",
      "mandigaaravind@gmail.com\n",
      "rahulbhagel136@gmail.com\n",
      "rana.prathap.simh@gmail.com\n",
      "sahaabhi09@gmail.com\n",
      "goelrajat53@yahoo.com\n",
      "rishabhdeepsingh98@gmail.com\n",
      "uma051169@gmail.com\n",
      "jainakshay0905@gmail.com\n",
      "manideepureddy9999@gmail.com\n",
      "dchampankit@gmail.com\n",
      "waltharerohit@gmail.com\n",
      "sauvikpal1998@gmail.com\n",
      "hrushikeshchambhare@gmail.com\n",
      "prajapatigurdeep198@gmail.com\n",
      "r.aditya0824@gmail.com\n",
      "adityo.ghosh.30@gmail.com\n",
      "sayantanroy1801@gmail.com\n",
      "vipul999ujawane@gmail.com\n",
      "bhargav.fabregas@gmail.com\n",
      "rajeev.prathap@gmail.com\n",
      "abhishek.bagati@gmail.com\n",
      "chavala.anilkumar42@gmail.com\n"
     ]
    },
    {
     "name": "stdout",
     "output_type": "stream",
     "text": [
      "nareshkumarmaloth@gmail.com\n",
      "abhaykumar764@gmail.com\n",
      "mrityunjoy759053@gmail.com\n",
      "singharunendra08@gmail.com\n",
      "psheoran097@gmail.com\n",
      "parthasaradhi2616@gmail.com\n",
      "rashidiitkgp@gmail.com\n",
      "surendrameena321@gmail.com\n",
      "harshitk11@gmail.com\n",
      "surajchikky@gmail.com\n",
      "srujan1997@gmail.com\n",
      "manishmukherjee12@gmail.com\n",
      "sparmar198@gmail.com\n",
      "aakash01iitkgp@gmail.com\n",
      "rajkumar.iitkgp1994@gmail.com\n",
      "abatra19620@gmail.com\n",
      "reetesh_n@hotmail.com\n",
      "gyanukgp235@gmail.com\n",
      "Amgothatulpawar1117@gmail.com\n",
      "surajkmr277@gmail.com\n",
      "aayushg97@gmail.com\n",
      "anubhav.raj2@gmail.com\n",
      "vivekgupta3.vg@gmail.com\n",
      "Sonu311296@gmail.com\n",
      "k.saurav87@yahoo.co.in\n",
      "kartikeysinghmms@gmail.com\n",
      "yadavritesh.1994@gmail.com\n",
      "kunalagarwal0705@gmail.com\n",
      "pkrishnapritish@gmail.com\n",
      "anandmooga2@gmail.com\n",
      "rajhimanshu1274@gmail.com\n",
      "anantxtreme80@gmail.com\n",
      "adityababel1997@gmail.com\n",
      "pranit.bauva@gmail.com\n",
      "judhajeet10@gmail.com\n",
      "avinashsiva52@gmail.com\n",
      "jsadhi05@gmail.com\n",
      "akashmondal1810@gmail.com\n",
      "navink.mmbbmg@gmail.com\n",
      "vidyadhariitkgp@gmail.com\n",
      "akshdeep97@gmail.com\n",
      "vaibhavupadhayay16@gmail.com\n",
      "agarwal.vitthal@gmail.com\n",
      "chrajeshkhanna82798@gmail.com\n",
      "bhattiiitian@gmail.com\n",
      "silence.swat007@gmail.com\n",
      "himanshumundhra98@gmail.com\n",
      "srivastavarvind07@gmail.com\n",
      "akash.bhd97@gmail.com\n",
      "sunnykumar.0706@gmail.com\n",
      "rakshit.v.15@gmail.com\n",
      "shreyank.shukla.rishu@gmail.com\n",
      "ritvik.pandey03@gmail.com\n",
      "nirajmishra4431@gmail.com\n",
      "sldhir123@yahoo.com\n",
      "akashkumargoyal2221@gmail.com\n",
      "anand.ojaswa@gmail.com\n",
      "dasmay93@gmail.com\n",
      "yashpalmittal91@gmail.com\n",
      "mthilakraj96@gmail.com\n",
      "mjk201@gmail.com\n",
      "suilunsa@gmail.com\n",
      "dwipayan24@gmail.com\n",
      "vijaysusheen@yahoo.com\n",
      "patelbhupendra177@yahoo.com\n",
      "subhampatwari5@gmail.com\n",
      "souravchirania@gmail.com\n",
      "sachin.uttarwar007@gmail.com\n",
      "rockstarprabin82@gmail.com\n",
      "vk992910@gmail.com\n",
      "srijanneogi1997@gmail.com\n",
      "puranchandyadav010479@gmail.com\n",
      "imanishmeenaa@gmail.com\n",
      "mohitgargjaipur@gmail.com\n",
      "pkmaddala2@gmail.com\n",
      "adithyasrikanth007@gmail.com\n",
      "karrunvel@gmail.com\n",
      "vipindev09011999@gmail.com\n",
      "rohitrajak1907@gmail.com\n",
      "studentpritamhira@gmail.com\n",
      "rishirajvishal63@gmail.com\n",
      "ibm.145094652@gmail.com\n",
      "kundandhul1999@gmail.com\n",
      "jharanjansameer@gmail.com\n",
      "shalemraju.chukka@gmail.com\n",
      "stetson0412@gmail.com\n",
      "aayush.mandal@gmail.com\n"
     ]
    }
   ],
   "source": [
    "#fixing users halls \n",
    "from django.contrib.auth.models import User\n",
    "from django.contrib.auth.models import Group\n",
    "import pandas as pd\n",
    "\n",
    "\n",
    "#loding new student list \n",
    "df = pd.read_csv(\"/home/defcon/2ndYearUpdated.csv\",keep_default_na=False)\n",
    "\n",
    "#making department groups\n",
    "depList = df.Dept.unique()\n",
    "for dep in depList :\n",
    "    grpName = \"dep_\" + dep.lower()\n",
    "#     print(f'\"{grpName}\":\"{grpName.split(\"_\")[-1].upper()} Department\",')\n",
    "    grp, created = Group.objects.get_or_create(name=grpName)\n",
    "    if created :\n",
    "        print(grpName + \"  group created\")\n",
    "\n",
    "#making hall groups\n",
    "hallList = df.Hall.unique()\n",
    "for hall in hallList : \n",
    "    grpName = \"hall_\" + hall.lower()\n",
    "#     print(f'\"{grpName}\":\"{grpName.split(\"_\")[-1].upper()} Hall\",')\n",
    "    grp,created = Group.objects.get_or_create(name=grpName)\n",
    "    if created :\n",
    "        print(grpName + \" hall created\")\n",
    "   \n",
    "#Creating student user objects\n",
    "for index, row in df.iterrows():\n",
    "    \n",
    "    #Getting first and last name\n",
    "    fullname = row[\"Name\"]\n",
    "    nameList = fullname.split(\" \")\n",
    "    if len(nameList) <= 1 : \n",
    "        fname = fullname\n",
    "        lname = \"\"\n",
    "    else : \n",
    "        lname = nameList.pop(-1)\n",
    "        fname = \" \".join(nameList)\n",
    "    \n",
    "    passwordString = \"123456\"\n",
    "    username = row[\"Rollno\"].upper().strip()\n",
    "    email = row[\"Email\"].strip()\n",
    "    \n",
    "    depGrp = Group.objects.get(name=\"dep_\"+ row['Dept'].lower())\n",
    "    hallGroup = Group.objects.get(name=\"hall_\"+ row['Hall'].lower())\n",
    "    studentGroup = Group.objects.get(name=\"student\")\n",
    "    \n",
    "    #checking if the user already exists\n",
    "    if User.objects.filter(username=username).exists():\n",
    "        usr = User.objects.get(username=username)\n",
    "        #Removing previous hall groups\n",
    "        for grp in usr.groups.all() :\n",
    "            if \"hall_\" in grp.name : \n",
    "                grp.user_set.remove(usr)\n",
    "        hallGroup.user_set.add(usr)\n",
    "    else : \n",
    "        try : \n",
    "            user = User.objects.create_user(username=username, first_name=fname, last_name=lname, password=passwordString,email=email)\n",
    "        except DataError as e:\n",
    "            print(e)\n",
    "            user = User.objects.create_user(username=username, first_name=fname.split(\" \")[0], last_name=lname, password=passwordString, email=email)\n",
    "        depGrp.user_set.add(user)\n",
    "        hallGroup.user_set.add(user)\n",
    "        studentGroup.user_set.add(user)\n",
    "        print(email)\n",
    "    "
   ]
  },
  {
   "cell_type": "code",
   "execution_count": 14,
   "metadata": {},
   "outputs": [
    {
     "name": "stdout",
     "output_type": "stream",
     "text": [
      "vsh_hp,N0BU9Q,VSH\n",
      "vsh_ssm,Y3T28Z,VSH\n",
      "vsh_gsec_socult,7AR8LW,VSH\n",
      "vsh_gsec_tech,JGHO1J,VSH\n",
      "vsh_gsec_sports,YJUHXX,VSH\n",
      "vsh_gsec_maintainance,WZOEOX,VSH\n",
      "vsh_gsec_wellfare,L8R3ZG,VSH\n",
      "vsh_mess,8C68L3,VSH\n",
      "hjb_hp,41N0Z8,HJB\n",
      "hjb_ssm,RRO5UK,HJB\n",
      "hjb_gsec_socult,IK1OQD,HJB\n",
      "hjb_gsec_tech,E8WN55,HJB\n",
      "hjb_gsec_sports,P6FV4B,HJB\n",
      "hjb_gsec_maintainance,5B2PD4,HJB\n",
      "hjb_gsec_wellfare,KMQ7KW,HJB\n",
      "hjb_mess,DVPONZ,HJB\n",
      "llr_hp,AOM85H,LLR\n",
      "llr_ssm,OOZNSO,LLR\n",
      "llr_gsec_socult,4XZMQW,LLR\n",
      "llr_gsec_tech,9VS9UZ,LLR\n",
      "llr_gsec_sports,LH8QXW,LLR\n",
      "llr_gsec_maintainance,EPRNQN,LLR\n",
      "llr_gsec_wellfare,Y1D9ZC,LLR\n",
      "llr_mess,CZIZNM,LLR\n",
      "jcb_hp,UNUTW1,JCB\n",
      "jcb_ssm,P3ZJBC,JCB\n",
      "jcb_gsec_socult,PTH2VZ,JCB\n",
      "jcb_gsec_tech,QAN87K,JCB\n",
      "jcb_gsec_sports,NO37ZA,JCB\n",
      "jcb_gsec_maintainance,H41XJT,JCB\n",
      "jcb_gsec_wellfare,ZBVPRQ,JCB\n",
      "jcb_mess,S68IHB,JCB\n",
      "msh_hp,JJUT8R,MSH\n",
      "msh_ssm,P5803I,MSH\n",
      "msh_gsec_socult,VDA6KH,MSH\n",
      "msh_gsec_tech,54IYLY,MSH\n",
      "msh_gsec_sports,6SQWCM,MSH\n",
      "msh_gsec_maintainance,AAO03D,MSH\n",
      "msh_gsec_wellfare,4FEEH4,MSH\n",
      "msh_mess,HQ0CTK,MSH\n",
      "brh_hp,HXG5GM,BRH\n",
      "brh_ssm,UYSHMB,BRH\n",
      "brh_gsec_socult,I7IHR6,BRH\n",
      "brh_gsec_tech,TYVQWP,BRH\n",
      "brh_gsec_sports,PQYSQT,BRH\n",
      "brh_gsec_maintainance,QRB0SX,BRH\n",
      "brh_gsec_wellfare,DBYP0H,BRH\n",
      "brh_mess,700G8P,BRH\n",
      "qtr_hp,PXELS2,QTR\n",
      "qtr_ssm,MY3D9U,QTR\n",
      "qtr_gsec_socult,10HPIJ,QTR\n",
      "qtr_gsec_tech,NL83QU,QTR\n",
      "qtr_gsec_sports,D7M0RX,QTR\n",
      "qtr_gsec_maintainance,ZQNCHF,QTR\n",
      "qtr_gsec_wellfare,JNK3L1,QTR\n",
      "qtr_mess,QKE0VH,QTR\n"
     ]
    }
   ],
   "source": [
    "#creating new hall user csv file\n",
    "import pandas as pd\n",
    "from django.contrib.auth.models import User\n",
    "from django.contrib.auth.models import Group\n",
    "from django.conf import settings\n",
    "df = pd.read_csv(\"/home/defcon/2ndYearUpdated.csv\",keep_default_na=False)\n",
    "hallList = df.Hall.unique()\n",
    "hallMemeberList = [\"hp\",\"ssm\", \"gsec_socult\", \"gsec_tech\", \"gsec_sports\", \"gsec_maintainance\", \"gsec_wellfare\", \"mess\"]\n",
    "# hallMemeberList = [\"mess\"]\n",
    "for hall in hallList : \n",
    "    if hall == \"SN/IG\" : \n",
    "        hall = \"SNIG\"\n",
    "    for mem in hallMemeberList : \n",
    "        username = hall.lower().strip() + \"_\" + mem\n",
    "        password = generateRandomPassword()\n",
    "        \n",
    "        if not User.objects.filter(username=username).exists():\n",
    "            if hall == \"SNIG\" :\n",
    "                hallgroup=Group.objects.get(name=\"hall_\" + hall.lower().strip())\n",
    "            else : \n",
    "                hallgroup=Group.objects.get(name=\"hall_\" + \"sn/ig\".strip())\n",
    "            attendanceTakerGroup = Group.objects.get(name=settings.ATTENDANCE_TAKER_GROUP_NAME)\n",
    "            user = User.objects.create_user(username=username, password=password)\n",
    "            print(f\"{username},{password},{hall}\")\n",
    "            hallgroup.user_set.add(user)\n",
    "            attendanceTakerGroup.user_set.add(user)\n",
    "#         with open('/Users/defcon/hallcouncil.csv', \"a\") as f : \n",
    "#             f.write(f\"{username},{password},{dep}\\n\")"
   ]
  },
  {
   "cell_type": "code",
   "execution_count": 18,
   "metadata": {},
   "outputs": [
    {
     "name": "stdout",
     "output_type": "stream",
     "text": [
      "1\n",
      "2\n",
      "3\n",
      "4\n",
      "5\n",
      "6\n",
      "7\n",
      "8\n",
      "9\n",
      "10\n"
     ]
    }
   ],
   "source": [
    "#creating helpers with gymkhana gsec rights\n",
    "from django.contrib.auth.models import User\n",
    "from django.contrib.auth.models import Group\n",
    "from django.conf import settings\n",
    "for i in range(1,11) :\n",
    "    username = \"helper\" + str(i)\n",
    "    password = \"123\"\n",
    "    user = User.objects.create_user(username=username, password=password)\n",
    "    gymkGroup=Group.objects.get(name=\"gymkhanaGsec\")\n",
    "    attendanceTakerGroup = Group.objects.get(name=settings.ATTENDANCE_TAKER_GROUP_NAME)\n",
    "    gymkGroup.user_set.add(user)\n",
    "    attendanceTakerGroup.user_set.add(user)\n",
    "    print(i)"
   ]
  },
  {
   "cell_type": "code",
   "execution_count": 2,
   "metadata": {},
   "outputs": [],
   "source": [
    "from django.contrib.auth.models import User\n",
    "from django.contrib.auth.models import Group\n",
    "\n",
    "snigGroup = Group.objects.get(name=\"hall_sn/ig\")\n",
    "hallMemeberList = [\"hp\",\"ssm\", \"gsec_socult\", \"gsec_tech\", \"gsec_sports\", \"gsec_maintainance\", \"gsec_wellfare\", \"mess\"]\n",
    "hallList = [\"vsh\",\"hjb\",\"llr\",\"jcb\",\"msh\",\"brh\",\"qtr\"]\n",
    "\n",
    "for hall in hallList : \n",
    "    for mem in hallMemeberList :\n",
    "        username = hall +\"_\" + mem\n",
    "        user = User.objects.get(username = username)\n",
    "        hallGroup = Group.objects.get(name=\"hall_\" + hall)\n",
    "        snigGroup.user_set.remove(user)\n",
    "        hallGroup.user_set.add(user)"
   ]
  },
  {
   "cell_type": "code",
   "execution_count": null,
   "metadata": {},
   "outputs": [],
   "source": []
  }
 ],
 "metadata": {
  "kernelspec": {
   "display_name": "Django Shell-Plus",
   "language": "python",
   "name": "django_extensions"
  },
  "language_info": {
   "codemirror_mode": {
    "name": "ipython",
    "version": 3
   },
   "file_extension": ".py",
   "mimetype": "text/x-python",
   "name": "python",
   "nbconvert_exporter": "python",
   "pygments_lexer": "ipython3",
   "version": "3.7.0"
  }
 },
 "nbformat": 4,
 "nbformat_minor": 2
}
